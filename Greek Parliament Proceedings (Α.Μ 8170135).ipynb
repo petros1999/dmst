{
 "cells": [
  {
   "cell_type": "markdown",
   "metadata": {},
   "source": [
    "# Greek Parliament Proceedings (Α.Μ 8170135)"
   ]
  },
  {
   "cell_type": "code",
   "execution_count": 1,
   "metadata": {},
   "outputs": [],
   "source": [
    "import pandas as pd\n",
    "import seaborn as sb\n",
    "import numpy as np\n",
    "import matplotlib.pyplot as plt\n",
    "import matplotlib\n",
    "import re\n",
    "from collections import defaultdict\n",
    "%matplotlib inline\n",
    "matplotlib.style.use('ggplot')\n",
    "pd.set_option(\"display.max_columns\", None)"
   ]
  },
  {
   "cell_type": "markdown",
   "metadata": {},
   "source": [
    "## Data Selection and Preparation"
   ]
  },
  {
   "cell_type": "markdown",
   "metadata": {},
   "source": [
    "## To start let's import our dataset"
   ]
  },
  {
   "cell_type": "code",
   "execution_count": 2,
   "metadata": {},
   "outputs": [],
   "source": [
    "greek_par0 = pd.read_csv('Greek_Parliament_Proceedings_1989_2019.csv.zip')"
   ]
  },
  {
   "cell_type": "code",
   "execution_count": 3,
   "metadata": {},
   "outputs": [
    {
     "data": {
      "text/html": [
       "<div>\n",
       "<style scoped>\n",
       "    .dataframe tbody tr th:only-of-type {\n",
       "        vertical-align: middle;\n",
       "    }\n",
       "\n",
       "    .dataframe tbody tr th {\n",
       "        vertical-align: top;\n",
       "    }\n",
       "\n",
       "    .dataframe thead th {\n",
       "        text-align: right;\n",
       "    }\n",
       "</style>\n",
       "<table border=\"1\" class=\"dataframe\">\n",
       "  <thead>\n",
       "    <tr style=\"text-align: right;\">\n",
       "      <th></th>\n",
       "      <th>member_name</th>\n",
       "      <th>sitting_date</th>\n",
       "      <th>parliamentary_period</th>\n",
       "      <th>parliamentary_session</th>\n",
       "      <th>parliamentary_sitting</th>\n",
       "      <th>political_party</th>\n",
       "      <th>speaker_info</th>\n",
       "      <th>speech</th>\n",
       "    </tr>\n",
       "  </thead>\n",
       "  <tbody>\n",
       "    <tr>\n",
       "      <th>0</th>\n",
       "      <td>κρητικος νικολαου παναγιωτης</td>\n",
       "      <td>1989-07-03</td>\n",
       "      <td>period 5</td>\n",
       "      <td>session 1</td>\n",
       "      <td>sitting 1</td>\n",
       "      <td>πανελληνιο σοσιαλιστικο κινημα</td>\n",
       "      <td>προεδρευων</td>\n",
       "      <td>Παρακαλείται ο Γραμματέας κ. Βουλγαράκης να σ...</td>\n",
       "    </tr>\n",
       "    <tr>\n",
       "      <th>1</th>\n",
       "      <td>κρητικος νικολαου παναγιωτης</td>\n",
       "      <td>1989-07-03</td>\n",
       "      <td>period 5</td>\n",
       "      <td>session 1</td>\n",
       "      <td>sitting 1</td>\n",
       "      <td>πανελληνιο σοσιαλιστικο κινημα</td>\n",
       "      <td>προεδρευων</td>\n",
       "      <td>Παρακαλείται ο κύριος Γραμματέας να συνοδεύσε...</td>\n",
       "    </tr>\n",
       "    <tr>\n",
       "      <th>2</th>\n",
       "      <td>κρητικος νικολαου παναγιωτης</td>\n",
       "      <td>1989-07-03</td>\n",
       "      <td>period 5</td>\n",
       "      <td>session 1</td>\n",
       "      <td>sitting 1</td>\n",
       "      <td>πανελληνιο σοσιαλιστικο κινημα</td>\n",
       "      <td>προεδρευων</td>\n",
       "      <td>Κύριοι συνάδελφοι, παρακαλώ τη Βουλή να εξουσ...</td>\n",
       "    </tr>\n",
       "    <tr>\n",
       "      <th>3</th>\n",
       "      <td>NaN</td>\n",
       "      <td>1989-07-03</td>\n",
       "      <td>period 5</td>\n",
       "      <td>session 1</td>\n",
       "      <td>sitting 1</td>\n",
       "      <td>βουλη</td>\n",
       "      <td>βουλευτης/ες</td>\n",
       "      <td>Μάλιστα, μάλιστα.</td>\n",
       "    </tr>\n",
       "    <tr>\n",
       "      <th>4</th>\n",
       "      <td>κρητικος νικολαου παναγιωτης</td>\n",
       "      <td>1989-07-03</td>\n",
       "      <td>period 5</td>\n",
       "      <td>session 1</td>\n",
       "      <td>sitting 1</td>\n",
       "      <td>πανελληνιο σοσιαλιστικο κινημα</td>\n",
       "      <td>προεδρευων</td>\n",
       "      <td>Η Βουλή παρέσχε τη ζητηθείσα εξουσιοδότηση. Μ...</td>\n",
       "    </tr>\n",
       "    <tr>\n",
       "      <th>...</th>\n",
       "      <td>...</td>\n",
       "      <td>...</td>\n",
       "      <td>...</td>\n",
       "      <td>...</td>\n",
       "      <td>...</td>\n",
       "      <td>...</td>\n",
       "      <td>...</td>\n",
       "      <td>...</td>\n",
       "    </tr>\n",
       "    <tr>\n",
       "      <th>1194402</th>\n",
       "      <td>συντυχακης δανιηλ εμμανουηλ</td>\n",
       "      <td>2019-02-22</td>\n",
       "      <td>period 17 presided parliamentary republic</td>\n",
       "      <td>session 4</td>\n",
       "      <td>sitting 82</td>\n",
       "      <td>κομμουνιστικο κομμα ελλαδας</td>\n",
       "      <td>NaN</td>\n",
       "      <td>Κύριε Πρόεδρε, οι καταστροφές προφανώς δεν ήτ...</td>\n",
       "    </tr>\n",
       "    <tr>\n",
       "      <th>1194403</th>\n",
       "      <td>κακλαμανης μιχαηλ νικητας</td>\n",
       "      <td>2019-02-22</td>\n",
       "      <td>period 17 presided parliamentary republic</td>\n",
       "      <td>session 4</td>\n",
       "      <td>sitting 82</td>\n",
       "      <td>νεα δημοκρατια</td>\n",
       "      <td>προεδρευων</td>\n",
       "      <td>Ορίστε, κύριε Υπουργέ, έχετε τον λόγο.</td>\n",
       "    </tr>\n",
       "    <tr>\n",
       "      <th>1194404</th>\n",
       "      <td>κακλαμανης μιχαηλ νικητας</td>\n",
       "      <td>2019-02-22</td>\n",
       "      <td>period 17 presided parliamentary republic</td>\n",
       "      <td>session 4</td>\n",
       "      <td>sitting 82</td>\n",
       "      <td>νεα δημοκρατια</td>\n",
       "      <td>προεδρευων</td>\n",
       "      <td>Αρκεί και το κεντρικό κράτος, κύριε Υπουργέ, ...</td>\n",
       "    </tr>\n",
       "    <tr>\n",
       "      <th>1194405</th>\n",
       "      <td>NaN</td>\n",
       "      <td>2019-02-22</td>\n",
       "      <td>period 17 presided parliamentary republic</td>\n",
       "      <td>session 4</td>\n",
       "      <td>sitting 82</td>\n",
       "      <td>βουλη</td>\n",
       "      <td>βουλευτης/ες</td>\n",
       "      <td>Μάλιστα, μάλιστα.</td>\n",
       "    </tr>\n",
       "    <tr>\n",
       "      <th>1194406</th>\n",
       "      <td>κακλαμανης μιχαηλ νικητας</td>\n",
       "      <td>2019-02-22</td>\n",
       "      <td>period 17 presided parliamentary republic</td>\n",
       "      <td>session 4</td>\n",
       "      <td>sitting 82</td>\n",
       "      <td>νεα δημοκρατια</td>\n",
       "      <td>προεδρευων</td>\n",
       "      <td>Με τη συναίνεση του Σώματος και ώρα 11.25΄ λύ...</td>\n",
       "    </tr>\n",
       "  </tbody>\n",
       "</table>\n",
       "<p>1194407 rows × 8 columns</p>\n",
       "</div>"
      ],
      "text/plain": [
       "                          member_name sitting_date  \\\n",
       "0        κρητικος νικολαου παναγιωτης   1989-07-03   \n",
       "1        κρητικος νικολαου παναγιωτης   1989-07-03   \n",
       "2        κρητικος νικολαου παναγιωτης   1989-07-03   \n",
       "3                                 NaN   1989-07-03   \n",
       "4        κρητικος νικολαου παναγιωτης   1989-07-03   \n",
       "...                               ...          ...   \n",
       "1194402   συντυχακης δανιηλ εμμανουηλ   2019-02-22   \n",
       "1194403     κακλαμανης μιχαηλ νικητας   2019-02-22   \n",
       "1194404     κακλαμανης μιχαηλ νικητας   2019-02-22   \n",
       "1194405                           NaN   2019-02-22   \n",
       "1194406     κακλαμανης μιχαηλ νικητας   2019-02-22   \n",
       "\n",
       "                              parliamentary_period parliamentary_session  \\\n",
       "0                                         period 5             session 1   \n",
       "1                                         period 5             session 1   \n",
       "2                                         period 5             session 1   \n",
       "3                                         period 5             session 1   \n",
       "4                                         period 5             session 1   \n",
       "...                                            ...                   ...   \n",
       "1194402  period 17 presided parliamentary republic             session 4   \n",
       "1194403  period 17 presided parliamentary republic             session 4   \n",
       "1194404  period 17 presided parliamentary republic             session 4   \n",
       "1194405  period 17 presided parliamentary republic             session 4   \n",
       "1194406  period 17 presided parliamentary republic             session 4   \n",
       "\n",
       "        parliamentary_sitting                 political_party  speaker_info  \\\n",
       "0                   sitting 1  πανελληνιο σοσιαλιστικο κινημα    προεδρευων   \n",
       "1                   sitting 1  πανελληνιο σοσιαλιστικο κινημα    προεδρευων   \n",
       "2                   sitting 1  πανελληνιο σοσιαλιστικο κινημα    προεδρευων   \n",
       "3                   sitting 1                           βουλη  βουλευτης/ες   \n",
       "4                   sitting 1  πανελληνιο σοσιαλιστικο κινημα    προεδρευων   \n",
       "...                       ...                             ...           ...   \n",
       "1194402            sitting 82     κομμουνιστικο κομμα ελλαδας           NaN   \n",
       "1194403            sitting 82                  νεα δημοκρατια    προεδρευων   \n",
       "1194404            sitting 82                  νεα δημοκρατια    προεδρευων   \n",
       "1194405            sitting 82                           βουλη  βουλευτης/ες   \n",
       "1194406            sitting 82                  νεα δημοκρατια    προεδρευων   \n",
       "\n",
       "                                                    speech  \n",
       "0         Παρακαλείται ο Γραμματέας κ. Βουλγαράκης να σ...  \n",
       "1         Παρακαλείται ο κύριος Γραμματέας να συνοδεύσε...  \n",
       "2         Κύριοι συνάδελφοι, παρακαλώ τη Βουλή να εξουσ...  \n",
       "3                                        Μάλιστα, μάλιστα.  \n",
       "4         Η Βουλή παρέσχε τη ζητηθείσα εξουσιοδότηση. Μ...  \n",
       "...                                                    ...  \n",
       "1194402   Κύριε Πρόεδρε, οι καταστροφές προφανώς δεν ήτ...  \n",
       "1194403             Ορίστε, κύριε Υπουργέ, έχετε τον λόγο.  \n",
       "1194404   Αρκεί και το κεντρικό κράτος, κύριε Υπουργέ, ...  \n",
       "1194405                                  Μάλιστα, μάλιστα.  \n",
       "1194406   Με τη συναίνεση του Σώματος και ώρα 11.25΄ λύ...  \n",
       "\n",
       "[1194407 rows x 8 columns]"
      ]
     },
     "execution_count": 3,
     "metadata": {},
     "output_type": "execute_result"
    }
   ],
   "source": [
    "greek_par0"
   ]
  },
  {
   "cell_type": "markdown",
   "metadata": {},
   "source": [
    "## And continue with cleansing, starting by dropping rows that lack the informations we need"
   ]
  },
  {
   "cell_type": "code",
   "execution_count": 4,
   "metadata": {},
   "outputs": [
    {
     "data": {
      "text/html": [
       "<div>\n",
       "<style scoped>\n",
       "    .dataframe tbody tr th:only-of-type {\n",
       "        vertical-align: middle;\n",
       "    }\n",
       "\n",
       "    .dataframe tbody tr th {\n",
       "        vertical-align: top;\n",
       "    }\n",
       "\n",
       "    .dataframe thead th {\n",
       "        text-align: right;\n",
       "    }\n",
       "</style>\n",
       "<table border=\"1\" class=\"dataframe\">\n",
       "  <thead>\n",
       "    <tr style=\"text-align: right;\">\n",
       "      <th></th>\n",
       "      <th>member_name</th>\n",
       "      <th>sitting_date</th>\n",
       "      <th>parliamentary_period</th>\n",
       "      <th>parliamentary_session</th>\n",
       "      <th>parliamentary_sitting</th>\n",
       "      <th>political_party</th>\n",
       "      <th>speaker_info</th>\n",
       "      <th>speech</th>\n",
       "    </tr>\n",
       "  </thead>\n",
       "  <tbody>\n",
       "    <tr>\n",
       "      <th>0</th>\n",
       "      <td>κρητικος νικολαου παναγιωτης</td>\n",
       "      <td>1989-07-03</td>\n",
       "      <td>period 5</td>\n",
       "      <td>session 1</td>\n",
       "      <td>sitting 1</td>\n",
       "      <td>πανελληνιο σοσιαλιστικο κινημα</td>\n",
       "      <td>προεδρευων</td>\n",
       "      <td>Παρακαλείται ο Γραμματέας κ. Βουλγαράκης να σ...</td>\n",
       "    </tr>\n",
       "    <tr>\n",
       "      <th>1</th>\n",
       "      <td>κρητικος νικολαου παναγιωτης</td>\n",
       "      <td>1989-07-03</td>\n",
       "      <td>period 5</td>\n",
       "      <td>session 1</td>\n",
       "      <td>sitting 1</td>\n",
       "      <td>πανελληνιο σοσιαλιστικο κινημα</td>\n",
       "      <td>προεδρευων</td>\n",
       "      <td>Παρακαλείται ο κύριος Γραμματέας να συνοδεύσε...</td>\n",
       "    </tr>\n",
       "    <tr>\n",
       "      <th>2</th>\n",
       "      <td>κρητικος νικολαου παναγιωτης</td>\n",
       "      <td>1989-07-03</td>\n",
       "      <td>period 5</td>\n",
       "      <td>session 1</td>\n",
       "      <td>sitting 1</td>\n",
       "      <td>πανελληνιο σοσιαλιστικο κινημα</td>\n",
       "      <td>προεδρευων</td>\n",
       "      <td>Κύριοι συνάδελφοι, παρακαλώ τη Βουλή να εξουσ...</td>\n",
       "    </tr>\n",
       "    <tr>\n",
       "      <th>3</th>\n",
       "      <td>κρητικος νικολαου παναγιωτης</td>\n",
       "      <td>1989-07-03</td>\n",
       "      <td>period 5</td>\n",
       "      <td>session 1</td>\n",
       "      <td>sitting 1</td>\n",
       "      <td>πανελληνιο σοσιαλιστικο κινημα</td>\n",
       "      <td>προεδρευων</td>\n",
       "      <td>Η Βουλή παρέσχε τη ζητηθείσα εξουσιοδότηση. Μ...</td>\n",
       "    </tr>\n",
       "    <tr>\n",
       "      <th>4</th>\n",
       "      <td>κρητικος νικολαου παναγιωτης</td>\n",
       "      <td>1989-07-04</td>\n",
       "      <td>period 5</td>\n",
       "      <td>session 1</td>\n",
       "      <td>sitting 2</td>\n",
       "      <td>πανελληνιο σοσιαλιστικο κινημα</td>\n",
       "      <td>προεδρευων</td>\n",
       "      <td>Υπάρχει κανείς εκ των κυρίων συναδέλφων, ο οπ...</td>\n",
       "    </tr>\n",
       "    <tr>\n",
       "      <th>...</th>\n",
       "      <td>...</td>\n",
       "      <td>...</td>\n",
       "      <td>...</td>\n",
       "      <td>...</td>\n",
       "      <td>...</td>\n",
       "      <td>...</td>\n",
       "      <td>...</td>\n",
       "      <td>...</td>\n",
       "    </tr>\n",
       "    <tr>\n",
       "      <th>1147065</th>\n",
       "      <td>κακλαμανης μιχαηλ νικητας</td>\n",
       "      <td>2019-02-22</td>\n",
       "      <td>period 17 presided parliamentary republic</td>\n",
       "      <td>session 4</td>\n",
       "      <td>sitting 82</td>\n",
       "      <td>νεα δημοκρατια</td>\n",
       "      <td>προεδρευων</td>\n",
       "      <td>Τα υπόλοιπα στη δευτερολογία σας.Κύριε Συντυχ...</td>\n",
       "    </tr>\n",
       "    <tr>\n",
       "      <th>1147066</th>\n",
       "      <td>συντυχακης δανιηλ εμμανουηλ</td>\n",
       "      <td>2019-02-22</td>\n",
       "      <td>period 17 presided parliamentary republic</td>\n",
       "      <td>session 4</td>\n",
       "      <td>sitting 82</td>\n",
       "      <td>κομμουνιστικο κομμα ελλαδας</td>\n",
       "      <td>NaN</td>\n",
       "      <td>Κύριε Πρόεδρε, οι καταστροφές προφανώς δεν ήτ...</td>\n",
       "    </tr>\n",
       "    <tr>\n",
       "      <th>1147067</th>\n",
       "      <td>κακλαμανης μιχαηλ νικητας</td>\n",
       "      <td>2019-02-22</td>\n",
       "      <td>period 17 presided parliamentary republic</td>\n",
       "      <td>session 4</td>\n",
       "      <td>sitting 82</td>\n",
       "      <td>νεα δημοκρατια</td>\n",
       "      <td>προεδρευων</td>\n",
       "      <td>Ορίστε, κύριε Υπουργέ, έχετε τον λόγο.</td>\n",
       "    </tr>\n",
       "    <tr>\n",
       "      <th>1147068</th>\n",
       "      <td>κακλαμανης μιχαηλ νικητας</td>\n",
       "      <td>2019-02-22</td>\n",
       "      <td>period 17 presided parliamentary republic</td>\n",
       "      <td>session 4</td>\n",
       "      <td>sitting 82</td>\n",
       "      <td>νεα δημοκρατια</td>\n",
       "      <td>προεδρευων</td>\n",
       "      <td>Αρκεί και το κεντρικό κράτος, κύριε Υπουργέ, ...</td>\n",
       "    </tr>\n",
       "    <tr>\n",
       "      <th>1147069</th>\n",
       "      <td>κακλαμανης μιχαηλ νικητας</td>\n",
       "      <td>2019-02-22</td>\n",
       "      <td>period 17 presided parliamentary republic</td>\n",
       "      <td>session 4</td>\n",
       "      <td>sitting 82</td>\n",
       "      <td>νεα δημοκρατια</td>\n",
       "      <td>προεδρευων</td>\n",
       "      <td>Με τη συναίνεση του Σώματος και ώρα 11.25΄ λύ...</td>\n",
       "    </tr>\n",
       "  </tbody>\n",
       "</table>\n",
       "<p>1147070 rows × 8 columns</p>\n",
       "</div>"
      ],
      "text/plain": [
       "                          member_name sitting_date  \\\n",
       "0        κρητικος νικολαου παναγιωτης   1989-07-03   \n",
       "1        κρητικος νικολαου παναγιωτης   1989-07-03   \n",
       "2        κρητικος νικολαου παναγιωτης   1989-07-03   \n",
       "3        κρητικος νικολαου παναγιωτης   1989-07-03   \n",
       "4        κρητικος νικολαου παναγιωτης   1989-07-04   \n",
       "...                               ...          ...   \n",
       "1147065     κακλαμανης μιχαηλ νικητας   2019-02-22   \n",
       "1147066   συντυχακης δανιηλ εμμανουηλ   2019-02-22   \n",
       "1147067     κακλαμανης μιχαηλ νικητας   2019-02-22   \n",
       "1147068     κακλαμανης μιχαηλ νικητας   2019-02-22   \n",
       "1147069     κακλαμανης μιχαηλ νικητας   2019-02-22   \n",
       "\n",
       "                              parliamentary_period parliamentary_session  \\\n",
       "0                                         period 5             session 1   \n",
       "1                                         period 5             session 1   \n",
       "2                                         period 5             session 1   \n",
       "3                                         period 5             session 1   \n",
       "4                                         period 5             session 1   \n",
       "...                                            ...                   ...   \n",
       "1147065  period 17 presided parliamentary republic             session 4   \n",
       "1147066  period 17 presided parliamentary republic             session 4   \n",
       "1147067  period 17 presided parliamentary republic             session 4   \n",
       "1147068  period 17 presided parliamentary republic             session 4   \n",
       "1147069  period 17 presided parliamentary republic             session 4   \n",
       "\n",
       "        parliamentary_sitting                 political_party speaker_info  \\\n",
       "0                   sitting 1  πανελληνιο σοσιαλιστικο κινημα   προεδρευων   \n",
       "1                   sitting 1  πανελληνιο σοσιαλιστικο κινημα   προεδρευων   \n",
       "2                   sitting 1  πανελληνιο σοσιαλιστικο κινημα   προεδρευων   \n",
       "3                   sitting 1  πανελληνιο σοσιαλιστικο κινημα   προεδρευων   \n",
       "4                   sitting 2  πανελληνιο σοσιαλιστικο κινημα   προεδρευων   \n",
       "...                       ...                             ...          ...   \n",
       "1147065            sitting 82                  νεα δημοκρατια   προεδρευων   \n",
       "1147066            sitting 82     κομμουνιστικο κομμα ελλαδας          NaN   \n",
       "1147067            sitting 82                  νεα δημοκρατια   προεδρευων   \n",
       "1147068            sitting 82                  νεα δημοκρατια   προεδρευων   \n",
       "1147069            sitting 82                  νεα δημοκρατια   προεδρευων   \n",
       "\n",
       "                                                    speech  \n",
       "0         Παρακαλείται ο Γραμματέας κ. Βουλγαράκης να σ...  \n",
       "1         Παρακαλείται ο κύριος Γραμματέας να συνοδεύσε...  \n",
       "2         Κύριοι συνάδελφοι, παρακαλώ τη Βουλή να εξουσ...  \n",
       "3         Η Βουλή παρέσχε τη ζητηθείσα εξουσιοδότηση. Μ...  \n",
       "4         Υπάρχει κανείς εκ των κυρίων συναδέλφων, ο οπ...  \n",
       "...                                                    ...  \n",
       "1147065   Τα υπόλοιπα στη δευτερολογία σας.Κύριε Συντυχ...  \n",
       "1147066   Κύριε Πρόεδρε, οι καταστροφές προφανώς δεν ήτ...  \n",
       "1147067             Ορίστε, κύριε Υπουργέ, έχετε τον λόγο.  \n",
       "1147068   Αρκεί και το κεντρικό κράτος, κύριε Υπουργέ, ...  \n",
       "1147069   Με τη συναίνεση του Σώματος και ώρα 11.25΄ λύ...  \n",
       "\n",
       "[1147070 rows x 8 columns]"
      ]
     },
     "execution_count": 4,
     "metadata": {},
     "output_type": "execute_result"
    }
   ],
   "source": [
    "greek_par = greek_par0.dropna(subset=['member_name', 'political_party','speech'])\n",
    "greek_par = greek_par.reset_index(drop=True)\n",
    "greek_par"
   ]
  },
  {
   "cell_type": "markdown",
   "metadata": {},
   "source": [
    "### Continuing I'm going to keep speeches from the last 15 years in order to have affordable runtimes later on, and I'm dropping parties that have significantlly less speeches than others in order to have a more ballanced dataset"
   ]
  },
  {
   "cell_type": "code",
   "execution_count": 5,
   "metadata": {},
   "outputs": [],
   "source": [
    "greek_par['sitting_date'] = pd.to_datetime(greek_par['sitting_date'])"
   ]
  },
  {
   "cell_type": "code",
   "execution_count": 6,
   "metadata": {},
   "outputs": [],
   "source": [
    "greek_par = greek_par.loc[greek_par['sitting_date'].dt.year >= 2005]"
   ]
  },
  {
   "cell_type": "code",
   "execution_count": 7,
   "metadata": {},
   "outputs": [
    {
     "data": {
      "text/html": [
       "<div>\n",
       "<style scoped>\n",
       "    .dataframe tbody tr th:only-of-type {\n",
       "        vertical-align: middle;\n",
       "    }\n",
       "\n",
       "    .dataframe tbody tr th {\n",
       "        vertical-align: top;\n",
       "    }\n",
       "\n",
       "    .dataframe thead th {\n",
       "        text-align: right;\n",
       "    }\n",
       "</style>\n",
       "<table border=\"1\" class=\"dataframe\">\n",
       "  <thead>\n",
       "    <tr style=\"text-align: right;\">\n",
       "      <th></th>\n",
       "      <th>member_name</th>\n",
       "      <th>sitting_date</th>\n",
       "      <th>parliamentary_period</th>\n",
       "      <th>parliamentary_session</th>\n",
       "      <th>parliamentary_sitting</th>\n",
       "      <th>political_party</th>\n",
       "      <th>speaker_info</th>\n",
       "      <th>speech</th>\n",
       "    </tr>\n",
       "  </thead>\n",
       "  <tbody>\n",
       "    <tr>\n",
       "      <th>0</th>\n",
       "      <td>πιπεργιας παντελη δημητριος</td>\n",
       "      <td>2005-01-10</td>\n",
       "      <td>period 11 presided parliamentary republic</td>\n",
       "      <td>session 1 continuation of plenary session</td>\n",
       "      <td>sitting 90</td>\n",
       "      <td>πανελληνιο σοσιαλιστικο κινημα</td>\n",
       "      <td>NaN</td>\n",
       "      <td>Κυρίες και κύριοι συνάδελφοι, ένα γνωμικό ανα...</td>\n",
       "    </tr>\n",
       "    <tr>\n",
       "      <th>1</th>\n",
       "      <td>σουρλας ιωαννη γεωργιος</td>\n",
       "      <td>2005-01-10</td>\n",
       "      <td>period 11 presided parliamentary republic</td>\n",
       "      <td>session 1 continuation of plenary session</td>\n",
       "      <td>sitting 90</td>\n",
       "      <td>νεα δημοκρατια</td>\n",
       "      <td>προεδρευων</td>\n",
       "      <td>Θα πάρετε χρόνο δύο λεπτών από τη δευτερολογί...</td>\n",
       "    </tr>\n",
       "    <tr>\n",
       "      <th>2</th>\n",
       "      <td>πιπεργιας παντελη δημητριος</td>\n",
       "      <td>2005-01-10</td>\n",
       "      <td>period 11 presided parliamentary republic</td>\n",
       "      <td>session 1 continuation of plenary session</td>\n",
       "      <td>sitting 90</td>\n",
       "      <td>πανελληνιο σοσιαλιστικο κινημα</td>\n",
       "      <td>NaN</td>\n",
       "      <td>Μάλιστα, κύριε Πρόεδρε. Δεν θα παραλείψουμε ν...</td>\n",
       "    </tr>\n",
       "    <tr>\n",
       "      <th>3</th>\n",
       "      <td>σουρλας ιωαννη γεωργιος</td>\n",
       "      <td>2005-01-10</td>\n",
       "      <td>period 11 presided parliamentary republic</td>\n",
       "      <td>session 1 continuation of plenary session</td>\n",
       "      <td>sitting 90</td>\n",
       "      <td>νεα δημοκρατια</td>\n",
       "      <td>προεδρευων</td>\n",
       "      <td>Για να μην υπάρχει διακοπή, όταν αγορεύετε γι...</td>\n",
       "    </tr>\n",
       "    <tr>\n",
       "      <th>4</th>\n",
       "      <td>τσοχατζοπουλος ευαγγελου αποστολος-αθανασιος</td>\n",
       "      <td>2005-01-10</td>\n",
       "      <td>period 11 presided parliamentary republic</td>\n",
       "      <td>session 1 continuation of plenary session</td>\n",
       "      <td>sitting 90</td>\n",
       "      <td>πανελληνιο σοσιαλιστικο κινημα</td>\n",
       "      <td>NaN</td>\n",
       "      <td>Κύριε Πρόεδρε, κυρίες και κύριοι συνάδελφοι, ...</td>\n",
       "    </tr>\n",
       "    <tr>\n",
       "      <th>...</th>\n",
       "      <td>...</td>\n",
       "      <td>...</td>\n",
       "      <td>...</td>\n",
       "      <td>...</td>\n",
       "      <td>...</td>\n",
       "      <td>...</td>\n",
       "      <td>...</td>\n",
       "      <td>...</td>\n",
       "    </tr>\n",
       "    <tr>\n",
       "      <th>647421</th>\n",
       "      <td>κακλαμανης μιχαηλ νικητας</td>\n",
       "      <td>2019-02-22</td>\n",
       "      <td>period 17 presided parliamentary republic</td>\n",
       "      <td>session 4</td>\n",
       "      <td>sitting 82</td>\n",
       "      <td>νεα δημοκρατια</td>\n",
       "      <td>προεδρευων</td>\n",
       "      <td>Τα υπόλοιπα στη δευτερολογία σας.Κύριε Συντυχ...</td>\n",
       "    </tr>\n",
       "    <tr>\n",
       "      <th>647422</th>\n",
       "      <td>συντυχακης δανιηλ εμμανουηλ</td>\n",
       "      <td>2019-02-22</td>\n",
       "      <td>period 17 presided parliamentary republic</td>\n",
       "      <td>session 4</td>\n",
       "      <td>sitting 82</td>\n",
       "      <td>κομμουνιστικο κομμα ελλαδας</td>\n",
       "      <td>NaN</td>\n",
       "      <td>Κύριε Πρόεδρε, οι καταστροφές προφανώς δεν ήτ...</td>\n",
       "    </tr>\n",
       "    <tr>\n",
       "      <th>647423</th>\n",
       "      <td>κακλαμανης μιχαηλ νικητας</td>\n",
       "      <td>2019-02-22</td>\n",
       "      <td>period 17 presided parliamentary republic</td>\n",
       "      <td>session 4</td>\n",
       "      <td>sitting 82</td>\n",
       "      <td>νεα δημοκρατια</td>\n",
       "      <td>προεδρευων</td>\n",
       "      <td>Ορίστε, κύριε Υπουργέ, έχετε τον λόγο.</td>\n",
       "    </tr>\n",
       "    <tr>\n",
       "      <th>647424</th>\n",
       "      <td>κακλαμανης μιχαηλ νικητας</td>\n",
       "      <td>2019-02-22</td>\n",
       "      <td>period 17 presided parliamentary republic</td>\n",
       "      <td>session 4</td>\n",
       "      <td>sitting 82</td>\n",
       "      <td>νεα δημοκρατια</td>\n",
       "      <td>προεδρευων</td>\n",
       "      <td>Αρκεί και το κεντρικό κράτος, κύριε Υπουργέ, ...</td>\n",
       "    </tr>\n",
       "    <tr>\n",
       "      <th>647425</th>\n",
       "      <td>κακλαμανης μιχαηλ νικητας</td>\n",
       "      <td>2019-02-22</td>\n",
       "      <td>period 17 presided parliamentary republic</td>\n",
       "      <td>session 4</td>\n",
       "      <td>sitting 82</td>\n",
       "      <td>νεα δημοκρατια</td>\n",
       "      <td>προεδρευων</td>\n",
       "      <td>Με τη συναίνεση του Σώματος και ώρα 11.25΄ λύ...</td>\n",
       "    </tr>\n",
       "  </tbody>\n",
       "</table>\n",
       "<p>647426 rows × 8 columns</p>\n",
       "</div>"
      ],
      "text/plain": [
       "                                         member_name sitting_date  \\\n",
       "0                        πιπεργιας παντελη δημητριος   2005-01-10   \n",
       "1                            σουρλας ιωαννη γεωργιος   2005-01-10   \n",
       "2                        πιπεργιας παντελη δημητριος   2005-01-10   \n",
       "3                            σουρλας ιωαννη γεωργιος   2005-01-10   \n",
       "4       τσοχατζοπουλος ευαγγελου αποστολος-αθανασιος   2005-01-10   \n",
       "...                                              ...          ...   \n",
       "647421                     κακλαμανης μιχαηλ νικητας   2019-02-22   \n",
       "647422                   συντυχακης δανιηλ εμμανουηλ   2019-02-22   \n",
       "647423                     κακλαμανης μιχαηλ νικητας   2019-02-22   \n",
       "647424                     κακλαμανης μιχαηλ νικητας   2019-02-22   \n",
       "647425                     κακλαμανης μιχαηλ νικητας   2019-02-22   \n",
       "\n",
       "                             parliamentary_period  \\\n",
       "0       period 11 presided parliamentary republic   \n",
       "1       period 11 presided parliamentary republic   \n",
       "2       period 11 presided parliamentary republic   \n",
       "3       period 11 presided parliamentary republic   \n",
       "4       period 11 presided parliamentary republic   \n",
       "...                                           ...   \n",
       "647421  period 17 presided parliamentary republic   \n",
       "647422  period 17 presided parliamentary republic   \n",
       "647423  period 17 presided parliamentary republic   \n",
       "647424  period 17 presided parliamentary republic   \n",
       "647425  period 17 presided parliamentary republic   \n",
       "\n",
       "                            parliamentary_session parliamentary_sitting  \\\n",
       "0       session 1 continuation of plenary session            sitting 90   \n",
       "1       session 1 continuation of plenary session            sitting 90   \n",
       "2       session 1 continuation of plenary session            sitting 90   \n",
       "3       session 1 continuation of plenary session            sitting 90   \n",
       "4       session 1 continuation of plenary session            sitting 90   \n",
       "...                                           ...                   ...   \n",
       "647421                                  session 4            sitting 82   \n",
       "647422                                  session 4            sitting 82   \n",
       "647423                                  session 4            sitting 82   \n",
       "647424                                  session 4            sitting 82   \n",
       "647425                                  session 4            sitting 82   \n",
       "\n",
       "                       political_party speaker_info  \\\n",
       "0       πανελληνιο σοσιαλιστικο κινημα          NaN   \n",
       "1                       νεα δημοκρατια   προεδρευων   \n",
       "2       πανελληνιο σοσιαλιστικο κινημα          NaN   \n",
       "3                       νεα δημοκρατια   προεδρευων   \n",
       "4       πανελληνιο σοσιαλιστικο κινημα          NaN   \n",
       "...                                ...          ...   \n",
       "647421                  νεα δημοκρατια   προεδρευων   \n",
       "647422     κομμουνιστικο κομμα ελλαδας          NaN   \n",
       "647423                  νεα δημοκρατια   προεδρευων   \n",
       "647424                  νεα δημοκρατια   προεδρευων   \n",
       "647425                  νεα δημοκρατια   προεδρευων   \n",
       "\n",
       "                                                   speech  \n",
       "0        Κυρίες και κύριοι συνάδελφοι, ένα γνωμικό ανα...  \n",
       "1        Θα πάρετε χρόνο δύο λεπτών από τη δευτερολογί...  \n",
       "2        Μάλιστα, κύριε Πρόεδρε. Δεν θα παραλείψουμε ν...  \n",
       "3        Για να μην υπάρχει διακοπή, όταν αγορεύετε γι...  \n",
       "4        Κύριε Πρόεδρε, κυρίες και κύριοι συνάδελφοι, ...  \n",
       "...                                                   ...  \n",
       "647421   Τα υπόλοιπα στη δευτερολογία σας.Κύριε Συντυχ...  \n",
       "647422   Κύριε Πρόεδρε, οι καταστροφές προφανώς δεν ήτ...  \n",
       "647423             Ορίστε, κύριε Υπουργέ, έχετε τον λόγο.  \n",
       "647424   Αρκεί και το κεντρικό κράτος, κύριε Υπουργέ, ...  \n",
       "647425   Με τη συναίνεση του Σώματος και ώρα 11.25΄ λύ...  \n",
       "\n",
       "[647426 rows x 8 columns]"
      ]
     },
     "execution_count": 7,
     "metadata": {},
     "output_type": "execute_result"
    }
   ],
   "source": [
    "greek_par = greek_par.reset_index(drop=True)\n",
    "greek_par"
   ]
  },
  {
   "cell_type": "code",
   "execution_count": 8,
   "metadata": {},
   "outputs": [
    {
     "data": {
      "text/html": [
       "<div>\n",
       "<style scoped>\n",
       "    .dataframe tbody tr th:only-of-type {\n",
       "        vertical-align: middle;\n",
       "    }\n",
       "\n",
       "    .dataframe tbody tr th {\n",
       "        vertical-align: top;\n",
       "    }\n",
       "\n",
       "    .dataframe thead th {\n",
       "        text-align: right;\n",
       "    }\n",
       "</style>\n",
       "<table border=\"1\" class=\"dataframe\">\n",
       "  <thead>\n",
       "    <tr style=\"text-align: right;\">\n",
       "      <th></th>\n",
       "      <th>member_name</th>\n",
       "      <th>sitting_date</th>\n",
       "      <th>parliamentary_period</th>\n",
       "      <th>parliamentary_session</th>\n",
       "      <th>parliamentary_sitting</th>\n",
       "      <th>speaker_info</th>\n",
       "      <th>speech</th>\n",
       "    </tr>\n",
       "    <tr>\n",
       "      <th>political_party</th>\n",
       "      <th></th>\n",
       "      <th></th>\n",
       "      <th></th>\n",
       "      <th></th>\n",
       "      <th></th>\n",
       "      <th></th>\n",
       "      <th></th>\n",
       "    </tr>\n",
       "  </thead>\n",
       "  <tbody>\n",
       "    <tr>\n",
       "      <th>ανεξαρτητοι (εκτος κομματος)</th>\n",
       "      <td>25960</td>\n",
       "      <td>25960</td>\n",
       "      <td>25960</td>\n",
       "      <td>25960</td>\n",
       "      <td>25960</td>\n",
       "      <td>8231</td>\n",
       "      <td>25960</td>\n",
       "    </tr>\n",
       "    <tr>\n",
       "      <th>ανεξαρτητοι δημοκρατικοι βουλευτες</th>\n",
       "      <td>1769</td>\n",
       "      <td>1769</td>\n",
       "      <td>1769</td>\n",
       "      <td>1769</td>\n",
       "      <td>1769</td>\n",
       "      <td>275</td>\n",
       "      <td>1769</td>\n",
       "    </tr>\n",
       "    <tr>\n",
       "      <th>ανεξαρτητοι ελληνες - πανος καμμενος</th>\n",
       "      <td>13785</td>\n",
       "      <td>13785</td>\n",
       "      <td>13785</td>\n",
       "      <td>13785</td>\n",
       "      <td>13785</td>\n",
       "      <td>8855</td>\n",
       "      <td>13785</td>\n",
       "    </tr>\n",
       "    <tr>\n",
       "      <th>ανεξαρτητοι ελληνες εθνικη πατριωτικη δημοκρατικη συμμαχια</th>\n",
       "      <td>5521</td>\n",
       "      <td>5521</td>\n",
       "      <td>5521</td>\n",
       "      <td>5521</td>\n",
       "      <td>5521</td>\n",
       "      <td>2317</td>\n",
       "      <td>5521</td>\n",
       "    </tr>\n",
       "    <tr>\n",
       "      <th>δημοκρατικη αριστερα</th>\n",
       "      <td>4204</td>\n",
       "      <td>4204</td>\n",
       "      <td>4204</td>\n",
       "      <td>4204</td>\n",
       "      <td>4204</td>\n",
       "      <td>43</td>\n",
       "      <td>4204</td>\n",
       "    </tr>\n",
       "    <tr>\n",
       "      <th>δημοκρατικη συμπαραταξη (πανελληνιο σοσιαλιστικο κινημα - δημοκρατικη αριστερα)</th>\n",
       "      <td>22991</td>\n",
       "      <td>22991</td>\n",
       "      <td>22991</td>\n",
       "      <td>22991</td>\n",
       "      <td>22991</td>\n",
       "      <td>8055</td>\n",
       "      <td>22991</td>\n",
       "    </tr>\n",
       "    <tr>\n",
       "      <th>ενωση κεντρωων</th>\n",
       "      <td>9888</td>\n",
       "      <td>9888</td>\n",
       "      <td>9888</td>\n",
       "      <td>9888</td>\n",
       "      <td>9888</td>\n",
       "      <td>4811</td>\n",
       "      <td>9888</td>\n",
       "    </tr>\n",
       "    <tr>\n",
       "      <th>κομμουνιστικο κομμα ελλαδας</th>\n",
       "      <td>57348</td>\n",
       "      <td>57348</td>\n",
       "      <td>57348</td>\n",
       "      <td>57348</td>\n",
       "      <td>57348</td>\n",
       "      <td>18698</td>\n",
       "      <td>57348</td>\n",
       "    </tr>\n",
       "    <tr>\n",
       "      <th>λαικη ενοτητα</th>\n",
       "      <td>346</td>\n",
       "      <td>346</td>\n",
       "      <td>346</td>\n",
       "      <td>346</td>\n",
       "      <td>346</td>\n",
       "      <td>9</td>\n",
       "      <td>346</td>\n",
       "    </tr>\n",
       "    <tr>\n",
       "      <th>λαικος ορθοδοξος συναγερμος</th>\n",
       "      <td>23197</td>\n",
       "      <td>23197</td>\n",
       "      <td>23197</td>\n",
       "      <td>23197</td>\n",
       "      <td>23197</td>\n",
       "      <td>8264</td>\n",
       "      <td>23197</td>\n",
       "    </tr>\n",
       "    <tr>\n",
       "      <th>λαικος συνδεσος - χρυση αυγη</th>\n",
       "      <td>14172</td>\n",
       "      <td>14172</td>\n",
       "      <td>14172</td>\n",
       "      <td>14172</td>\n",
       "      <td>14172</td>\n",
       "      <td>217</td>\n",
       "      <td>14172</td>\n",
       "    </tr>\n",
       "    <tr>\n",
       "      <th>νεα δημοκρατια</th>\n",
       "      <td>211359</td>\n",
       "      <td>211359</td>\n",
       "      <td>211359</td>\n",
       "      <td>211359</td>\n",
       "      <td>211359</td>\n",
       "      <td>144480</td>\n",
       "      <td>211359</td>\n",
       "    </tr>\n",
       "    <tr>\n",
       "      <th>πανελληνιο σοσιαλιστικο κινημα</th>\n",
       "      <td>122953</td>\n",
       "      <td>122953</td>\n",
       "      <td>122953</td>\n",
       "      <td>122953</td>\n",
       "      <td>122953</td>\n",
       "      <td>56438</td>\n",
       "      <td>122953</td>\n",
       "    </tr>\n",
       "    <tr>\n",
       "      <th>συνασπισμος ριζοσπαστικης αριστερας</th>\n",
       "      <td>126261</td>\n",
       "      <td>126261</td>\n",
       "      <td>126261</td>\n",
       "      <td>126261</td>\n",
       "      <td>126261</td>\n",
       "      <td>68804</td>\n",
       "      <td>126261</td>\n",
       "    </tr>\n",
       "    <tr>\n",
       "      <th>το ποταμι</th>\n",
       "      <td>7672</td>\n",
       "      <td>7672</td>\n",
       "      <td>7672</td>\n",
       "      <td>7672</td>\n",
       "      <td>7672</td>\n",
       "      <td>1880</td>\n",
       "      <td>7672</td>\n",
       "    </tr>\n",
       "  </tbody>\n",
       "</table>\n",
       "</div>"
      ],
      "text/plain": [
       "                                                    member_name  sitting_date  \\\n",
       "political_party                                                                 \n",
       "ανεξαρτητοι (εκτος κομματος)                              25960         25960   \n",
       "ανεξαρτητοι δημοκρατικοι βουλευτες                         1769          1769   \n",
       "ανεξαρτητοι ελληνες - πανος καμμενος                      13785         13785   \n",
       "ανεξαρτητοι ελληνες εθνικη πατριωτικη δημοκρατι...         5521          5521   \n",
       "δημοκρατικη αριστερα                                       4204          4204   \n",
       "δημοκρατικη συμπαραταξη (πανελληνιο σοσιαλιστικ...        22991         22991   \n",
       "ενωση κεντρωων                                             9888          9888   \n",
       "κομμουνιστικο κομμα ελλαδας                               57348         57348   \n",
       "λαικη ενοτητα                                               346           346   \n",
       "λαικος ορθοδοξος συναγερμος                               23197         23197   \n",
       "λαικος συνδεσος - χρυση αυγη                              14172         14172   \n",
       "νεα δημοκρατια                                           211359        211359   \n",
       "πανελληνιο σοσιαλιστικο κινημα                           122953        122953   \n",
       "συνασπισμος ριζοσπαστικης αριστερας                      126261        126261   \n",
       "το ποταμι                                                  7672          7672   \n",
       "\n",
       "                                                    parliamentary_period  \\\n",
       "political_party                                                            \n",
       "ανεξαρτητοι (εκτος κομματος)                                       25960   \n",
       "ανεξαρτητοι δημοκρατικοι βουλευτες                                  1769   \n",
       "ανεξαρτητοι ελληνες - πανος καμμενος                               13785   \n",
       "ανεξαρτητοι ελληνες εθνικη πατριωτικη δημοκρατι...                  5521   \n",
       "δημοκρατικη αριστερα                                                4204   \n",
       "δημοκρατικη συμπαραταξη (πανελληνιο σοσιαλιστικ...                 22991   \n",
       "ενωση κεντρωων                                                      9888   \n",
       "κομμουνιστικο κομμα ελλαδας                                        57348   \n",
       "λαικη ενοτητα                                                        346   \n",
       "λαικος ορθοδοξος συναγερμος                                        23197   \n",
       "λαικος συνδεσος - χρυση αυγη                                       14172   \n",
       "νεα δημοκρατια                                                    211359   \n",
       "πανελληνιο σοσιαλιστικο κινημα                                    122953   \n",
       "συνασπισμος ριζοσπαστικης αριστερας                               126261   \n",
       "το ποταμι                                                           7672   \n",
       "\n",
       "                                                    parliamentary_session  \\\n",
       "political_party                                                             \n",
       "ανεξαρτητοι (εκτος κομματος)                                        25960   \n",
       "ανεξαρτητοι δημοκρατικοι βουλευτες                                   1769   \n",
       "ανεξαρτητοι ελληνες - πανος καμμενος                                13785   \n",
       "ανεξαρτητοι ελληνες εθνικη πατριωτικη δημοκρατι...                   5521   \n",
       "δημοκρατικη αριστερα                                                 4204   \n",
       "δημοκρατικη συμπαραταξη (πανελληνιο σοσιαλιστικ...                  22991   \n",
       "ενωση κεντρωων                                                       9888   \n",
       "κομμουνιστικο κομμα ελλαδας                                         57348   \n",
       "λαικη ενοτητα                                                         346   \n",
       "λαικος ορθοδοξος συναγερμος                                         23197   \n",
       "λαικος συνδεσος - χρυση αυγη                                        14172   \n",
       "νεα δημοκρατια                                                     211359   \n",
       "πανελληνιο σοσιαλιστικο κινημα                                     122953   \n",
       "συνασπισμος ριζοσπαστικης αριστερας                                126261   \n",
       "το ποταμι                                                            7672   \n",
       "\n",
       "                                                    parliamentary_sitting  \\\n",
       "political_party                                                             \n",
       "ανεξαρτητοι (εκτος κομματος)                                        25960   \n",
       "ανεξαρτητοι δημοκρατικοι βουλευτες                                   1769   \n",
       "ανεξαρτητοι ελληνες - πανος καμμενος                                13785   \n",
       "ανεξαρτητοι ελληνες εθνικη πατριωτικη δημοκρατι...                   5521   \n",
       "δημοκρατικη αριστερα                                                 4204   \n",
       "δημοκρατικη συμπαραταξη (πανελληνιο σοσιαλιστικ...                  22991   \n",
       "ενωση κεντρωων                                                       9888   \n",
       "κομμουνιστικο κομμα ελλαδας                                         57348   \n",
       "λαικη ενοτητα                                                         346   \n",
       "λαικος ορθοδοξος συναγερμος                                         23197   \n",
       "λαικος συνδεσος - χρυση αυγη                                        14172   \n",
       "νεα δημοκρατια                                                     211359   \n",
       "πανελληνιο σοσιαλιστικο κινημα                                     122953   \n",
       "συνασπισμος ριζοσπαστικης αριστερας                                126261   \n",
       "το ποταμι                                                            7672   \n",
       "\n",
       "                                                    speaker_info  speech  \n",
       "political_party                                                           \n",
       "ανεξαρτητοι (εκτος κομματος)                                8231   25960  \n",
       "ανεξαρτητοι δημοκρατικοι βουλευτες                           275    1769  \n",
       "ανεξαρτητοι ελληνες - πανος καμμενος                        8855   13785  \n",
       "ανεξαρτητοι ελληνες εθνικη πατριωτικη δημοκρατι...          2317    5521  \n",
       "δημοκρατικη αριστερα                                          43    4204  \n",
       "δημοκρατικη συμπαραταξη (πανελληνιο σοσιαλιστικ...          8055   22991  \n",
       "ενωση κεντρωων                                              4811    9888  \n",
       "κομμουνιστικο κομμα ελλαδας                                18698   57348  \n",
       "λαικη ενοτητα                                                  9     346  \n",
       "λαικος ορθοδοξος συναγερμος                                 8264   23197  \n",
       "λαικος συνδεσος - χρυση αυγη                                 217   14172  \n",
       "νεα δημοκρατια                                            144480  211359  \n",
       "πανελληνιο σοσιαλιστικο κινημα                             56438  122953  \n",
       "συνασπισμος ριζοσπαστικης αριστερας                        68804  126261  \n",
       "το ποταμι                                                   1880    7672  "
      ]
     },
     "execution_count": 8,
     "metadata": {},
     "output_type": "execute_result"
    }
   ],
   "source": [
    "greek_par.groupby(by='political_party').count()"
   ]
  },
  {
   "cell_type": "code",
   "execution_count": 9,
   "metadata": {},
   "outputs": [],
   "source": [
    "greek_par=greek_par.loc[(greek_par['political_party'] != 'ανεξαρτητοι δημοκρατικοι βουλευτες' ) & (greek_par['political_party'] != 'ανεξαρτητοι ελληνες εθνικη πατριωτικη δημοκρατικη συμμαχια' ) & (greek_par['political_party'] != 'δημοκρατικη αριστερα' ) & (greek_par['political_party'] != 'λαικη ενοτητα') & (greek_par['political_party'] != 'το ποταμι')]"
   ]
  },
  {
   "cell_type": "code",
   "execution_count": 10,
   "metadata": {},
   "outputs": [
    {
     "data": {
      "text/plain": [
       "(627914, 8)"
      ]
     },
     "execution_count": 10,
     "metadata": {},
     "output_type": "execute_result"
    }
   ],
   "source": [
    "greek_par.shape"
   ]
  },
  {
   "cell_type": "markdown",
   "metadata": {},
   "source": [
    "#### (Giving a more convinient name to this party)"
   ]
  },
  {
   "cell_type": "code",
   "execution_count": 11,
   "metadata": {},
   "outputs": [
    {
     "name": "stderr",
     "output_type": "stream",
     "text": [
      "C:\\Python\\lib\\site-packages\\pandas\\core\\indexing.py:1743: SettingWithCopyWarning: \n",
      "A value is trying to be set on a copy of a slice from a DataFrame.\n",
      "Try using .loc[row_indexer,col_indexer] = value instead\n",
      "\n",
      "See the caveats in the documentation: https://pandas.pydata.org/pandas-docs/stable/user_guide/indexing.html#returning-a-view-versus-a-copy\n",
      "  isetter(ilocs[0], value)\n"
     ]
    }
   ],
   "source": [
    "com_mapping = {'δημοκρατικη συμπαραταξη (πανελληνιο σοσιαλιστικο κινημα - δημοκρατικη αριστερα)': 'δημοκρατική συμπαράταξη'}\n",
    "f = lambda x: com_mapping.get(x, x) \n",
    "greek_par.loc[:, 'political_party'] = greek_par.loc[:, 'political_party'].map(f)"
   ]
  },
  {
   "cell_type": "markdown",
   "metadata": {},
   "source": [
    "### That's all about cleansing (for now, obviously) so let's start exploring the dataset"
   ]
  },
  {
   "cell_type": "markdown",
   "metadata": {},
   "source": [
    "### Here we have a dataframe with everything that anyone said in a day"
   ]
  },
  {
   "cell_type": "code",
   "execution_count": 11,
   "metadata": {},
   "outputs": [
    {
     "data": {
      "text/html": [
       "<div>\n",
       "<style scoped>\n",
       "    .dataframe tbody tr th:only-of-type {\n",
       "        vertical-align: middle;\n",
       "    }\n",
       "\n",
       "    .dataframe tbody tr th {\n",
       "        vertical-align: top;\n",
       "    }\n",
       "\n",
       "    .dataframe thead th {\n",
       "        text-align: right;\n",
       "    }\n",
       "</style>\n",
       "<table border=\"1\" class=\"dataframe\">\n",
       "  <thead>\n",
       "    <tr style=\"text-align: right;\">\n",
       "      <th></th>\n",
       "      <th>political_party</th>\n",
       "      <th>member_name</th>\n",
       "      <th>sitting_date</th>\n",
       "      <th>speech</th>\n",
       "    </tr>\n",
       "  </thead>\n",
       "  <tbody>\n",
       "    <tr>\n",
       "      <th>0</th>\n",
       "      <td>ανεξαρτητοι (εκτος κομματος)</td>\n",
       "      <td>αγατσα αριστειδη αριαδνη</td>\n",
       "      <td>2009-12-01</td>\n",
       "      <td>Κυρίες και κύριοι συνάδελφοι, κυρία Πρόεδρε, ...</td>\n",
       "    </tr>\n",
       "    <tr>\n",
       "      <th>1</th>\n",
       "      <td>ανεξαρτητοι (εκτος κομματος)</td>\n",
       "      <td>αγατσα αριστειδη αριαδνη</td>\n",
       "      <td>2009-12-22</td>\n",
       "      <td>Κύριε Πρόεδρε, κυρίες και κύριοι συνάδελφοι, ...</td>\n",
       "    </tr>\n",
       "    <tr>\n",
       "      <th>2</th>\n",
       "      <td>ανεξαρτητοι (εκτος κομματος)</td>\n",
       "      <td>αηδονης ευαγγελου χρηστος</td>\n",
       "      <td>2012-01-19</td>\n",
       "      <td>Κυρίες και κύριοι συνάδελφοι, βρισκόμαστε σε ...</td>\n",
       "    </tr>\n",
       "    <tr>\n",
       "      <th>3</th>\n",
       "      <td>ανεξαρτητοι (εκτος κομματος)</td>\n",
       "      <td>αηδονης ευαγγελου χρηστος</td>\n",
       "      <td>2012-02-15</td>\n",
       "      <td>Υπογράμμιζε., Δεν λέω για εσάς, κύριε Ιωαννίδ...</td>\n",
       "    </tr>\n",
       "    <tr>\n",
       "      <th>4</th>\n",
       "      <td>ανεξαρτητοι (εκτος κομματος)</td>\n",
       "      <td>αηδονης ευαγγελου χρηστος</td>\n",
       "      <td>2012-02-16</td>\n",
       "      <td>Ευχαριστώ, κύριε Πρόεδρε.Κύριε Υπουργέ, στο Κ...</td>\n",
       "    </tr>\n",
       "    <tr>\n",
       "      <th>...</th>\n",
       "      <td>...</td>\n",
       "      <td>...</td>\n",
       "      <td>...</td>\n",
       "      <td>...</td>\n",
       "    </tr>\n",
       "    <tr>\n",
       "      <th>72677</th>\n",
       "      <td>συνασπισμος ριζοσπαστικης αριστερας</td>\n",
       "      <td>ψυχογιος κωνσταντινου γεωργιος</td>\n",
       "      <td>2018-12-14</td>\n",
       "      <td>Ευχαριστώ πολύ, κύριε Πρόεδρε.Θα ξεκινήσω την...</td>\n",
       "    </tr>\n",
       "    <tr>\n",
       "      <th>72678</th>\n",
       "      <td>συνασπισμος ριζοσπαστικης αριστερας</td>\n",
       "      <td>ψυχογιος κωνσταντινου γεωργιος</td>\n",
       "      <td>2018-12-20</td>\n",
       "      <td>Σας ευχαριστώ πολύ, κύριε Πρόεδρε. Θα δείξετε...</td>\n",
       "    </tr>\n",
       "    <tr>\n",
       "      <th>72679</th>\n",
       "      <td>συνασπισμος ριζοσπαστικης αριστερας</td>\n",
       "      <td>ψυχογιος κωνσταντινου γεωργιος</td>\n",
       "      <td>2018-12-21</td>\n",
       "      <td>Ευχαριστώ πολύ, κύριε Πρόεδρε.Μια μικρή ανοχή...</td>\n",
       "    </tr>\n",
       "    <tr>\n",
       "      <th>72680</th>\n",
       "      <td>συνασπισμος ριζοσπαστικης αριστερας</td>\n",
       "      <td>ψυχογιος κωνσταντινου γεωργιος</td>\n",
       "      <td>2019-01-24</td>\n",
       "      <td>Ευχαριστώ πολύ, κύριε Πρόεδρε. Νομίζω ότι μπα...</td>\n",
       "    </tr>\n",
       "    <tr>\n",
       "      <th>72681</th>\n",
       "      <td>συνασπισμος ριζοσπαστικης αριστερας</td>\n",
       "      <td>ψυχογιος κωνσταντινου γεωργιος</td>\n",
       "      <td>2019-02-12</td>\n",
       "      <td>Ευχαριστώ πολύ, κύριε Πρόεδρε.Κυρίες και κύρι...</td>\n",
       "    </tr>\n",
       "  </tbody>\n",
       "</table>\n",
       "<p>72682 rows × 4 columns</p>\n",
       "</div>"
      ],
      "text/plain": [
       "                           political_party                     member_name  \\\n",
       "0             ανεξαρτητοι (εκτος κομματος)        αγατσα αριστειδη αριαδνη   \n",
       "1             ανεξαρτητοι (εκτος κομματος)        αγατσα αριστειδη αριαδνη   \n",
       "2             ανεξαρτητοι (εκτος κομματος)       αηδονης ευαγγελου χρηστος   \n",
       "3             ανεξαρτητοι (εκτος κομματος)       αηδονης ευαγγελου χρηστος   \n",
       "4             ανεξαρτητοι (εκτος κομματος)       αηδονης ευαγγελου χρηστος   \n",
       "...                                    ...                             ...   \n",
       "72677  συνασπισμος ριζοσπαστικης αριστερας  ψυχογιος κωνσταντινου γεωργιος   \n",
       "72678  συνασπισμος ριζοσπαστικης αριστερας  ψυχογιος κωνσταντινου γεωργιος   \n",
       "72679  συνασπισμος ριζοσπαστικης αριστερας  ψυχογιος κωνσταντινου γεωργιος   \n",
       "72680  συνασπισμος ριζοσπαστικης αριστερας  ψυχογιος κωνσταντινου γεωργιος   \n",
       "72681  συνασπισμος ριζοσπαστικης αριστερας  ψυχογιος κωνσταντινου γεωργιος   \n",
       "\n",
       "      sitting_date                                             speech  \n",
       "0       2009-12-01   Κυρίες και κύριοι συνάδελφοι, κυρία Πρόεδρε, ...  \n",
       "1       2009-12-22   Κύριε Πρόεδρε, κυρίες και κύριοι συνάδελφοι, ...  \n",
       "2       2012-01-19   Κυρίες και κύριοι συνάδελφοι, βρισκόμαστε σε ...  \n",
       "3       2012-02-15   Υπογράμμιζε., Δεν λέω για εσάς, κύριε Ιωαννίδ...  \n",
       "4       2012-02-16   Ευχαριστώ, κύριε Πρόεδρε.Κύριε Υπουργέ, στο Κ...  \n",
       "...            ...                                                ...  \n",
       "72677   2018-12-14   Ευχαριστώ πολύ, κύριε Πρόεδρε.Θα ξεκινήσω την...  \n",
       "72678   2018-12-20   Σας ευχαριστώ πολύ, κύριε Πρόεδρε. Θα δείξετε...  \n",
       "72679   2018-12-21   Ευχαριστώ πολύ, κύριε Πρόεδρε.Μια μικρή ανοχή...  \n",
       "72680   2019-01-24   Ευχαριστώ πολύ, κύριε Πρόεδρε. Νομίζω ότι μπα...  \n",
       "72681   2019-02-12   Ευχαριστώ πολύ, κύριε Πρόεδρε.Κυρίες και κύρι...  \n",
       "\n",
       "[72682 rows x 4 columns]"
      ]
     },
     "execution_count": 11,
     "metadata": {},
     "output_type": "execute_result"
    }
   ],
   "source": [
    "said_per_day = greek_par.groupby(['political_party','member_name','sitting_date'])['speech'].apply(lambda x: ','.join(x)).reset_index()\n",
    "said_per_day"
   ]
  },
  {
   "cell_type": "markdown",
   "metadata": {},
   "source": [
    "### Now let's find how many speeches there are per party"
   ]
  },
  {
   "cell_type": "code",
   "execution_count": 12,
   "metadata": {},
   "outputs": [
    {
     "data": {
      "text/html": [
       "<div>\n",
       "<style scoped>\n",
       "    .dataframe tbody tr th:only-of-type {\n",
       "        vertical-align: middle;\n",
       "    }\n",
       "\n",
       "    .dataframe tbody tr th {\n",
       "        vertical-align: top;\n",
       "    }\n",
       "\n",
       "    .dataframe thead th {\n",
       "        text-align: right;\n",
       "    }\n",
       "</style>\n",
       "<table border=\"1\" class=\"dataframe\">\n",
       "  <thead>\n",
       "    <tr style=\"text-align: right;\">\n",
       "      <th></th>\n",
       "      <th>party</th>\n",
       "      <th>speeches</th>\n",
       "    </tr>\n",
       "  </thead>\n",
       "  <tbody>\n",
       "    <tr>\n",
       "      <th>0</th>\n",
       "      <td>ενωση κεντρωων</td>\n",
       "      <td>9888</td>\n",
       "    </tr>\n",
       "    <tr>\n",
       "      <th>1</th>\n",
       "      <td>ανεξαρτητοι ελληνες - πανος καμμενος</td>\n",
       "      <td>13785</td>\n",
       "    </tr>\n",
       "    <tr>\n",
       "      <th>2</th>\n",
       "      <td>λαικος συνδεσος - χρυση αυγη</td>\n",
       "      <td>14172</td>\n",
       "    </tr>\n",
       "    <tr>\n",
       "      <th>3</th>\n",
       "      <td>δημοκρατικη συμπαραταξη (πανελληνιο σοσιαλιστι...</td>\n",
       "      <td>22991</td>\n",
       "    </tr>\n",
       "    <tr>\n",
       "      <th>4</th>\n",
       "      <td>λαικος ορθοδοξος συναγερμος</td>\n",
       "      <td>23197</td>\n",
       "    </tr>\n",
       "    <tr>\n",
       "      <th>5</th>\n",
       "      <td>ανεξαρτητοι (εκτος κομματος)</td>\n",
       "      <td>25960</td>\n",
       "    </tr>\n",
       "    <tr>\n",
       "      <th>6</th>\n",
       "      <td>κομμουνιστικο κομμα ελλαδας</td>\n",
       "      <td>57348</td>\n",
       "    </tr>\n",
       "    <tr>\n",
       "      <th>7</th>\n",
       "      <td>πανελληνιο σοσιαλιστικο κινημα</td>\n",
       "      <td>122953</td>\n",
       "    </tr>\n",
       "    <tr>\n",
       "      <th>8</th>\n",
       "      <td>συνασπισμος ριζοσπαστικης αριστερας</td>\n",
       "      <td>126261</td>\n",
       "    </tr>\n",
       "    <tr>\n",
       "      <th>9</th>\n",
       "      <td>νεα δημοκρατια</td>\n",
       "      <td>211359</td>\n",
       "    </tr>\n",
       "  </tbody>\n",
       "</table>\n",
       "</div>"
      ],
      "text/plain": [
       "                                               party  speeches\n",
       "0                                     ενωση κεντρωων      9888\n",
       "1               ανεξαρτητοι ελληνες - πανος καμμενος     13785\n",
       "2                       λαικος συνδεσος - χρυση αυγη     14172\n",
       "3  δημοκρατικη συμπαραταξη (πανελληνιο σοσιαλιστι...     22991\n",
       "4                        λαικος ορθοδοξος συναγερμος     23197\n",
       "5                       ανεξαρτητοι (εκτος κομματος)     25960\n",
       "6                        κομμουνιστικο κομμα ελλαδας     57348\n",
       "7                     πανελληνιο σοσιαλιστικο κινημα    122953\n",
       "8                συνασπισμος ριζοσπαστικης αριστερας    126261\n",
       "9                                     νεα δημοκρατια    211359"
      ]
     },
     "execution_count": 12,
     "metadata": {},
     "output_type": "execute_result"
    }
   ],
   "source": [
    "c_sp_par = greek_par.groupby(['political_party'])['speech'].count().sort_values().reset_index()\n",
    "c_sp_par.columns = ['party','speeches']\n",
    "c_sp_par"
   ]
  },
  {
   "cell_type": "code",
   "execution_count": 13,
   "metadata": {},
   "outputs": [
    {
     "data": {
      "text/plain": [
       "Text(0.5, 0, 'SPEECHES PER PARTY')"
      ]
     },
     "execution_count": 13,
     "metadata": {},
     "output_type": "execute_result"
    },
    {
     "data": {
      "image/png": "[encoded data removed]",
      "text/plain": [
       "<Figure size 720x576 with 1 Axes>"
      ]
     },
     "metadata": {},
     "output_type": "display_data"
    }
   ],
   "source": [
    "pos = np.arange(len(c_sp_par['party']))\n",
    "c_s_p = c_sp_par['speeches'] \n",
    "c_s_p.plot.barh(figsize=(10,8),color='b')\n",
    "plt.yticks(pos,c_sp_par['party'])\n",
    "plt.xlabel('SPEECHES PER PARTY')"
   ]
  },
  {
   "cell_type": "markdown",
   "metadata": {},
   "source": [
    "### As it was expected \"Nea Dimokratia\", have the most speeches, after being the partie that's at least second in our country in the last 15 years. \"SYRIZA\" and \"PASOK\" are following and being very close to each other"
   ]
  },
  {
   "cell_type": "markdown",
   "metadata": {},
   "source": [
    "### Lets find now how many speakers there are per party"
   ]
  },
  {
   "cell_type": "code",
   "execution_count": 14,
   "metadata": {},
   "outputs": [
    {
     "data": {
      "text/html": [
       "<div>\n",
       "<style scoped>\n",
       "    .dataframe tbody tr th:only-of-type {\n",
       "        vertical-align: middle;\n",
       "    }\n",
       "\n",
       "    .dataframe tbody tr th {\n",
       "        vertical-align: top;\n",
       "    }\n",
       "\n",
       "    .dataframe thead th {\n",
       "        text-align: right;\n",
       "    }\n",
       "</style>\n",
       "<table border=\"1\" class=\"dataframe\">\n",
       "  <thead>\n",
       "    <tr style=\"text-align: right;\">\n",
       "      <th></th>\n",
       "      <th>political_party</th>\n",
       "      <th>member_name</th>\n",
       "    </tr>\n",
       "  </thead>\n",
       "  <tbody>\n",
       "    <tr>\n",
       "      <th>0</th>\n",
       "      <td>πανελληνιο σοσιαλιστικο κινημα</td>\n",
       "      <td>πιπεργιας παντελη δημητριος</td>\n",
       "    </tr>\n",
       "    <tr>\n",
       "      <th>1</th>\n",
       "      <td>νεα δημοκρατια</td>\n",
       "      <td>σουρλας ιωαννη γεωργιος</td>\n",
       "    </tr>\n",
       "    <tr>\n",
       "      <th>2</th>\n",
       "      <td>πανελληνιο σοσιαλιστικο κινημα</td>\n",
       "      <td>τσοχατζοπουλος ευαγγελου αποστολος-αθανασιος</td>\n",
       "    </tr>\n",
       "    <tr>\n",
       "      <th>3</th>\n",
       "      <td>πανελληνιο σοσιαλιστικο κινημα</td>\n",
       "      <td>λωτιδης κυριακου λαζαρος</td>\n",
       "    </tr>\n",
       "    <tr>\n",
       "      <th>4</th>\n",
       "      <td>πανελληνιο σοσιαλιστικο κινημα</td>\n",
       "      <td>ρηγας θεοφανη παναγιωτης</td>\n",
       "    </tr>\n",
       "    <tr>\n",
       "      <th>...</th>\n",
       "      <td>...</td>\n",
       "      <td>...</td>\n",
       "    </tr>\n",
       "    <tr>\n",
       "      <th>952</th>\n",
       "      <td>νεα δημοκρατια</td>\n",
       "      <td>κατσιαντωνης νικολαου γεωργιος</td>\n",
       "    </tr>\n",
       "    <tr>\n",
       "      <th>953</th>\n",
       "      <td>συνασπισμος ριζοσπαστικης αριστερας</td>\n",
       "      <td>κωστοπαναγιωτου κωνσταντινου ηλιας</td>\n",
       "    </tr>\n",
       "    <tr>\n",
       "      <th>954</th>\n",
       "      <td>ανεξαρτητοι (εκτος κομματος)</td>\n",
       "      <td>μεγαλοοικονομου πασχαλη θεοδωρα</td>\n",
       "    </tr>\n",
       "    <tr>\n",
       "      <th>955</th>\n",
       "      <td>ανεξαρτητοι (εκτος κομματος)</td>\n",
       "      <td>καμμενος κωνσταντινου δημητριος</td>\n",
       "    </tr>\n",
       "    <tr>\n",
       "      <th>956</th>\n",
       "      <td>νεα δημοκρατια</td>\n",
       "      <td>μαρκου δημοσθενη αικατερινη</td>\n",
       "    </tr>\n",
       "  </tbody>\n",
       "</table>\n",
       "<p>957 rows × 2 columns</p>\n",
       "</div>"
      ],
      "text/plain": [
       "                         political_party  \\\n",
       "0         πανελληνιο σοσιαλιστικο κινημα   \n",
       "1                         νεα δημοκρατια   \n",
       "2         πανελληνιο σοσιαλιστικο κινημα   \n",
       "3         πανελληνιο σοσιαλιστικο κινημα   \n",
       "4         πανελληνιο σοσιαλιστικο κινημα   \n",
       "..                                   ...   \n",
       "952                       νεα δημοκρατια   \n",
       "953  συνασπισμος ριζοσπαστικης αριστερας   \n",
       "954         ανεξαρτητοι (εκτος κομματος)   \n",
       "955         ανεξαρτητοι (εκτος κομματος)   \n",
       "956                       νεα δημοκρατια   \n",
       "\n",
       "                                      member_name  \n",
       "0                     πιπεργιας παντελη δημητριος  \n",
       "1                         σουρλας ιωαννη γεωργιος  \n",
       "2    τσοχατζοπουλος ευαγγελου αποστολος-αθανασιος  \n",
       "3                        λωτιδης κυριακου λαζαρος  \n",
       "4                        ρηγας θεοφανη παναγιωτης  \n",
       "..                                            ...  \n",
       "952                κατσιαντωνης νικολαου γεωργιος  \n",
       "953           κωστοπαναγιωτου κωνσταντινου ηλιας   \n",
       "954               μεγαλοοικονομου πασχαλη θεοδωρα  \n",
       "955               καμμενος κωνσταντινου δημητριος  \n",
       "956                   μαρκου δημοσθενη αικατερινη  \n",
       "\n",
       "[957 rows x 2 columns]"
      ]
     },
     "execution_count": 14,
     "metadata": {},
     "output_type": "execute_result"
    }
   ],
   "source": [
    "speaker_party = greek_par[['political_party','member_name']]\n",
    "speaker_party = speaker_party.drop_duplicates().reset_index(drop=True)\n",
    "speaker_party"
   ]
  },
  {
   "cell_type": "code",
   "execution_count": 15,
   "metadata": {},
   "outputs": [
    {
     "data": {
      "text/html": [
       "<div>\n",
       "<style scoped>\n",
       "    .dataframe tbody tr th:only-of-type {\n",
       "        vertical-align: middle;\n",
       "    }\n",
       "\n",
       "    .dataframe tbody tr th {\n",
       "        vertical-align: top;\n",
       "    }\n",
       "\n",
       "    .dataframe thead th {\n",
       "        text-align: right;\n",
       "    }\n",
       "</style>\n",
       "<table border=\"1\" class=\"dataframe\">\n",
       "  <thead>\n",
       "    <tr style=\"text-align: right;\">\n",
       "      <th></th>\n",
       "      <th>member_name</th>\n",
       "    </tr>\n",
       "    <tr>\n",
       "      <th>political_party</th>\n",
       "      <th></th>\n",
       "    </tr>\n",
       "  </thead>\n",
       "  <tbody>\n",
       "    <tr>\n",
       "      <th>ενωση κεντρωων</th>\n",
       "      <td>9</td>\n",
       "    </tr>\n",
       "    <tr>\n",
       "      <th>δημοκρατικη συμπαραταξη (πανελληνιο σοσιαλιστικο κινημα - δημοκρατικη αριστερα)</th>\n",
       "      <td>19</td>\n",
       "    </tr>\n",
       "    <tr>\n",
       "      <th>λαικος ορθοδοξος συναγερμος</th>\n",
       "      <td>19</td>\n",
       "    </tr>\n",
       "    <tr>\n",
       "      <th>ανεξαρτητοι ελληνες - πανος καμμενος</th>\n",
       "      <td>22</td>\n",
       "    </tr>\n",
       "    <tr>\n",
       "      <th>λαικος συνδεσος - χρυση αυγη</th>\n",
       "      <td>26</td>\n",
       "    </tr>\n",
       "    <tr>\n",
       "      <th>κομμουνιστικο κομμα ελλαδας</th>\n",
       "      <td>44</td>\n",
       "    </tr>\n",
       "    <tr>\n",
       "      <th>ανεξαρτητοι (εκτος κομματος)</th>\n",
       "      <td>106</td>\n",
       "    </tr>\n",
       "    <tr>\n",
       "      <th>συνασπισμος ριζοσπαστικης αριστερας</th>\n",
       "      <td>212</td>\n",
       "    </tr>\n",
       "    <tr>\n",
       "      <th>πανελληνιο σοσιαλιστικο κινημα</th>\n",
       "      <td>219</td>\n",
       "    </tr>\n",
       "    <tr>\n",
       "      <th>νεα δημοκρατια</th>\n",
       "      <td>281</td>\n",
       "    </tr>\n",
       "  </tbody>\n",
       "</table>\n",
       "</div>"
      ],
      "text/plain": [
       "                                                    member_name\n",
       "political_party                                                \n",
       "ενωση κεντρωων                                                9\n",
       "δημοκρατικη συμπαραταξη (πανελληνιο σοσιαλιστικ...           19\n",
       "λαικος ορθοδοξος συναγερμος                                  19\n",
       "ανεξαρτητοι ελληνες - πανος καμμενος                         22\n",
       "λαικος συνδεσος - χρυση αυγη                                 26\n",
       "κομμουνιστικο κομμα ελλαδας                                  44\n",
       "ανεξαρτητοι (εκτος κομματος)                                106\n",
       "συνασπισμος ριζοσπαστικης αριστερας                         212\n",
       "πανελληνιο σοσιαλιστικο κινημα                              219\n",
       "νεα δημοκρατια                                              281"
      ]
     },
     "execution_count": 15,
     "metadata": {},
     "output_type": "execute_result"
    }
   ],
   "source": [
    "speaker_per_party = speaker_party.groupby('political_party').count().sort_values(by='member_name')\n",
    "speaker_per_party"
   ]
  },
  {
   "cell_type": "code",
   "execution_count": 16,
   "metadata": {},
   "outputs": [
    {
     "data": {
      "text/plain": [
       "Text(0.5, 0, 'SPEAKERS PER PARTY')"
      ]
     },
     "execution_count": 16,
     "metadata": {},
     "output_type": "execute_result"
    },
    {
     "data": {
      "image/png": "[encoded data removed]",
      "text/plain": [
       "<Figure size 720x576 with 1 Axes>"
      ]
     },
     "metadata": {},
     "output_type": "display_data"
    }
   ],
   "source": [
    "pos = np.arange(len(speaker_per_party.index))\n",
    "sp_p = speaker_per_party['member_name'] \n",
    "sp_p.plot.barh(figsize=(10,8),color='b')\n",
    "plt.yticks(pos)\n",
    "plt.xlabel('SPEAKERS PER PARTY')"
   ]
  },
  {
   "cell_type": "markdown",
   "metadata": {},
   "source": [
    "### Once again \"Nea Dimokratia\",\"PASOK\" and \"SYRIZA\"are intervals"
   ]
  },
  {
   "cell_type": "markdown",
   "metadata": {},
   "source": [
    "### We continue with speeches over time"
   ]
  },
  {
   "cell_type": "code",
   "execution_count": 17,
   "metadata": {},
   "outputs": [
    {
     "data": {
      "text/html": [
       "<div>\n",
       "<style scoped>\n",
       "    .dataframe tbody tr th:only-of-type {\n",
       "        vertical-align: middle;\n",
       "    }\n",
       "\n",
       "    .dataframe tbody tr th {\n",
       "        vertical-align: top;\n",
       "    }\n",
       "\n",
       "    .dataframe thead th {\n",
       "        text-align: right;\n",
       "    }\n",
       "</style>\n",
       "<table border=\"1\" class=\"dataframe\">\n",
       "  <thead>\n",
       "    <tr style=\"text-align: right;\">\n",
       "      <th></th>\n",
       "      <th>speech</th>\n",
       "    </tr>\n",
       "    <tr>\n",
       "      <th>sitting_date</th>\n",
       "      <th></th>\n",
       "    </tr>\n",
       "  </thead>\n",
       "  <tbody>\n",
       "    <tr>\n",
       "      <th>2005-01-10</th>\n",
       "      <td>65</td>\n",
       "    </tr>\n",
       "    <tr>\n",
       "      <th>2005-01-11</th>\n",
       "      <td>128</td>\n",
       "    </tr>\n",
       "    <tr>\n",
       "      <th>2005-01-12</th>\n",
       "      <td>91</td>\n",
       "    </tr>\n",
       "    <tr>\n",
       "      <th>2005-01-13</th>\n",
       "      <td>160</td>\n",
       "    </tr>\n",
       "    <tr>\n",
       "      <th>2005-01-14</th>\n",
       "      <td>308</td>\n",
       "    </tr>\n",
       "    <tr>\n",
       "      <th>...</th>\n",
       "      <td>...</td>\n",
       "    </tr>\n",
       "    <tr>\n",
       "      <th>2019-02-18</th>\n",
       "      <td>3</td>\n",
       "    </tr>\n",
       "    <tr>\n",
       "      <th>2019-02-19</th>\n",
       "      <td>208</td>\n",
       "    </tr>\n",
       "    <tr>\n",
       "      <th>2019-02-20</th>\n",
       "      <td>236</td>\n",
       "    </tr>\n",
       "    <tr>\n",
       "      <th>2019-02-21</th>\n",
       "      <td>383</td>\n",
       "    </tr>\n",
       "    <tr>\n",
       "      <th>2019-02-22</th>\n",
       "      <td>64</td>\n",
       "    </tr>\n",
       "  </tbody>\n",
       "</table>\n",
       "<p>2561 rows × 1 columns</p>\n",
       "</div>"
      ],
      "text/plain": [
       "              speech\n",
       "sitting_date        \n",
       "2005-01-10        65\n",
       "2005-01-11       128\n",
       "2005-01-12        91\n",
       "2005-01-13       160\n",
       "2005-01-14       308\n",
       "...              ...\n",
       "2019-02-18         3\n",
       "2019-02-19       208\n",
       "2019-02-20       236\n",
       "2019-02-21       383\n",
       "2019-02-22        64\n",
       "\n",
       "[2561 rows x 1 columns]"
      ]
     },
     "execution_count": 17,
     "metadata": {},
     "output_type": "execute_result"
    }
   ],
   "source": [
    "s_time = greek_par.groupby('sitting_date')['speech'].count()\n",
    "s_time = pd.DataFrame(data=s_time)\n",
    "s_time"
   ]
  },
  {
   "cell_type": "code",
   "execution_count": 18,
   "metadata": {},
   "outputs": [],
   "source": [
    "month = pd.DatetimeIndex(s_time.index).to_period(\"M\")"
   ]
  },
  {
   "cell_type": "code",
   "execution_count": 19,
   "metadata": {},
   "outputs": [
    {
     "data": {
      "text/html": [
       "<div>\n",
       "<style scoped>\n",
       "    .dataframe tbody tr th:only-of-type {\n",
       "        vertical-align: middle;\n",
       "    }\n",
       "\n",
       "    .dataframe tbody tr th {\n",
       "        vertical-align: top;\n",
       "    }\n",
       "\n",
       "    .dataframe thead th {\n",
       "        text-align: right;\n",
       "    }\n",
       "</style>\n",
       "<table border=\"1\" class=\"dataframe\">\n",
       "  <thead>\n",
       "    <tr style=\"text-align: right;\">\n",
       "      <th></th>\n",
       "      <th>speech</th>\n",
       "    </tr>\n",
       "    <tr>\n",
       "      <th>sitting_date</th>\n",
       "      <th></th>\n",
       "    </tr>\n",
       "  </thead>\n",
       "  <tbody>\n",
       "    <tr>\n",
       "      <th>2005-01</th>\n",
       "      <td>3424</td>\n",
       "    </tr>\n",
       "    <tr>\n",
       "      <th>2005-02</th>\n",
       "      <td>4289</td>\n",
       "    </tr>\n",
       "    <tr>\n",
       "      <th>2005-03</th>\n",
       "      <td>4167</td>\n",
       "    </tr>\n",
       "    <tr>\n",
       "      <th>2005-04</th>\n",
       "      <td>3162</td>\n",
       "    </tr>\n",
       "    <tr>\n",
       "      <th>2005-05</th>\n",
       "      <td>3563</td>\n",
       "    </tr>\n",
       "    <tr>\n",
       "      <th>...</th>\n",
       "      <td>...</td>\n",
       "    </tr>\n",
       "    <tr>\n",
       "      <th>2018-10</th>\n",
       "      <td>1720</td>\n",
       "    </tr>\n",
       "    <tr>\n",
       "      <th>2018-11</th>\n",
       "      <td>2277</td>\n",
       "    </tr>\n",
       "    <tr>\n",
       "      <th>2018-12</th>\n",
       "      <td>3636</td>\n",
       "    </tr>\n",
       "    <tr>\n",
       "      <th>2019-01</th>\n",
       "      <td>4330</td>\n",
       "    </tr>\n",
       "    <tr>\n",
       "      <th>2019-02</th>\n",
       "      <td>3301</td>\n",
       "    </tr>\n",
       "  </tbody>\n",
       "</table>\n",
       "<p>169 rows × 1 columns</p>\n",
       "</div>"
      ],
      "text/plain": [
       "              speech\n",
       "sitting_date        \n",
       "2005-01         3424\n",
       "2005-02         4289\n",
       "2005-03         4167\n",
       "2005-04         3162\n",
       "2005-05         3563\n",
       "...              ...\n",
       "2018-10         1720\n",
       "2018-11         2277\n",
       "2018-12         3636\n",
       "2019-01         4330\n",
       "2019-02         3301\n",
       "\n",
       "[169 rows x 1 columns]"
      ]
     },
     "execution_count": 19,
     "metadata": {},
     "output_type": "execute_result"
    }
   ],
   "source": [
    "s_time = s_time.groupby(month).sum()\n",
    "s_time"
   ]
  },
  {
   "cell_type": "code",
   "execution_count": 20,
   "metadata": {},
   "outputs": [
    {
     "data": {
      "text/plain": [
       "Text(0.5, 1.0, 'SPEECHES OVER TIME')"
      ]
     },
     "execution_count": 20,
     "metadata": {},
     "output_type": "execute_result"
    },
    {
     "data": {
      "image/png": "[encoded data removed]",
      "text/plain": [
       "<Figure size 720x576 with 1 Axes>"
      ]
     },
     "metadata": {},
     "output_type": "display_data"
    }
   ],
   "source": [
    "s_time.plot(y = 'speech',figsize=(10,8),style='b')\n",
    "plt.ylabel('SPEECH')\n",
    "plt.title('SPEECHES OVER TIME')"
   ]
  },
  {
   "cell_type": "markdown",
   "metadata": {},
   "source": [
    "### As you can see the number of speeches per month changes intensively from year to year. However the volume of pulsation remains quite similar over the years. That could be due some perodical events that effect the number of speeches, such as elections, changing laws etc."
   ]
  },
  {
   "cell_type": "markdown",
   "metadata": {},
   "source": [
    "### Lets see now how the number of speeches defer along years for every political party"
   ]
  },
  {
   "cell_type": "code",
   "execution_count": 21,
   "metadata": {},
   "outputs": [],
   "source": [
    "s_time_party = greek_par.groupby([greek_par['sitting_date'].dt.year,'political_party'])['speech'].count().reset_index()"
   ]
  },
  {
   "cell_type": "code",
   "execution_count": 22,
   "metadata": {},
   "outputs": [
    {
     "data": {
      "text/html": [
       "<div>\n",
       "<style scoped>\n",
       "    .dataframe tbody tr th:only-of-type {\n",
       "        vertical-align: middle;\n",
       "    }\n",
       "\n",
       "    .dataframe tbody tr th {\n",
       "        vertical-align: top;\n",
       "    }\n",
       "\n",
       "    .dataframe thead th {\n",
       "        text-align: right;\n",
       "    }\n",
       "</style>\n",
       "<table border=\"1\" class=\"dataframe\">\n",
       "  <thead>\n",
       "    <tr style=\"text-align: right;\">\n",
       "      <th></th>\n",
       "      <th>sitting_date</th>\n",
       "      <th>political_party</th>\n",
       "      <th>speech</th>\n",
       "    </tr>\n",
       "  </thead>\n",
       "  <tbody>\n",
       "    <tr>\n",
       "      <th>0</th>\n",
       "      <td>2005</td>\n",
       "      <td>ανεξαρτητοι (εκτος κομματος)</td>\n",
       "      <td>152</td>\n",
       "    </tr>\n",
       "    <tr>\n",
       "      <th>1</th>\n",
       "      <td>2005</td>\n",
       "      <td>κομμουνιστικο κομμα ελλαδας</td>\n",
       "      <td>3318</td>\n",
       "    </tr>\n",
       "    <tr>\n",
       "      <th>2</th>\n",
       "      <td>2005</td>\n",
       "      <td>νεα δημοκρατια</td>\n",
       "      <td>30563</td>\n",
       "    </tr>\n",
       "    <tr>\n",
       "      <th>3</th>\n",
       "      <td>2005</td>\n",
       "      <td>πανελληνιο σοσιαλιστικο κινημα</td>\n",
       "      <td>14134</td>\n",
       "    </tr>\n",
       "    <tr>\n",
       "      <th>4</th>\n",
       "      <td>2005</td>\n",
       "      <td>συνασπισμος ριζοσπαστικης αριστερας</td>\n",
       "      <td>1426</td>\n",
       "    </tr>\n",
       "    <tr>\n",
       "      <th>...</th>\n",
       "      <td>...</td>\n",
       "      <td>...</td>\n",
       "      <td>...</td>\n",
       "    </tr>\n",
       "    <tr>\n",
       "      <th>95</th>\n",
       "      <td>2019</td>\n",
       "      <td>ενωση κεντρωων</td>\n",
       "      <td>541</td>\n",
       "    </tr>\n",
       "    <tr>\n",
       "      <th>96</th>\n",
       "      <td>2019</td>\n",
       "      <td>κομμουνιστικο κομμα ελλαδας</td>\n",
       "      <td>614</td>\n",
       "    </tr>\n",
       "    <tr>\n",
       "      <th>97</th>\n",
       "      <td>2019</td>\n",
       "      <td>λαικος συνδεσος - χρυση αυγη</td>\n",
       "      <td>231</td>\n",
       "    </tr>\n",
       "    <tr>\n",
       "      <th>98</th>\n",
       "      <td>2019</td>\n",
       "      <td>νεα δημοκρατια</td>\n",
       "      <td>1971</td>\n",
       "    </tr>\n",
       "    <tr>\n",
       "      <th>99</th>\n",
       "      <td>2019</td>\n",
       "      <td>συνασπισμος ριζοσπαστικης αριστερας</td>\n",
       "      <td>3152</td>\n",
       "    </tr>\n",
       "  </tbody>\n",
       "</table>\n",
       "<p>100 rows × 3 columns</p>\n",
       "</div>"
      ],
      "text/plain": [
       "    sitting_date                      political_party  speech\n",
       "0           2005         ανεξαρτητοι (εκτος κομματος)     152\n",
       "1           2005          κομμουνιστικο κομμα ελλαδας    3318\n",
       "2           2005                       νεα δημοκρατια   30563\n",
       "3           2005       πανελληνιο σοσιαλιστικο κινημα   14134\n",
       "4           2005  συνασπισμος ριζοσπαστικης αριστερας    1426\n",
       "..           ...                                  ...     ...\n",
       "95          2019                       ενωση κεντρωων     541\n",
       "96          2019          κομμουνιστικο κομμα ελλαδας     614\n",
       "97          2019         λαικος συνδεσος - χρυση αυγη     231\n",
       "98          2019                       νεα δημοκρατια    1971\n",
       "99          2019  συνασπισμος ριζοσπαστικης αριστερας    3152\n",
       "\n",
       "[100 rows x 3 columns]"
      ]
     },
     "execution_count": 22,
     "metadata": {},
     "output_type": "execute_result"
    }
   ],
   "source": [
    "s_time_party"
   ]
  },
  {
   "cell_type": "code",
   "execution_count": 23,
   "metadata": {},
   "outputs": [
    {
     "name": "stderr",
     "output_type": "stream",
     "text": [
      "C:\\Python\\lib\\site-packages\\seaborn\\categorical.py:3669: UserWarning: The `factorplot` function has been renamed to `catplot`. The original name will be removed in a future release. Please update your code. Note that the default `kind` in `factorplot` (`'point'`) has changed `'strip'` in `catplot`.\n",
      "  warnings.warn(msg)\n"
     ]
    },
    {
     "data": {
      "text/plain": [
       "<seaborn.axisgrid.FacetGrid at 0x1e7a8dcf9c8>"
      ]
     },
     "execution_count": 23,
     "metadata": {},
     "output_type": "execute_result"
    },
    {
     "data": {
      "image/png": "[encoded data removed]",
      "text/plain": [
       "<Figure size 720x1800 with 10 Axes>"
      ]
     },
     "metadata": {},
     "output_type": "display_data"
    }
   ],
   "source": [
    "sb.factorplot(x='sitting_date', y='speech', \n",
    "               col='political_party', data=s_time_party, kind='bar', col_wrap=2,\n",
    "              sharey=False)"
   ]
  },
  {
   "cell_type": "markdown",
   "metadata": {},
   "source": [
    "### As you can see it is very difficult to have a clear image with so many parties, so lets see the results for the 3 most important parties"
   ]
  },
  {
   "cell_type": "code",
   "execution_count": 24,
   "metadata": {},
   "outputs": [
    {
     "data": {
      "text/html": [
       "<div>\n",
       "<style scoped>\n",
       "    .dataframe tbody tr th:only-of-type {\n",
       "        vertical-align: middle;\n",
       "    }\n",
       "\n",
       "    .dataframe tbody tr th {\n",
       "        vertical-align: top;\n",
       "    }\n",
       "\n",
       "    .dataframe thead th {\n",
       "        text-align: right;\n",
       "    }\n",
       "</style>\n",
       "<table border=\"1\" class=\"dataframe\">\n",
       "  <thead>\n",
       "    <tr style=\"text-align: right;\">\n",
       "      <th></th>\n",
       "      <th>sitting_date</th>\n",
       "      <th>political_party</th>\n",
       "      <th>speech</th>\n",
       "    </tr>\n",
       "  </thead>\n",
       "  <tbody>\n",
       "    <tr>\n",
       "      <th>2</th>\n",
       "      <td>2005</td>\n",
       "      <td>νεα δημοκρατια</td>\n",
       "      <td>30563</td>\n",
       "    </tr>\n",
       "    <tr>\n",
       "      <th>3</th>\n",
       "      <td>2005</td>\n",
       "      <td>πανελληνιο σοσιαλιστικο κινημα</td>\n",
       "      <td>14134</td>\n",
       "    </tr>\n",
       "    <tr>\n",
       "      <th>4</th>\n",
       "      <td>2005</td>\n",
       "      <td>συνασπισμος ριζοσπαστικης αριστερας</td>\n",
       "      <td>1426</td>\n",
       "    </tr>\n",
       "    <tr>\n",
       "      <th>7</th>\n",
       "      <td>2006</td>\n",
       "      <td>νεα δημοκρατια</td>\n",
       "      <td>23756</td>\n",
       "    </tr>\n",
       "    <tr>\n",
       "      <th>8</th>\n",
       "      <td>2006</td>\n",
       "      <td>πανελληνιο σοσιαλιστικο κινημα</td>\n",
       "      <td>10312</td>\n",
       "    </tr>\n",
       "    <tr>\n",
       "      <th>9</th>\n",
       "      <td>2006</td>\n",
       "      <td>συνασπισμος ριζοσπαστικης αριστερας</td>\n",
       "      <td>1059</td>\n",
       "    </tr>\n",
       "    <tr>\n",
       "      <th>13</th>\n",
       "      <td>2007</td>\n",
       "      <td>νεα δημοκρατια</td>\n",
       "      <td>21573</td>\n",
       "    </tr>\n",
       "    <tr>\n",
       "      <th>14</th>\n",
       "      <td>2007</td>\n",
       "      <td>πανελληνιο σοσιαλιστικο κινημα</td>\n",
       "      <td>9075</td>\n",
       "    </tr>\n",
       "    <tr>\n",
       "      <th>15</th>\n",
       "      <td>2007</td>\n",
       "      <td>συνασπισμος ριζοσπαστικης αριστερας</td>\n",
       "      <td>1404</td>\n",
       "    </tr>\n",
       "    <tr>\n",
       "      <th>18</th>\n",
       "      <td>2008</td>\n",
       "      <td>νεα δημοκρατια</td>\n",
       "      <td>25390</td>\n",
       "    </tr>\n",
       "    <tr>\n",
       "      <th>19</th>\n",
       "      <td>2008</td>\n",
       "      <td>πανελληνιο σοσιαλιστικο κινημα</td>\n",
       "      <td>13028</td>\n",
       "    </tr>\n",
       "    <tr>\n",
       "      <th>20</th>\n",
       "      <td>2008</td>\n",
       "      <td>συνασπισμος ριζοσπαστικης αριστερας</td>\n",
       "      <td>3569</td>\n",
       "    </tr>\n",
       "    <tr>\n",
       "      <th>25</th>\n",
       "      <td>2009</td>\n",
       "      <td>νεα δημοκρατια</td>\n",
       "      <td>9217</td>\n",
       "    </tr>\n",
       "    <tr>\n",
       "      <th>26</th>\n",
       "      <td>2009</td>\n",
       "      <td>πανελληνιο σοσιαλιστικο κινημα</td>\n",
       "      <td>8866</td>\n",
       "    </tr>\n",
       "    <tr>\n",
       "      <th>27</th>\n",
       "      <td>2009</td>\n",
       "      <td>συνασπισμος ριζοσπαστικης αριστερας</td>\n",
       "      <td>2229</td>\n",
       "    </tr>\n",
       "    <tr>\n",
       "      <th>32</th>\n",
       "      <td>2010</td>\n",
       "      <td>νεα δημοκρατια</td>\n",
       "      <td>7148</td>\n",
       "    </tr>\n",
       "    <tr>\n",
       "      <th>33</th>\n",
       "      <td>2010</td>\n",
       "      <td>πανελληνιο σοσιαλιστικο κινημα</td>\n",
       "      <td>17612</td>\n",
       "    </tr>\n",
       "    <tr>\n",
       "      <th>34</th>\n",
       "      <td>2010</td>\n",
       "      <td>συνασπισμος ριζοσπαστικης αριστερας</td>\n",
       "      <td>4514</td>\n",
       "    </tr>\n",
       "    <tr>\n",
       "      <th>39</th>\n",
       "      <td>2011</td>\n",
       "      <td>νεα δημοκρατια</td>\n",
       "      <td>7170</td>\n",
       "    </tr>\n",
       "    <tr>\n",
       "      <th>40</th>\n",
       "      <td>2011</td>\n",
       "      <td>πανελληνιο σοσιαλιστικο κινημα</td>\n",
       "      <td>22727</td>\n",
       "    </tr>\n",
       "    <tr>\n",
       "      <th>41</th>\n",
       "      <td>2011</td>\n",
       "      <td>συνασπισμος ριζοσπαστικης αριστερας</td>\n",
       "      <td>6254</td>\n",
       "    </tr>\n",
       "    <tr>\n",
       "      <th>47</th>\n",
       "      <td>2012</td>\n",
       "      <td>νεα δημοκρατια</td>\n",
       "      <td>11929</td>\n",
       "    </tr>\n",
       "    <tr>\n",
       "      <th>48</th>\n",
       "      <td>2012</td>\n",
       "      <td>πανελληνιο σοσιαλιστικο κινημα</td>\n",
       "      <td>10165</td>\n",
       "    </tr>\n",
       "    <tr>\n",
       "      <th>49</th>\n",
       "      <td>2012</td>\n",
       "      <td>συνασπισμος ριζοσπαστικης αριστερας</td>\n",
       "      <td>6762</td>\n",
       "    </tr>\n",
       "    <tr>\n",
       "      <th>54</th>\n",
       "      <td>2013</td>\n",
       "      <td>νεα δημοκρατια</td>\n",
       "      <td>16400</td>\n",
       "    </tr>\n",
       "    <tr>\n",
       "      <th>55</th>\n",
       "      <td>2013</td>\n",
       "      <td>πανελληνιο σοσιαλιστικο κινημα</td>\n",
       "      <td>6590</td>\n",
       "    </tr>\n",
       "    <tr>\n",
       "      <th>56</th>\n",
       "      <td>2013</td>\n",
       "      <td>συνασπισμος ριζοσπαστικης αριστερας</td>\n",
       "      <td>12498</td>\n",
       "    </tr>\n",
       "    <tr>\n",
       "      <th>61</th>\n",
       "      <td>2014</td>\n",
       "      <td>νεα δημοκρατια</td>\n",
       "      <td>18065</td>\n",
       "    </tr>\n",
       "    <tr>\n",
       "      <th>62</th>\n",
       "      <td>2014</td>\n",
       "      <td>πανελληνιο σοσιαλιστικο κινημα</td>\n",
       "      <td>7914</td>\n",
       "    </tr>\n",
       "    <tr>\n",
       "      <th>63</th>\n",
       "      <td>2014</td>\n",
       "      <td>συνασπισμος ριζοσπαστικης αριστερας</td>\n",
       "      <td>14833</td>\n",
       "    </tr>\n",
       "    <tr>\n",
       "      <th>69</th>\n",
       "      <td>2015</td>\n",
       "      <td>νεα δημοκρατια</td>\n",
       "      <td>7903</td>\n",
       "    </tr>\n",
       "    <tr>\n",
       "      <th>70</th>\n",
       "      <td>2015</td>\n",
       "      <td>πανελληνιο σοσιαλιστικο κινημα</td>\n",
       "      <td>2530</td>\n",
       "    </tr>\n",
       "    <tr>\n",
       "      <th>71</th>\n",
       "      <td>2015</td>\n",
       "      <td>συνασπισμος ριζοσπαστικης αριστερας</td>\n",
       "      <td>16044</td>\n",
       "    </tr>\n",
       "    <tr>\n",
       "      <th>77</th>\n",
       "      <td>2016</td>\n",
       "      <td>νεα δημοκρατια</td>\n",
       "      <td>12941</td>\n",
       "    </tr>\n",
       "    <tr>\n",
       "      <th>78</th>\n",
       "      <td>2016</td>\n",
       "      <td>συνασπισμος ριζοσπαστικης αριστερας</td>\n",
       "      <td>24385</td>\n",
       "    </tr>\n",
       "    <tr>\n",
       "      <th>84</th>\n",
       "      <td>2017</td>\n",
       "      <td>νεα δημοκρατια</td>\n",
       "      <td>9898</td>\n",
       "    </tr>\n",
       "    <tr>\n",
       "      <th>85</th>\n",
       "      <td>2017</td>\n",
       "      <td>συνασπισμος ριζοσπαστικης αριστερας</td>\n",
       "      <td>16127</td>\n",
       "    </tr>\n",
       "    <tr>\n",
       "      <th>91</th>\n",
       "      <td>2018</td>\n",
       "      <td>νεα δημοκρατια</td>\n",
       "      <td>7435</td>\n",
       "    </tr>\n",
       "    <tr>\n",
       "      <th>92</th>\n",
       "      <td>2018</td>\n",
       "      <td>συνασπισμος ριζοσπαστικης αριστερας</td>\n",
       "      <td>12005</td>\n",
       "    </tr>\n",
       "    <tr>\n",
       "      <th>98</th>\n",
       "      <td>2019</td>\n",
       "      <td>νεα δημοκρατια</td>\n",
       "      <td>1971</td>\n",
       "    </tr>\n",
       "    <tr>\n",
       "      <th>99</th>\n",
       "      <td>2019</td>\n",
       "      <td>συνασπισμος ριζοσπαστικης αριστερας</td>\n",
       "      <td>3152</td>\n",
       "    </tr>\n",
       "  </tbody>\n",
       "</table>\n",
       "</div>"
      ],
      "text/plain": [
       "    sitting_date                      political_party  speech\n",
       "2           2005                       νεα δημοκρατια   30563\n",
       "3           2005       πανελληνιο σοσιαλιστικο κινημα   14134\n",
       "4           2005  συνασπισμος ριζοσπαστικης αριστερας    1426\n",
       "7           2006                       νεα δημοκρατια   23756\n",
       "8           2006       πανελληνιο σοσιαλιστικο κινημα   10312\n",
       "9           2006  συνασπισμος ριζοσπαστικης αριστερας    1059\n",
       "13          2007                       νεα δημοκρατια   21573\n",
       "14          2007       πανελληνιο σοσιαλιστικο κινημα    9075\n",
       "15          2007  συνασπισμος ριζοσπαστικης αριστερας    1404\n",
       "18          2008                       νεα δημοκρατια   25390\n",
       "19          2008       πανελληνιο σοσιαλιστικο κινημα   13028\n",
       "20          2008  συνασπισμος ριζοσπαστικης αριστερας    3569\n",
       "25          2009                       νεα δημοκρατια    9217\n",
       "26          2009       πανελληνιο σοσιαλιστικο κινημα    8866\n",
       "27          2009  συνασπισμος ριζοσπαστικης αριστερας    2229\n",
       "32          2010                       νεα δημοκρατια    7148\n",
       "33          2010       πανελληνιο σοσιαλιστικο κινημα   17612\n",
       "34          2010  συνασπισμος ριζοσπαστικης αριστερας    4514\n",
       "39          2011                       νεα δημοκρατια    7170\n",
       "40          2011       πανελληνιο σοσιαλιστικο κινημα   22727\n",
       "41          2011  συνασπισμος ριζοσπαστικης αριστερας    6254\n",
       "47          2012                       νεα δημοκρατια   11929\n",
       "48          2012       πανελληνιο σοσιαλιστικο κινημα   10165\n",
       "49          2012  συνασπισμος ριζοσπαστικης αριστερας    6762\n",
       "54          2013                       νεα δημοκρατια   16400\n",
       "55          2013       πανελληνιο σοσιαλιστικο κινημα    6590\n",
       "56          2013  συνασπισμος ριζοσπαστικης αριστερας   12498\n",
       "61          2014                       νεα δημοκρατια   18065\n",
       "62          2014       πανελληνιο σοσιαλιστικο κινημα    7914\n",
       "63          2014  συνασπισμος ριζοσπαστικης αριστερας   14833\n",
       "69          2015                       νεα δημοκρατια    7903\n",
       "70          2015       πανελληνιο σοσιαλιστικο κινημα    2530\n",
       "71          2015  συνασπισμος ριζοσπαστικης αριστερας   16044\n",
       "77          2016                       νεα δημοκρατια   12941\n",
       "78          2016  συνασπισμος ριζοσπαστικης αριστερας   24385\n",
       "84          2017                       νεα δημοκρατια    9898\n",
       "85          2017  συνασπισμος ριζοσπαστικης αριστερας   16127\n",
       "91          2018                       νεα δημοκρατια    7435\n",
       "92          2018  συνασπισμος ριζοσπαστικης αριστερας   12005\n",
       "98          2019                       νεα δημοκρατια    1971\n",
       "99          2019  συνασπισμος ριζοσπαστικης αριστερας    3152"
      ]
     },
     "execution_count": 24,
     "metadata": {},
     "output_type": "execute_result"
    }
   ],
   "source": [
    "stp_3 = s_time_party.loc[(s_time_party['political_party'] == 'νεα δημοκρατια') | (s_time_party['political_party'] == 'πανελληνιο σοσιαλιστικο κινημα') | (s_time_party['political_party'] == 'συνασπισμος ριζοσπαστικης αριστερας')]\n",
    "stp_3"
   ]
  },
  {
   "cell_type": "code",
   "execution_count": 25,
   "metadata": {},
   "outputs": [
    {
     "name": "stderr",
     "output_type": "stream",
     "text": [
      "C:\\Python\\lib\\site-packages\\seaborn\\categorical.py:3669: UserWarning: The `factorplot` function has been renamed to `catplot`. The original name will be removed in a future release. Please update your code. Note that the default `kind` in `factorplot` (`'point'`) has changed `'strip'` in `catplot`.\n",
      "  warnings.warn(msg)\n",
      "C:\\Python\\lib\\site-packages\\seaborn\\categorical.py:3675: UserWarning: The `size` parameter has been renamed to `height`; please update your code.\n",
      "  warnings.warn(msg, UserWarning)\n"
     ]
    },
    {
     "data": {
      "text/plain": [
       "<seaborn.axisgrid.FacetGrid at 0x1e7aa800788>"
      ]
     },
     "execution_count": 25,
     "metadata": {},
     "output_type": "execute_result"
    },
    {
     "data": {
      "image/png": "[encoded data removed]",
      "text/plain": [
       "<Figure size 1980x792 with 3 Axes>"
      ]
     },
     "metadata": {},
     "output_type": "display_data"
    }
   ],
   "source": [
    "sb.factorplot(x='sitting_date', y='speech', \n",
    "               col='political_party', data=stp_3, kind='bar', col_wrap=2,size=5.5, aspect=2.5,\n",
    "              sharey=False)"
   ]
  },
  {
   "cell_type": "markdown",
   "metadata": {},
   "source": [
    "### As we can clearly see there is a sharp increase on the ammount of speeches in 2015-2016 for 'SYRIZA'. That's of course due to that in 2015 it became the goverment party for the first time, so it had the most speakers in the parliament. Very definite, is also the sharp decrease of the ammount of speeches for 'pasok' in the last four years, where it was no longer one of the parties in the parliament"
   ]
  },
  {
   "cell_type": "markdown",
   "metadata": {},
   "source": [
    "## Classification without Neural Networks"
   ]
  },
  {
   "cell_type": "markdown",
   "metadata": {},
   "source": [
    "### To start lets keep only the columns we need"
   ]
  },
  {
   "cell_type": "code",
   "execution_count": 12,
   "metadata": {},
   "outputs": [
    {
     "data": {
      "text/html": [
       "<div>\n",
       "<style scoped>\n",
       "    .dataframe tbody tr th:only-of-type {\n",
       "        vertical-align: middle;\n",
       "    }\n",
       "\n",
       "    .dataframe tbody tr th {\n",
       "        vertical-align: top;\n",
       "    }\n",
       "\n",
       "    .dataframe thead th {\n",
       "        text-align: right;\n",
       "    }\n",
       "</style>\n",
       "<table border=\"1\" class=\"dataframe\">\n",
       "  <thead>\n",
       "    <tr style=\"text-align: right;\">\n",
       "      <th></th>\n",
       "      <th>political_party</th>\n",
       "      <th>speech</th>\n",
       "    </tr>\n",
       "  </thead>\n",
       "  <tbody>\n",
       "    <tr>\n",
       "      <th>0</th>\n",
       "      <td>πανελληνιο σοσιαλιστικο κινημα</td>\n",
       "      <td>Κυρίες και κύριοι συνάδελφοι, ένα γνωμικό ανα...</td>\n",
       "    </tr>\n",
       "    <tr>\n",
       "      <th>1</th>\n",
       "      <td>νεα δημοκρατια</td>\n",
       "      <td>Θα πάρετε χρόνο δύο λεπτών από τη δευτερολογί...</td>\n",
       "    </tr>\n",
       "    <tr>\n",
       "      <th>2</th>\n",
       "      <td>πανελληνιο σοσιαλιστικο κινημα</td>\n",
       "      <td>Μάλιστα, κύριε Πρόεδρε. Δεν θα παραλείψουμε ν...</td>\n",
       "    </tr>\n",
       "    <tr>\n",
       "      <th>3</th>\n",
       "      <td>νεα δημοκρατια</td>\n",
       "      <td>Για να μην υπάρχει διακοπή, όταν αγορεύετε γι...</td>\n",
       "    </tr>\n",
       "    <tr>\n",
       "      <th>4</th>\n",
       "      <td>πανελληνιο σοσιαλιστικο κινημα</td>\n",
       "      <td>Κύριε Πρόεδρε, κυρίες και κύριοι συνάδελφοι, ...</td>\n",
       "    </tr>\n",
       "    <tr>\n",
       "      <th>...</th>\n",
       "      <td>...</td>\n",
       "      <td>...</td>\n",
       "    </tr>\n",
       "    <tr>\n",
       "      <th>647421</th>\n",
       "      <td>νεα δημοκρατια</td>\n",
       "      <td>Τα υπόλοιπα στη δευτερολογία σας.Κύριε Συντυχ...</td>\n",
       "    </tr>\n",
       "    <tr>\n",
       "      <th>647422</th>\n",
       "      <td>κομμουνιστικο κομμα ελλαδας</td>\n",
       "      <td>Κύριε Πρόεδρε, οι καταστροφές προφανώς δεν ήτ...</td>\n",
       "    </tr>\n",
       "    <tr>\n",
       "      <th>647423</th>\n",
       "      <td>νεα δημοκρατια</td>\n",
       "      <td>Ορίστε, κύριε Υπουργέ, έχετε τον λόγο.</td>\n",
       "    </tr>\n",
       "    <tr>\n",
       "      <th>647424</th>\n",
       "      <td>νεα δημοκρατια</td>\n",
       "      <td>Αρκεί και το κεντρικό κράτος, κύριε Υπουργέ, ...</td>\n",
       "    </tr>\n",
       "    <tr>\n",
       "      <th>647425</th>\n",
       "      <td>νεα δημοκρατια</td>\n",
       "      <td>Με τη συναίνεση του Σώματος και ώρα 11.25΄ λύ...</td>\n",
       "    </tr>\n",
       "  </tbody>\n",
       "</table>\n",
       "<p>627914 rows × 2 columns</p>\n",
       "</div>"
      ],
      "text/plain": [
       "                       political_party  \\\n",
       "0       πανελληνιο σοσιαλιστικο κινημα   \n",
       "1                       νεα δημοκρατια   \n",
       "2       πανελληνιο σοσιαλιστικο κινημα   \n",
       "3                       νεα δημοκρατια   \n",
       "4       πανελληνιο σοσιαλιστικο κινημα   \n",
       "...                                ...   \n",
       "647421                  νεα δημοκρατια   \n",
       "647422     κομμουνιστικο κομμα ελλαδας   \n",
       "647423                  νεα δημοκρατια   \n",
       "647424                  νεα δημοκρατια   \n",
       "647425                  νεα δημοκρατια   \n",
       "\n",
       "                                                   speech  \n",
       "0        Κυρίες και κύριοι συνάδελφοι, ένα γνωμικό ανα...  \n",
       "1        Θα πάρετε χρόνο δύο λεπτών από τη δευτερολογί...  \n",
       "2        Μάλιστα, κύριε Πρόεδρε. Δεν θα παραλείψουμε ν...  \n",
       "3        Για να μην υπάρχει διακοπή, όταν αγορεύετε γι...  \n",
       "4        Κύριε Πρόεδρε, κυρίες και κύριοι συνάδελφοι, ...  \n",
       "...                                                   ...  \n",
       "647421   Τα υπόλοιπα στη δευτερολογία σας.Κύριε Συντυχ...  \n",
       "647422   Κύριε Πρόεδρε, οι καταστροφές προφανώς δεν ήτ...  \n",
       "647423             Ορίστε, κύριε Υπουργέ, έχετε τον λόγο.  \n",
       "647424   Αρκεί και το κεντρικό κράτος, κύριε Υπουργέ, ...  \n",
       "647425   Με τη συναίνεση του Σώματος και ώρα 11.25΄ λύ...  \n",
       "\n",
       "[627914 rows x 2 columns]"
      ]
     },
     "execution_count": 12,
     "metadata": {},
     "output_type": "execute_result"
    }
   ],
   "source": [
    "greek_par=greek_par[['political_party','speech']]\n",
    "greek_par"
   ]
  },
  {
   "cell_type": "markdown",
   "metadata": {},
   "source": [
    "### Time for some preprocessing..."
   ]
  },
  {
   "cell_type": "code",
   "execution_count": 13,
   "metadata": {},
   "outputs": [],
   "source": [
    "greek_par['speech'] = greek_par['speech'].apply(lambda x: x.lower())"
   ]
  },
  {
   "cell_type": "code",
   "execution_count": 14,
   "metadata": {},
   "outputs": [],
   "source": [
    "greek_par['speech'] = greek_par['speech'].apply(lambda x: re.sub(r\"[.,;:!(){}\\'/\"\"`<>*?~]\",\"\",x))"
   ]
  },
  {
   "cell_type": "code",
   "execution_count": 15,
   "metadata": {},
   "outputs": [
    {
     "data": {
      "text/html": [
       "<div>\n",
       "<style scoped>\n",
       "    .dataframe tbody tr th:only-of-type {\n",
       "        vertical-align: middle;\n",
       "    }\n",
       "\n",
       "    .dataframe tbody tr th {\n",
       "        vertical-align: top;\n",
       "    }\n",
       "\n",
       "    .dataframe thead th {\n",
       "        text-align: right;\n",
       "    }\n",
       "</style>\n",
       "<table border=\"1\" class=\"dataframe\">\n",
       "  <thead>\n",
       "    <tr style=\"text-align: right;\">\n",
       "      <th></th>\n",
       "      <th>political_party</th>\n",
       "      <th>speech</th>\n",
       "    </tr>\n",
       "  </thead>\n",
       "  <tbody>\n",
       "    <tr>\n",
       "      <th>0</th>\n",
       "      <td>πανελληνιο σοσιαλιστικο κινημα</td>\n",
       "      <td>κυρίες και κύριοι συνάδελφοι ένα γνωμικό αναφ...</td>\n",
       "    </tr>\n",
       "    <tr>\n",
       "      <th>1</th>\n",
       "      <td>νεα δημοκρατια</td>\n",
       "      <td>θα πάρετε χρόνο δύο λεπτών από τη δευτερολογί...</td>\n",
       "    </tr>\n",
       "    <tr>\n",
       "      <th>2</th>\n",
       "      <td>πανελληνιο σοσιαλιστικο κινημα</td>\n",
       "      <td>μάλιστα κύριε πρόεδρε δεν θα παραλείψουμε να ...</td>\n",
       "    </tr>\n",
       "    <tr>\n",
       "      <th>3</th>\n",
       "      <td>νεα δημοκρατια</td>\n",
       "      <td>για να μην υπάρχει διακοπή όταν αγορεύετε για...</td>\n",
       "    </tr>\n",
       "    <tr>\n",
       "      <th>4</th>\n",
       "      <td>πανελληνιο σοσιαλιστικο κινημα</td>\n",
       "      <td>κύριε πρόεδρε κυρίες και κύριοι συνάδελφοι ο ...</td>\n",
       "    </tr>\n",
       "    <tr>\n",
       "      <th>5</th>\n",
       "      <td>νεα δημοκρατια</td>\n",
       "      <td>ευχαριστούμε τον κύριο τσοχατζόπουλο κύριε τσ...</td>\n",
       "    </tr>\n",
       "    <tr>\n",
       "      <th>6</th>\n",
       "      <td>πανελληνιο σοσιαλιστικο κινημα</td>\n",
       "      <td>ευχαριστώ κύριε πρόεδρε κυρία και κύριοι συνά...</td>\n",
       "    </tr>\n",
       "    <tr>\n",
       "      <th>7</th>\n",
       "      <td>νεα δημοκρατια</td>\n",
       "      <td>κύριε λωτίδη εξαντλήσατε και εσείς το χρόνο τ...</td>\n",
       "    </tr>\n",
       "    <tr>\n",
       "      <th>8</th>\n",
       "      <td>πανελληνιο σοσιαλιστικο κινημα</td>\n",
       "      <td>ευχαριστώ κύριε πρόεδρε κυρίες και κύριοι συν...</td>\n",
       "    </tr>\n",
       "    <tr>\n",
       "      <th>9</th>\n",
       "      <td>νεα δημοκρατια</td>\n",
       "      <td>ο κ τόγιας έχει το λόγο</td>\n",
       "    </tr>\n",
       "  </tbody>\n",
       "</table>\n",
       "</div>"
      ],
      "text/plain": [
       "                  political_party  \\\n",
       "0  πανελληνιο σοσιαλιστικο κινημα   \n",
       "1                  νεα δημοκρατια   \n",
       "2  πανελληνιο σοσιαλιστικο κινημα   \n",
       "3                  νεα δημοκρατια   \n",
       "4  πανελληνιο σοσιαλιστικο κινημα   \n",
       "5                  νεα δημοκρατια   \n",
       "6  πανελληνιο σοσιαλιστικο κινημα   \n",
       "7                  νεα δημοκρατια   \n",
       "8  πανελληνιο σοσιαλιστικο κινημα   \n",
       "9                  νεα δημοκρατια   \n",
       "\n",
       "                                              speech  \n",
       "0   κυρίες και κύριοι συνάδελφοι ένα γνωμικό αναφ...  \n",
       "1   θα πάρετε χρόνο δύο λεπτών από τη δευτερολογί...  \n",
       "2   μάλιστα κύριε πρόεδρε δεν θα παραλείψουμε να ...  \n",
       "3   για να μην υπάρχει διακοπή όταν αγορεύετε για...  \n",
       "4   κύριε πρόεδρε κυρίες και κύριοι συνάδελφοι ο ...  \n",
       "5   ευχαριστούμε τον κύριο τσοχατζόπουλο κύριε τσ...  \n",
       "6   ευχαριστώ κύριε πρόεδρε κυρία και κύριοι συνά...  \n",
       "7   κύριε λωτίδη εξαντλήσατε και εσείς το χρόνο τ...  \n",
       "8   ευχαριστώ κύριε πρόεδρε κυρίες και κύριοι συν...  \n",
       "9                            ο κ τόγιας έχει το λόγο  "
      ]
     },
     "execution_count": 15,
     "metadata": {},
     "output_type": "execute_result"
    }
   ],
   "source": [
    "greek_par.head(10)"
   ]
  },
  {
   "cell_type": "markdown",
   "metadata": {},
   "source": [
    "### Due to even more excesive runtimes of the classifiers and grid seraches that follow, once again I have to narrow down my dataset even more, to a small part of the original one. Otherwise we are not going to have results at all"
   ]
  },
  {
   "cell_type": "markdown",
   "metadata": {},
   "source": [
    "### So lets take a random sample of 100000 rows"
   ]
  },
  {
   "cell_type": "code",
   "execution_count": 15,
   "metadata": {},
   "outputs": [],
   "source": [
    "train_dt_0 = greek_par.sample(n = 100000)"
   ]
  },
  {
   "cell_type": "code",
   "execution_count": 17,
   "metadata": {},
   "outputs": [
    {
     "data": {
      "text/html": [
       "<div>\n",
       "<style scoped>\n",
       "    .dataframe tbody tr th:only-of-type {\n",
       "        vertical-align: middle;\n",
       "    }\n",
       "\n",
       "    .dataframe tbody tr th {\n",
       "        vertical-align: top;\n",
       "    }\n",
       "\n",
       "    .dataframe thead th {\n",
       "        text-align: right;\n",
       "    }\n",
       "</style>\n",
       "<table border=\"1\" class=\"dataframe\">\n",
       "  <thead>\n",
       "    <tr style=\"text-align: right;\">\n",
       "      <th></th>\n",
       "      <th>political_party</th>\n",
       "      <th>speech</th>\n",
       "    </tr>\n",
       "  </thead>\n",
       "  <tbody>\n",
       "    <tr>\n",
       "      <th>135385</th>\n",
       "      <td>νεα δημοκρατια</td>\n",
       "      <td>καμμία</td>\n",
       "    </tr>\n",
       "    <tr>\n",
       "      <th>459657</th>\n",
       "      <td>νεα δημοκρατια</td>\n",
       "      <td>τόσο χάλια ήταν</td>\n",
       "    </tr>\n",
       "    <tr>\n",
       "      <th>258898</th>\n",
       "      <td>πανελληνιο σοσιαλιστικο κινημα</td>\n",
       "      <td>το λόγο έχει ο βουλευτής του πασοκ ο κ ανδρέα...</td>\n",
       "    </tr>\n",
       "    <tr>\n",
       "      <th>509399</th>\n",
       "      <td>συνασπισμος ριζοσπαστικης αριστερας</td>\n",
       "      <td>δεκτό δεκτό</td>\n",
       "    </tr>\n",
       "    <tr>\n",
       "      <th>233139</th>\n",
       "      <td>πανελληνιο σοσιαλιστικο κινημα</td>\n",
       "      <td>το λόγο έχει ο εισηγητής της νέας δημοκρατίας...</td>\n",
       "    </tr>\n",
       "    <tr>\n",
       "      <th>367384</th>\n",
       "      <td>νεα δημοκρατια</td>\n",
       "      <td>ευχαριστούμε πολύτο λόγο έχει ο αντιλέγων κ κ...</td>\n",
       "    </tr>\n",
       "    <tr>\n",
       "      <th>361481</th>\n",
       "      <td>νεα δημοκρατια</td>\n",
       "      <td>είναι αντικατάσταση παραγράφου άρθρου που έχε...</td>\n",
       "    </tr>\n",
       "    <tr>\n",
       "      <th>476442</th>\n",
       "      <td>κομμουνιστικο κομμα ελλαδας</td>\n",
       "      <td>ευχαριστώ κύριε πρόεδρεκύριε υπουργέ βγάζετε ...</td>\n",
       "    </tr>\n",
       "    <tr>\n",
       "      <th>608492</th>\n",
       "      <td>συνασπισμος ριζοσπαστικης αριστερας</td>\n",
       "      <td>είμαστε σε ρυθμό αύξησης οι δεύτεροι μεταξύ τ...</td>\n",
       "    </tr>\n",
       "    <tr>\n",
       "      <th>35800</th>\n",
       "      <td>πανελληνιο σοσιαλιστικο κινημα</td>\n",
       "      <td>όχι κύριε πρόεδρε δεν θα κάνω χρήση του χρόνο...</td>\n",
       "    </tr>\n",
       "  </tbody>\n",
       "</table>\n",
       "</div>"
      ],
      "text/plain": [
       "                            political_party  \\\n",
       "135385                       νεα δημοκρατια   \n",
       "459657                       νεα δημοκρατια   \n",
       "258898       πανελληνιο σοσιαλιστικο κινημα   \n",
       "509399  συνασπισμος ριζοσπαστικης αριστερας   \n",
       "233139       πανελληνιο σοσιαλιστικο κινημα   \n",
       "367384                       νεα δημοκρατια   \n",
       "361481                       νεα δημοκρατια   \n",
       "476442          κομμουνιστικο κομμα ελλαδας   \n",
       "608492  συνασπισμος ριζοσπαστικης αριστερας   \n",
       "35800        πανελληνιο σοσιαλιστικο κινημα   \n",
       "\n",
       "                                                   speech  \n",
       "135385                                             καμμία  \n",
       "459657                                    τόσο χάλια ήταν  \n",
       "258898   το λόγο έχει ο βουλευτής του πασοκ ο κ ανδρέα...  \n",
       "509399                                        δεκτό δεκτό  \n",
       "233139   το λόγο έχει ο εισηγητής της νέας δημοκρατίας...  \n",
       "367384   ευχαριστούμε πολύτο λόγο έχει ο αντιλέγων κ κ...  \n",
       "361481   είναι αντικατάσταση παραγράφου άρθρου που έχε...  \n",
       "476442   ευχαριστώ κύριε πρόεδρεκύριε υπουργέ βγάζετε ...  \n",
       "608492   είμαστε σε ρυθμό αύξησης οι δεύτεροι μεταξύ τ...  \n",
       "35800    όχι κύριε πρόεδρε δεν θα κάνω χρήση του χρόνο...  "
      ]
     },
     "execution_count": 17,
     "metadata": {},
     "output_type": "execute_result"
    }
   ],
   "source": [
    "train_dt_0.head(10)"
   ]
  },
  {
   "cell_type": "markdown",
   "metadata": {},
   "source": [
    "### Let's see the potential support of our dataset"
   ]
  },
  {
   "cell_type": "code",
   "execution_count": 18,
   "metadata": {},
   "outputs": [
    {
     "data": {
      "text/html": [
       "<div>\n",
       "<style scoped>\n",
       "    .dataframe tbody tr th:only-of-type {\n",
       "        vertical-align: middle;\n",
       "    }\n",
       "\n",
       "    .dataframe tbody tr th {\n",
       "        vertical-align: top;\n",
       "    }\n",
       "\n",
       "    .dataframe thead th {\n",
       "        text-align: right;\n",
       "    }\n",
       "</style>\n",
       "<table border=\"1\" class=\"dataframe\">\n",
       "  <thead>\n",
       "    <tr style=\"text-align: right;\">\n",
       "      <th></th>\n",
       "      <th>speech</th>\n",
       "    </tr>\n",
       "    <tr>\n",
       "      <th>political_party</th>\n",
       "      <th></th>\n",
       "    </tr>\n",
       "  </thead>\n",
       "  <tbody>\n",
       "    <tr>\n",
       "      <th>ανεξαρτητοι (εκτος κομματος)</th>\n",
       "      <td>4212</td>\n",
       "    </tr>\n",
       "    <tr>\n",
       "      <th>ανεξαρτητοι ελληνες - πανος καμμενος</th>\n",
       "      <td>2184</td>\n",
       "    </tr>\n",
       "    <tr>\n",
       "      <th>δημοκρατική συμπαράταξη</th>\n",
       "      <td>3704</td>\n",
       "    </tr>\n",
       "    <tr>\n",
       "      <th>ενωση κεντρωων</th>\n",
       "      <td>1581</td>\n",
       "    </tr>\n",
       "    <tr>\n",
       "      <th>κομμουνιστικο κομμα ελλαδας</th>\n",
       "      <td>9149</td>\n",
       "    </tr>\n",
       "    <tr>\n",
       "      <th>λαικος ορθοδοξος συναγερμος</th>\n",
       "      <td>3711</td>\n",
       "    </tr>\n",
       "    <tr>\n",
       "      <th>λαικος συνδεσος - χρυση αυγη</th>\n",
       "      <td>2278</td>\n",
       "    </tr>\n",
       "    <tr>\n",
       "      <th>νεα δημοκρατια</th>\n",
       "      <td>33569</td>\n",
       "    </tr>\n",
       "    <tr>\n",
       "      <th>πανελληνιο σοσιαλιστικο κινημα</th>\n",
       "      <td>19361</td>\n",
       "    </tr>\n",
       "    <tr>\n",
       "      <th>συνασπισμος ριζοσπαστικης αριστερας</th>\n",
       "      <td>20251</td>\n",
       "    </tr>\n",
       "  </tbody>\n",
       "</table>\n",
       "</div>"
      ],
      "text/plain": [
       "                                      speech\n",
       "political_party                             \n",
       "ανεξαρτητοι (εκτος κομματος)            4212\n",
       "ανεξαρτητοι ελληνες - πανος καμμενος    2184\n",
       "δημοκρατική συμπαράταξη                 3704\n",
       "ενωση κεντρωων                          1581\n",
       "κομμουνιστικο κομμα ελλαδας             9149\n",
       "λαικος ορθοδοξος συναγερμος             3711\n",
       "λαικος συνδεσος - χρυση αυγη            2278\n",
       "νεα δημοκρατια                         33569\n",
       "πανελληνιο σοσιαλιστικο κινημα         19361\n",
       "συνασπισμος ριζοσπαστικης αριστερας    20251"
      ]
     },
     "execution_count": 18,
     "metadata": {},
     "output_type": "execute_result"
    }
   ],
   "source": [
    "train_dt_0.groupby(by='political_party').count()"
   ]
  },
  {
   "cell_type": "markdown",
   "metadata": {},
   "source": [
    "### Under these circumstances we could say it is satisfactorly balanced"
   ]
  },
  {
   "cell_type": "code",
   "execution_count": 19,
   "metadata": {},
   "outputs": [
    {
     "data": {
      "text/plain": [
       "array(['ανεξαρτητοι (εκτος κομματος)',\n",
       "       'συνασπισμος ριζοσπαστικης αριστερας', 'νεα δημοκρατια',\n",
       "       'ενωση κεντρωων', 'δημοκρατική συμπαράταξη',\n",
       "       'πανελληνιο σοσιαλιστικο κινημα', 'κομμουνιστικο κομμα ελλαδας',\n",
       "       'λαικος συνδεσος - χρυση αυγη', 'λαικος ορθοδοξος συναγερμος',\n",
       "       'ανεξαρτητοι ελληνες - πανος καμμενος'], dtype=object)"
      ]
     },
     "execution_count": 19,
     "metadata": {},
     "output_type": "execute_result"
    }
   ],
   "source": [
    "parties = train_dt_0['political_party'].unique()\n",
    "parties"
   ]
  },
  {
   "cell_type": "markdown",
   "metadata": {},
   "source": [
    "### Due to sample's randomness I have to make sure that train dt and test dt, do not cross over"
   ]
  },
  {
   "cell_type": "code",
   "execution_count": 16,
   "metadata": {},
   "outputs": [],
   "source": [
    "index_list = train_dt_0.index.to_list()"
   ]
  },
  {
   "cell_type": "code",
   "execution_count": 17,
   "metadata": {},
   "outputs": [],
   "source": [
    "test_dt_0 = greek_par[~greek_par.index.isin(index_list)]"
   ]
  },
  {
   "cell_type": "code",
   "execution_count": 18,
   "metadata": {},
   "outputs": [],
   "source": [
    "test_dt_0 = test_dt_0.sample(n = 50000)"
   ]
  },
  {
   "cell_type": "markdown",
   "metadata": {},
   "source": [
    "### So time begin the natural language processing !!!"
   ]
  },
  {
   "cell_type": "code",
   "execution_count": 34,
   "metadata": {},
   "outputs": [],
   "source": [
    "import sklearn\n",
    "from sklearn.feature_extraction.text import TfidfVectorizer\n",
    "from sklearn.feature_selection import SelectKBest\n",
    "from sklearn.feature_selection import f_classif\n",
    "from sklearn.feature_extraction.text import TfidfTransformer\n",
    "from sklearn.dummy import DummyClassifier\n",
    "from sklearn import metrics\n",
    "import nltk\n",
    "from nltk.tokenize import word_tokenize\n",
    "from sklearn.svm import LinearSVC"
   ]
  },
  {
   "cell_type": "markdown",
   "metadata": {},
   "source": [
    "### In order to have a refernce point so I can evaluate my progress I will run DummyClassifier "
   ]
  },
  {
   "cell_type": "code",
   "execution_count": 28,
   "metadata": {},
   "outputs": [
    {
     "name": "stderr",
     "output_type": "stream",
     "text": [
      "C:\\Python\\lib\\site-packages\\sklearn\\dummy.py:132: FutureWarning: The default value of strategy will change from stratified to prior in 0.24.\n",
      "  \"stratified to prior in 0.24.\", FutureWarning)\n"
     ]
    },
    {
     "data": {
      "text/plain": [
       "DummyClassifier(constant=None, random_state=None, strategy='warn')"
      ]
     },
     "execution_count": 28,
     "metadata": {},
     "output_type": "execute_result"
    }
   ],
   "source": [
    "dummy_clf = DummyClassifier()\n",
    "dummy_clf.fit(train_dt_0.speech,train_dt_0.political_party)"
   ]
  },
  {
   "cell_type": "code",
   "execution_count": 29,
   "metadata": {},
   "outputs": [
    {
     "data": {
      "text/plain": [
       "0.20204"
      ]
     },
     "execution_count": 29,
     "metadata": {},
     "output_type": "execute_result"
    }
   ],
   "source": [
    "predicted = dummy_clf.predict(test_dt_0.speech)\n",
    "np.mean(predicted == test_dt_0.political_party)"
   ]
  },
  {
   "cell_type": "code",
   "execution_count": 30,
   "metadata": {},
   "outputs": [
    {
     "name": "stdout",
     "output_type": "stream",
     "text": [
      "                                      precision    recall  f1-score   support\n",
      "\n",
      "        ανεξαρτητοι (εκτος κομματος)       0.04      0.04      0.04      2210\n",
      "ανεξαρτητοι ελληνες - πανος καμμενος       0.02      0.02      0.02      1049\n",
      "             δημοκρατική συμπαράταξη       0.03      0.03      0.03      1859\n",
      "                      ενωση κεντρωων       0.01      0.01      0.01       775\n",
      "         κομμουνιστικο κομμα ελλαδας       0.09      0.09      0.09      4443\n",
      "         λαικος ορθοδοξος συναγερμος       0.03      0.03      0.03      1827\n",
      "        λαικος συνδεσος - χρυση αυγη       0.03      0.03      0.03      1151\n",
      "                      νεα δημοκρατια       0.34      0.33      0.33     16861\n",
      "      πανελληνιο σοσιαλιστικο κινημα       0.19      0.19      0.19      9859\n",
      " συνασπισμος ριζοσπαστικης αριστερας       0.19      0.20      0.19      9966\n",
      "\n",
      "                            accuracy                           0.20     50000\n",
      "                           macro avg       0.10      0.10      0.10     50000\n",
      "                        weighted avg       0.20      0.20      0.20     50000\n",
      "\n"
     ]
    }
   ],
   "source": [
    "print(metrics.classification_report(test_dt_0.political_party, predicted))"
   ]
  },
  {
   "cell_type": "markdown",
   "metadata": {},
   "source": [
    "### Let's try now MultinomialNB"
   ]
  },
  {
   "cell_type": "code",
   "execution_count": 23,
   "metadata": {},
   "outputs": [],
   "source": [
    "vectorizer = TfidfVectorizer()"
   ]
  },
  {
   "cell_type": "code",
   "execution_count": 24,
   "metadata": {},
   "outputs": [],
   "source": [
    "from sklearn.naive_bayes import MultinomialNB"
   ]
  },
  {
   "cell_type": "code",
   "execution_count": 25,
   "metadata": {},
   "outputs": [],
   "source": [
    "from sklearn.pipeline import Pipeline\n",
    "text_clf = Pipeline([('vect', vectorizer),\n",
    "                     ('clf', MultinomialNB()),\n",
    "                    ])"
   ]
  },
  {
   "cell_type": "code",
   "execution_count": 44,
   "metadata": {},
   "outputs": [
    {
     "data": {
      "text/plain": [
       "Pipeline(memory=None,\n",
       "         steps=[('vect',\n",
       "                 TfidfVectorizer(analyzer='word', binary=False,\n",
       "                                 decode_error='strict',\n",
       "                                 dtype=<class 'numpy.float64'>,\n",
       "                                 encoding='utf-8', input='content',\n",
       "                                 lowercase=True, max_df=1.0, max_features=None,\n",
       "                                 min_df=1, ngram_range=(1, 1), norm='l2',\n",
       "                                 preprocessor=None, smooth_idf=True,\n",
       "                                 stop_words=None, strip_accents=None,\n",
       "                                 sublinear_tf=False,\n",
       "                                 token_pattern='(?u)\\\\b\\\\w\\\\w+\\\\b',\n",
       "                                 tokenizer=None, use_idf=True,\n",
       "                                 vocabulary=None)),\n",
       "                ('clf',\n",
       "                 MultinomialNB(alpha=1.0, class_prior=None, fit_prior=True))],\n",
       "         verbose=False)"
      ]
     },
     "execution_count": 44,
     "metadata": {},
     "output_type": "execute_result"
    }
   ],
   "source": [
    "text_clf.fit(train_dt_0.speech, train_dt_0.political_party)"
   ]
  },
  {
   "cell_type": "code",
   "execution_count": 45,
   "metadata": {},
   "outputs": [
    {
     "data": {
      "text/plain": [
       "0.36828"
      ]
     },
     "execution_count": 45,
     "metadata": {},
     "output_type": "execute_result"
    }
   ],
   "source": [
    "predicted = text_clf.predict(test_dt_0.speech) \n",
    "np.mean(predicted == test_dt_0.political_party)"
   ]
  },
  {
   "cell_type": "markdown",
   "metadata": {},
   "source": [
    "### So there is some improvement as you can see"
   ]
  },
  {
   "cell_type": "markdown",
   "metadata": {},
   "source": [
    "### Now let's run some GridSearches, in order to find better parameters that suit our model"
   ]
  },
  {
   "cell_type": "markdown",
   "metadata": {},
   "source": [
    "#### (As you will see both in this and the following tasks, I'm running gridsearches for a sample of the dataset, and then I'm doing the final validation for each classifier, neural network etc. with almost the hole dataset using the parameters I got from the gridsearches or others that I found in sklearn or tensorflow documentation. That's not 100% right because the outcome of the gridsearch may differ depending on the sample and the parameters mixture. Never the less I kind of have to do this this way because otherwise I have many resourses related problems such as: excesive runtimes, kernel dies, ram overload-mostly in colab- )"
   ]
  },
  {
   "cell_type": "code",
   "execution_count": 26,
   "metadata": {},
   "outputs": [],
   "source": [
    "from sklearn.model_selection import GridSearchCV\n",
    "parameters = {'vect__max_df': (0.5,0.75, 1.0),\n",
    " 'vect__ngram_range': [(1, 1), (1, 2)],\n",
    " 'vect__max_features': (5000, 10000),}\n",
    "gs_clf = GridSearchCV(text_clf, parameters, n_jobs=-1, cv=5)"
   ]
  },
  {
   "cell_type": "code",
   "execution_count": 47,
   "metadata": {},
   "outputs": [
    {
     "name": "stderr",
     "output_type": "stream",
     "text": [
      "C:\\Python\\lib\\site-packages\\joblib\\externals\\loky\\process_executor.py:706: UserWarning: A worker stopped while some jobs were given to the executor. This can be caused by a too short worker timeout or by a memory leak.\n",
      "  \"timeout or by a memory leak.\", UserWarning\n"
     ]
    }
   ],
   "source": [
    "gs_clf = gs_clf.fit(train_dt_0.speech, train_dt_0.political_party)"
   ]
  },
  {
   "cell_type": "code",
   "execution_count": 48,
   "metadata": {},
   "outputs": [
    {
     "data": {
      "text/plain": [
       "{'vect__max_df': 0.5, 'vect__max_features': 10000, 'vect__ngram_range': (1, 2)}"
      ]
     },
     "execution_count": 48,
     "metadata": {},
     "output_type": "execute_result"
    }
   ],
   "source": [
    "gs_clf.best_params_"
   ]
  },
  {
   "cell_type": "markdown",
   "metadata": {},
   "source": [
    "### After finding the comparatively better parameters let's see the improvement, adding also some greek stop words"
   ]
  },
  {
   "cell_type": "code",
   "execution_count": 29,
   "metadata": {},
   "outputs": [],
   "source": [
    "stop_words = [\"ο\",\"η\",\"το\",\"οι\",\"τα\",\"του\",\"της\",\"των\",\"τον\",\"την\",\"και\",\"είμαι\",\"είσαι\",\"είναι\",\"είμαστε\",\"είστε\",\"στο\",\"στον\",\"στη\",\"στην\",\"μα\",\"άλλα\",\"απο\",\"για\",\"προς\",\"με\",\"σε\",\"ως\",\"παρά\",\"αντί\",\"κατά\",\"μετά\",\"θα\",\"να\",\"δε\",\"δεν\",\"μη\",\"μην\",\"επί\",\"ενώ\",\"εάν\",\"αν\",\"τότε\",\"που\",\"πως\",\"ποιος\",\"ποιά\",\"ποιό\",\"ποιοί\",\"ποιές\",\"ποιών\",\"ποιούς\",\"αυτός\",\"αυτή\",\"αυτό\",\"αυτοί\",\"αυτών\",\"αυτούς\",\"αυτές\",\"αυτά\",\"εκείνος\",\"εκείνη\",\"εκείνο\",\"εκείνοι\",\"εκείνες\",\"εκείνα\",\"εκείνων\",\"εκείνους\",\"όπως\",\"όμως\",\"ίσως\",\"όσο\",\"ότι\"]"
   ]
  },
  {
   "cell_type": "code",
   "execution_count": 30,
   "metadata": {},
   "outputs": [],
   "source": [
    "vectorizer = TfidfVectorizer(ngram_range=(1, 2),min_df=2,max_features=10000,max_df=0.5,stop_words=stop_words)"
   ]
  },
  {
   "cell_type": "code",
   "execution_count": 51,
   "metadata": {},
   "outputs": [
    {
     "data": {
      "text/plain": [
       "0.40016"
      ]
     },
     "execution_count": 51,
     "metadata": {},
     "output_type": "execute_result"
    }
   ],
   "source": [
    "text_clf = Pipeline([('vect', vectorizer),\n",
    "                     ('clf', MultinomialNB(alpha = 1.1e-05)),\n",
    "                    ])\n",
    "text_clf.fit(train_dt_0.speech, train_dt_0.political_party)\n",
    "predicted = text_clf.predict(test_dt_0.speech) \n",
    "np.mean(predicted == test_dt_0.political_party)"
   ]
  },
  {
   "cell_type": "markdown",
   "metadata": {},
   "source": [
    "### To even more sure for our classifier, lets make a cross validation"
   ]
  },
  {
   "cell_type": "code",
   "execution_count": 31,
   "metadata": {},
   "outputs": [
    {
     "data": {
      "text/plain": [
       "array([0.36604, 0.36444, 0.36452, 0.36348])"
      ]
     },
     "execution_count": 31,
     "metadata": {},
     "output_type": "execute_result"
    }
   ],
   "source": [
    "from sklearn.model_selection import cross_val_score\n",
    "\n",
    "scores = cross_val_score(text_clf,train_dt_0.speech,train_dt_0.political_party, cv=4, scoring='accuracy')\n",
    "scores"
   ]
  },
  {
   "cell_type": "markdown",
   "metadata": {},
   "source": [
    "### So scores are below 0.40, lets see how it is going on a significant sample this time"
   ]
  },
  {
   "cell_type": "code",
   "execution_count": 20,
   "metadata": {},
   "outputs": [],
   "source": [
    "train_dt_1 = greek_par.sample(n = 500000)"
   ]
  },
  {
   "cell_type": "code",
   "execution_count": 21,
   "metadata": {},
   "outputs": [
    {
     "data": {
      "text/html": [
       "<div>\n",
       "<style scoped>\n",
       "    .dataframe tbody tr th:only-of-type {\n",
       "        vertical-align: middle;\n",
       "    }\n",
       "\n",
       "    .dataframe tbody tr th {\n",
       "        vertical-align: top;\n",
       "    }\n",
       "\n",
       "    .dataframe thead th {\n",
       "        text-align: right;\n",
       "    }\n",
       "</style>\n",
       "<table border=\"1\" class=\"dataframe\">\n",
       "  <thead>\n",
       "    <tr style=\"text-align: right;\">\n",
       "      <th></th>\n",
       "      <th>speech</th>\n",
       "    </tr>\n",
       "    <tr>\n",
       "      <th>political_party</th>\n",
       "      <th></th>\n",
       "    </tr>\n",
       "  </thead>\n",
       "  <tbody>\n",
       "    <tr>\n",
       "      <th>ανεξαρτητοι (εκτος κομματος)</th>\n",
       "      <td>20692</td>\n",
       "    </tr>\n",
       "    <tr>\n",
       "      <th>ανεξαρτητοι ελληνες - πανος καμμενος</th>\n",
       "      <td>10996</td>\n",
       "    </tr>\n",
       "    <tr>\n",
       "      <th>δημοκρατική συμπαράταξη</th>\n",
       "      <td>18353</td>\n",
       "    </tr>\n",
       "    <tr>\n",
       "      <th>ενωση κεντρωων</th>\n",
       "      <td>7785</td>\n",
       "    </tr>\n",
       "    <tr>\n",
       "      <th>κομμουνιστικο κομμα ελλαδας</th>\n",
       "      <td>45643</td>\n",
       "    </tr>\n",
       "    <tr>\n",
       "      <th>λαικος ορθοδοξος συναγερμος</th>\n",
       "      <td>18594</td>\n",
       "    </tr>\n",
       "    <tr>\n",
       "      <th>λαικος συνδεσος - χρυση αυγη</th>\n",
       "      <td>11321</td>\n",
       "    </tr>\n",
       "    <tr>\n",
       "      <th>νεα δημοκρατια</th>\n",
       "      <td>168073</td>\n",
       "    </tr>\n",
       "    <tr>\n",
       "      <th>πανελληνιο σοσιαλιστικο κινημα</th>\n",
       "      <td>97764</td>\n",
       "    </tr>\n",
       "    <tr>\n",
       "      <th>συνασπισμος ριζοσπαστικης αριστερας</th>\n",
       "      <td>100779</td>\n",
       "    </tr>\n",
       "  </tbody>\n",
       "</table>\n",
       "</div>"
      ],
      "text/plain": [
       "                                      speech\n",
       "political_party                             \n",
       "ανεξαρτητοι (εκτος κομματος)           20692\n",
       "ανεξαρτητοι ελληνες - πανος καμμενος   10996\n",
       "δημοκρατική συμπαράταξη                18353\n",
       "ενωση κεντρωων                          7785\n",
       "κομμουνιστικο κομμα ελλαδας            45643\n",
       "λαικος ορθοδοξος συναγερμος            18594\n",
       "λαικος συνδεσος - χρυση αυγη           11321\n",
       "νεα δημοκρατια                        168073\n",
       "πανελληνιο σοσιαλιστικο κινημα         97764\n",
       "συνασπισμος ριζοσπαστικης αριστερας   100779"
      ]
     },
     "execution_count": 21,
     "metadata": {},
     "output_type": "execute_result"
    }
   ],
   "source": [
    "train_dt_1.groupby(by='political_party').count()"
   ]
  },
  {
   "cell_type": "code",
   "execution_count": 22,
   "metadata": {},
   "outputs": [],
   "source": [
    "index_list = train_dt_1.index.to_list()"
   ]
  },
  {
   "cell_type": "code",
   "execution_count": 23,
   "metadata": {},
   "outputs": [],
   "source": [
    "test_dt_1 = greek_par[~greek_par.index.isin(index_list)]"
   ]
  },
  {
   "cell_type": "code",
   "execution_count": 64,
   "metadata": {},
   "outputs": [
    {
     "data": {
      "text/plain": [
       "0.4020904670325375"
      ]
     },
     "execution_count": 64,
     "metadata": {},
     "output_type": "execute_result"
    }
   ],
   "source": [
    "text_clf.fit(train_dt_1.speech, train_dt_1.political_party)\n",
    "predicted = text_clf.predict(test_dt_1.speech) \n",
    "np.mean(predicted == test_dt_1.political_party)"
   ]
  },
  {
   "cell_type": "code",
   "execution_count": 65,
   "metadata": {},
   "outputs": [
    {
     "name": "stdout",
     "output_type": "stream",
     "text": [
      "                                      precision    recall  f1-score   support\n",
      "\n",
      "        ανεξαρτητοι (εκτος κομματος)       0.33      0.00      0.00      5220\n",
      "ανεξαρτητοι ελληνες - πανος καμμενος       0.15      0.06      0.09      2840\n",
      "             δημοκρατική συμπαράταξη       0.30      0.02      0.04      4739\n",
      "                      ενωση κεντρωων       0.15      0.07      0.09      2049\n",
      "         κομμουνιστικο κομμα ελλαδας       0.46      0.41      0.43     11619\n",
      "         λαικος ορθοδοξος συναγερμος       0.80      0.06      0.11      4776\n",
      "        λαικος συνδεσος - χρυση αυγη       0.72      0.14      0.24      2913\n",
      "                      νεα δημοκρατια       0.41      0.76      0.54     42869\n",
      "      πανελληνιο σοσιαλιστικο κινημα       0.35      0.30      0.33     25117\n",
      " συνασπισμος ριζοσπαστικης αριστερας       0.39      0.21      0.27     25772\n",
      "\n",
      "                            accuracy                           0.40    127914\n",
      "                           macro avg       0.41      0.20      0.21    127914\n",
      "                        weighted avg       0.40      0.40      0.35    127914\n",
      "\n"
     ]
    }
   ],
   "source": [
    "print(metrics.classification_report(test_dt_1.political_party, predicted))"
   ]
  },
  {
   "cell_type": "markdown",
   "metadata": {},
   "source": [
    "### And finally for this classifier, lets do a cross validation"
   ]
  },
  {
   "cell_type": "code",
   "execution_count": 66,
   "metadata": {},
   "outputs": [
    {
     "data": {
      "text/plain": [
       "array([0.40519719, 0.40328319, 0.40362761])"
      ]
     },
     "execution_count": 66,
     "metadata": {},
     "output_type": "execute_result"
    }
   ],
   "source": [
    "scores = cross_val_score(text_clf,train_dt_1.speech,train_dt_1.political_party, cv=3, scoring='accuracy')\n",
    "scores"
   ]
  },
  {
   "cell_type": "markdown",
   "metadata": {},
   "source": [
    "## Our next classifier will be Logistic Regression"
   ]
  },
  {
   "cell_type": "code",
   "execution_count": 24,
   "metadata": {},
   "outputs": [],
   "source": [
    "from sklearn.linear_model import LogisticRegression"
   ]
  },
  {
   "cell_type": "code",
   "execution_count": 34,
   "metadata": {},
   "outputs": [
    {
     "data": {
      "text/plain": [
       "0.44054"
      ]
     },
     "execution_count": 34,
     "metadata": {},
     "output_type": "execute_result"
    }
   ],
   "source": [
    "logreg = Pipeline([('vect', vectorizer),\n",
    "                ('clf', LogisticRegression(C=1e5,n_jobs=-1))])\n",
    "\n",
    "logreg.fit(train_dt_0.speech, train_dt_0.political_party)\n",
    "predicted = logreg.predict(test_dt_0.speech) \n",
    "np.mean(predicted == test_dt_0.political_party)"
   ]
  },
  {
   "cell_type": "code",
   "execution_count": 35,
   "metadata": {},
   "outputs": [
    {
     "name": "stdout",
     "output_type": "stream",
     "text": [
      "                                      precision    recall  f1-score   support\n",
      "\n",
      "        ανεξαρτητοι (εκτος κομματος)       0.24      0.15      0.19      2210\n",
      "ανεξαρτητοι ελληνες - πανος καμμενος       0.27      0.06      0.09      1049\n",
      "             δημοκρατική συμπαράταξη       0.27      0.12      0.17      1859\n",
      "                      ενωση κεντρωων       0.22      0.04      0.07       775\n",
      "         κομμουνιστικο κομμα ελλαδας       0.44      0.44      0.44      4443\n",
      "         λαικος ορθοδοξος συναγερμος       0.39      0.12      0.18      1827\n",
      "        λαικος συνδεσος - χρυση αυγη       0.29      0.43      0.35      1151\n",
      "                      νεα δημοκρατια       0.50      0.65      0.57     16861\n",
      "      πανελληνιο σοσιαλιστικο κινημα       0.42      0.39      0.40      9859\n",
      " συνασπισμος ριζοσπαστικης αριστερας       0.40      0.38      0.39      9966\n",
      "\n",
      "                            accuracy                           0.44     50000\n",
      "                           macro avg       0.35      0.28      0.29     50000\n",
      "                        weighted avg       0.42      0.44      0.42     50000\n",
      "\n"
     ]
    }
   ],
   "source": [
    "print(metrics.classification_report(test_dt_0.political_party, predicted))"
   ]
  },
  {
   "cell_type": "markdown",
   "metadata": {},
   "source": [
    "### Time for some Gridsearch too. In order to save time, I'm going to search only 'max_iter' parameter, having already define some parametres with values proven to be better for multiclass problems according to sklearn documentation. Also I'm keeping the best params of the vectorizer, as they are. "
   ]
  },
  {
   "cell_type": "code",
   "execution_count": 25,
   "metadata": {},
   "outputs": [],
   "source": [
    "new_reg = LogisticRegression(solver='newton-cg',penalty='l2',n_jobs=-1)"
   ]
  },
  {
   "cell_type": "code",
   "execution_count": 31,
   "metadata": {},
   "outputs": [],
   "source": [
    "logreg = Pipeline([('vect', vectorizer),\n",
    "                ('clf', new_reg)])"
   ]
  },
  {
   "cell_type": "code",
   "execution_count": 40,
   "metadata": {},
   "outputs": [],
   "source": [
    "parameters = {'clf__max_iter':(100,1000,5000),}\n",
    "gs_clf = GridSearchCV(logreg, parameters, n_jobs=-1, cv=3)"
   ]
  },
  {
   "cell_type": "code",
   "execution_count": 41,
   "metadata": {},
   "outputs": [],
   "source": [
    "gs_clf = gs_clf.fit(train_dt_0.speech, train_dt_0.political_party)"
   ]
  },
  {
   "cell_type": "code",
   "execution_count": 42,
   "metadata": {},
   "outputs": [
    {
     "data": {
      "text/plain": [
       "{'clf__max_iter': 100}"
      ]
     },
     "execution_count": 42,
     "metadata": {},
     "output_type": "execute_result"
    }
   ],
   "source": [
    "gs_clf.best_params_"
   ]
  },
  {
   "cell_type": "code",
   "execution_count": 34,
   "metadata": {},
   "outputs": [
    {
     "name": "stdout",
     "output_type": "stream",
     "text": [
      "                                      precision    recall  f1-score   support\n",
      "\n",
      "        ανεξαρτητοι (εκτος κομματος)       0.25      0.05      0.08      2101\n",
      "ανεξαρτητοι ελληνες - πανος καμμενος       0.60      0.03      0.05      1079\n",
      "             δημοκρατική συμπαράταξη       0.47      0.04      0.08      1811\n",
      "                      ενωση κεντρωων       0.67      0.01      0.02       780\n",
      "         κομμουνιστικο κομμα ελλαδας       0.47      0.44      0.45      4570\n",
      "         λαικος ορθοδοξος συναγερμος       0.80      0.07      0.14      1858\n",
      "        λαικος συνδεσος - χρυση αυγη       0.40      0.28      0.33      1102\n",
      "                      νεα δημοκρατια       0.48      0.74      0.58     16891\n",
      "      πανελληνιο σοσιαλιστικο κινημα       0.43      0.35      0.39      9883\n",
      " συνασπισμος ριζοσπαστικης αριστερας       0.41      0.40      0.40      9925\n",
      "\n",
      "                            accuracy                           0.45     50000\n",
      "                           macro avg       0.50      0.24      0.25     50000\n",
      "                        weighted avg       0.46      0.45      0.41     50000\n",
      "\n"
     ]
    }
   ],
   "source": [
    "logreg.fit(train_dt_0.speech, train_dt_0.political_party)\n",
    "predicted = logreg.predict(test_dt_0.speech) \n",
    "np.mean(predicted == test_dt_0.political_party)\n",
    "print(metrics.classification_report(test_dt_0.political_party, predicted))"
   ]
  },
  {
   "cell_type": "markdown",
   "metadata": {},
   "source": [
    "### Let's try the classifier now with the parameter class_weights and with a deferend solver afterwards"
   ]
  },
  {
   "cell_type": "code",
   "execution_count": 31,
   "metadata": {},
   "outputs": [],
   "source": [
    "new_reg = LogisticRegression(solver='newton-cg',penalty='l2',n_jobs=-1,class_weight='balanced')"
   ]
  },
  {
   "cell_type": "code",
   "execution_count": 32,
   "metadata": {},
   "outputs": [],
   "source": [
    "logreg = Pipeline([('vect', vectorizer),\n",
    "                ('clf', new_reg)])"
   ]
  },
  {
   "cell_type": "code",
   "execution_count": 33,
   "metadata": {},
   "outputs": [
    {
     "data": {
      "text/plain": [
       "0.32502"
      ]
     },
     "execution_count": 33,
     "metadata": {},
     "output_type": "execute_result"
    }
   ],
   "source": [
    "logreg.fit(train_dt_0.speech, train_dt_0.political_party)\n",
    "predicted = logreg.predict(test_dt_0.speech) \n",
    "np.mean(predicted == test_dt_0.political_party)"
   ]
  },
  {
   "cell_type": "code",
   "execution_count": 34,
   "metadata": {},
   "outputs": [
    {
     "name": "stdout",
     "output_type": "stream",
     "text": [
      "                                      precision    recall  f1-score   support\n",
      "\n",
      "        ανεξαρτητοι (εκτος κομματος)       0.09      0.13      0.10      2116\n",
      "ανεξαρτητοι ελληνες - πανος καμμενος       0.09      0.36      0.14      1078\n",
      "             δημοκρατική συμπαράταξη       0.13      0.30      0.18      1891\n",
      "                      ενωση κεντρωων       0.12      0.56      0.20       792\n",
      "         κομμουνιστικο κομμα ελλαδας       0.42      0.50      0.46      4489\n",
      "         λαικος ορθοδοξος συναγερμος       0.17      0.37      0.23      1821\n",
      "        λαικος συνδεσος - χρυση αυγη       0.20      0.45      0.28      1114\n",
      "                      νεα δημοκρατια       0.62      0.30      0.41     16711\n",
      "      πανελληνιο σοσιαλιστικο κινημα       0.42      0.35      0.38      9893\n",
      " συνασπισμος ριζοσπαστικης αριστερας       0.42      0.26      0.32     10095\n",
      "\n",
      "                            accuracy                           0.33     50000\n",
      "                           macro avg       0.27      0.36      0.27     50000\n",
      "                        weighted avg       0.44      0.33      0.35     50000\n",
      "\n"
     ]
    }
   ],
   "source": [
    "print(metrics.classification_report(test_dt_0.political_party, predicted))"
   ]
  },
  {
   "cell_type": "markdown",
   "metadata": {},
   "source": [
    "### As you can see by using 'balanced' in class_weight parameter I increase significantly the recall but at the same time, precision drops as much. As a result our overall acuraccy is smaller"
   ]
  },
  {
   "cell_type": "code",
   "execution_count": 27,
   "metadata": {},
   "outputs": [],
   "source": [
    "new_reg1 = LogisticRegression(solver='liblinear',penalty='l1',n_jobs=-1)"
   ]
  },
  {
   "cell_type": "code",
   "execution_count": 28,
   "metadata": {},
   "outputs": [],
   "source": [
    "logreg1 = Pipeline([('vect', vectorizer),\n",
    "                ('clf', new_reg1)])"
   ]
  },
  {
   "cell_type": "code",
   "execution_count": 29,
   "metadata": {},
   "outputs": [
    {
     "name": "stderr",
     "output_type": "stream",
     "text": [
      "C:\\Python\\lib\\site-packages\\sklearn\\linear_model\\_logistic.py:1539: UserWarning: 'n_jobs' > 1 does not have any effect when 'solver' is set to 'liblinear'. Got 'n_jobs' = 8.\n",
      "  \" = {}.\".format(effective_n_jobs(self.n_jobs)))\n"
     ]
    },
    {
     "data": {
      "text/plain": [
       "0.4486"
      ]
     },
     "execution_count": 29,
     "metadata": {},
     "output_type": "execute_result"
    }
   ],
   "source": [
    "logreg1.fit(train_dt_0.speech, train_dt_0.political_party)\n",
    "predicted = logreg1.predict(test_dt_0.speech) \n",
    "np.mean(predicted == test_dt_0.political_party)"
   ]
  },
  {
   "cell_type": "code",
   "execution_count": 30,
   "metadata": {},
   "outputs": [
    {
     "name": "stdout",
     "output_type": "stream",
     "text": [
      "                                      precision    recall  f1-score   support\n",
      "\n",
      "        ανεξαρτητοι (εκτος κομματος)       0.24      0.04      0.07      2116\n",
      "ανεξαρτητοι ελληνες - πανος καμμενος       0.34      0.01      0.03      1078\n",
      "             δημοκρατική συμπαράταξη       0.42      0.03      0.06      1891\n",
      "                      ενωση κεντρωων       0.54      0.03      0.05       792\n",
      "         κομμουνιστικο κομμα ελλαδας       0.47      0.47      0.47      4489\n",
      "         λαικος ορθοδοξος συναγερμος       0.67      0.12      0.20      1821\n",
      "        λαικος συνδεσος - χρυση αυγη       0.43      0.32      0.37      1114\n",
      "                      νεα δημοκρατια       0.46      0.77      0.58     16711\n",
      "      πανελληνιο σοσιαλιστικο κινημα       0.44      0.33      0.38      9893\n",
      " συνασπισμος ριζοσπαστικης αριστερας       0.40      0.35      0.37     10095\n",
      "\n",
      "                            accuracy                           0.45     50000\n",
      "                           macro avg       0.44      0.25      0.26     50000\n",
      "                        weighted avg       0.44      0.45      0.41     50000\n",
      "\n"
     ]
    }
   ],
   "source": [
    "print(metrics.classification_report(test_dt_0.political_party, predicted))"
   ]
  },
  {
   "cell_type": "markdown",
   "metadata": {},
   "source": [
    "### So with the liblinear solver we also have satisfactory results but as the sklearn documantation says, it is not recommented for large data sets. That's why I'm using this classifier with the 'newton-cg' solver for the next task "
   ]
  },
  {
   "cell_type": "markdown",
   "metadata": {},
   "source": [
    "### Let's see how our second classifier is going with all the speeches of the last 15 years"
   ]
  },
  {
   "cell_type": "code",
   "execution_count": 35,
   "metadata": {},
   "outputs": [
    {
     "data": {
      "text/plain": [
       "0.4874446894006911"
      ]
     },
     "execution_count": 35,
     "metadata": {},
     "output_type": "execute_result"
    }
   ],
   "source": [
    "logreg.fit(train_dt_1.speech, train_dt_1.political_party)\n",
    "predicted = logreg.predict(test_dt_1.speech) \n",
    "np.mean(predicted == test_dt_1.political_party)"
   ]
  },
  {
   "cell_type": "code",
   "execution_count": 36,
   "metadata": {},
   "outputs": [
    {
     "name": "stdout",
     "output_type": "stream",
     "text": [
      "                                      precision    recall  f1-score   support\n",
      "\n",
      "        ανεξαρτητοι (εκτος κομματος)       0.31      0.07      0.11      5331\n",
      "ανεξαρτητοι ελληνες - πανος καμμενος       0.56      0.06      0.10      2747\n",
      "             δημοκρατική συμπαράταξη       0.59      0.10      0.17      4711\n",
      "                      ενωση κεντρωων       0.72      0.06      0.11      1987\n",
      "         κομμουνιστικο κομμα ελλαδας       0.47      0.49      0.48     11695\n",
      "         λαικος ορθοδοξος συναγερμος       0.73      0.16      0.26      4696\n",
      "        λαικος συνδεσος - χρυση αυγη       0.44      0.33      0.38      2941\n",
      "                      νεα δημοκρατια       0.51      0.74      0.61     43300\n",
      "      πανελληνιο σοσιαλιστικο κινημα       0.47      0.42      0.45     24933\n",
      " συνασπισμος ριζοσπαστικης αριστερας       0.44      0.45      0.44     25573\n",
      "\n",
      "                            accuracy                           0.49    127914\n",
      "                           macro avg       0.53      0.29      0.31    127914\n",
      "                        weighted avg       0.49      0.49      0.46    127914\n",
      "\n"
     ]
    }
   ],
   "source": [
    "print(metrics.classification_report(test_dt_1.political_party, predicted))"
   ]
  },
  {
   "cell_type": "markdown",
   "metadata": {},
   "source": [
    "### With accuracy close to 0.50 and recall close to 0.30, these are the best scores so far"
   ]
  },
  {
   "cell_type": "markdown",
   "metadata": {},
   "source": [
    "### And for the last classifier we have Linear Support Vector Classification. So let's try it in the default version (Except from max_iter that I reduced in order to reduce runtime)"
   ]
  },
  {
   "cell_type": "code",
   "execution_count": 37,
   "metadata": {},
   "outputs": [
    {
     "data": {
      "text/plain": [
       "0.4402"
      ]
     },
     "execution_count": 37,
     "metadata": {},
     "output_type": "execute_result"
    }
   ],
   "source": [
    "lsvc = Pipeline([('vect', vectorizer),\n",
    "                ('clf', LinearSVC(max_iter = 200))])\n",
    "\n",
    "lsvc.fit(train_dt_0.speech, train_dt_0.political_party)\n",
    "predicted = lsvc.predict(test_dt_0.speech) \n",
    "np.mean(predicted == test_dt_0.political_party)"
   ]
  },
  {
   "cell_type": "code",
   "execution_count": 38,
   "metadata": {},
   "outputs": [
    {
     "name": "stdout",
     "output_type": "stream",
     "text": [
      "                                      precision    recall  f1-score   support\n",
      "\n",
      "        ανεξαρτητοι (εκτος κομματος)       0.20      0.02      0.03      2042\n",
      "ανεξαρτητοι ελληνες - πανος καμμενος       0.30      0.03      0.05      1075\n",
      "             δημοκρατική συμπαράταξη       0.36      0.06      0.10      1780\n",
      "                      ενωση κεντρωων       0.48      0.05      0.09       786\n",
      "         κομμουνιστικο κομμα ελλαδας       0.45      0.50      0.47      4636\n",
      "         λαικος ορθοδοξος συναγερμος       0.50      0.14      0.22      1866\n",
      "        λαικος συνδεσος - χρυση αυγη       0.38      0.33      0.36      1141\n",
      "                      νεα δημοκρατια       0.47      0.69      0.56     16667\n",
      "      πανελληνιο σοσιαλιστικο κινημα       0.41      0.35      0.38      9793\n",
      " συνασπισμος ριζοσπαστικης αριστερας       0.39      0.38      0.38     10214\n",
      "\n",
      "                            accuracy                           0.44     50000\n",
      "                           macro avg       0.39      0.25      0.26     50000\n",
      "                        weighted avg       0.42      0.44      0.41     50000\n",
      "\n"
     ]
    }
   ],
   "source": [
    "print(metrics.classification_report(test_dt_0.political_party, predicted))"
   ]
  },
  {
   "cell_type": "markdown",
   "metadata": {},
   "source": [
    "### And now some parameter tuning with gridsearch"
   ]
  },
  {
   "cell_type": "code",
   "execution_count": 48,
   "metadata": {},
   "outputs": [],
   "source": [
    "parameters = {'clf__max_iter':(100,500), 'clf__dual':(True,False)}\n",
    "gs_clf = GridSearchCV(lsvc, parameters, n_jobs=-1, cv=3)"
   ]
  },
  {
   "cell_type": "code",
   "execution_count": 49,
   "metadata": {},
   "outputs": [
    {
     "name": "stderr",
     "output_type": "stream",
     "text": [
      "C:\\Python\\lib\\site-packages\\joblib\\externals\\loky\\process_executor.py:706: UserWarning: A worker stopped while some jobs were given to the executor. This can be caused by a too short worker timeout or by a memory leak.\n",
      "  \"timeout or by a memory leak.\", UserWarning\n",
      "C:\\Python\\lib\\site-packages\\sklearn\\svm\\_base.py:947: ConvergenceWarning: Liblinear failed to converge, increase the number of iterations.\n",
      "  \"the number of iterations.\", ConvergenceWarning)\n"
     ]
    }
   ],
   "source": [
    "gs_clf = gs_clf.fit(train_dt_0.speech, train_dt_0.political_party)"
   ]
  },
  {
   "cell_type": "code",
   "execution_count": 50,
   "metadata": {},
   "outputs": [
    {
     "data": {
      "text/plain": [
       "{'clf__dual': False, 'clf__max_iter': 100}"
      ]
     },
     "execution_count": 50,
     "metadata": {},
     "output_type": "execute_result"
    }
   ],
   "source": [
    "gs_clf.best_params_"
   ]
  },
  {
   "cell_type": "markdown",
   "metadata": {},
   "source": [
    "### Let's see how stop words affect this classifier"
   ]
  },
  {
   "cell_type": "code",
   "execution_count": 51,
   "metadata": {},
   "outputs": [],
   "source": [
    "lsvc = Pipeline([('vect', vectorizer),\n",
    "                ('clf', LinearSVC(max_iter = 100, dual = False,tol=1e-5))])"
   ]
  },
  {
   "cell_type": "code",
   "execution_count": 52,
   "metadata": {},
   "outputs": [],
   "source": [
    "parameters = {'vect__stop_words':(stop_words, None)}\n",
    "gs_clf = GridSearchCV(lsvc, parameters, n_jobs=-1, cv=3)"
   ]
  },
  {
   "cell_type": "code",
   "execution_count": 53,
   "metadata": {},
   "outputs": [
    {
     "name": "stderr",
     "output_type": "stream",
     "text": [
      "C:\\Python\\lib\\site-packages\\sklearn\\svm\\_base.py:947: ConvergenceWarning: Liblinear failed to converge, increase the number of iterations.\n",
      "  \"the number of iterations.\", ConvergenceWarning)\n"
     ]
    }
   ],
   "source": [
    "gs_clf = gs_clf.fit(train_dt_0.speech, train_dt_0.political_party)"
   ]
  },
  {
   "cell_type": "code",
   "execution_count": 54,
   "metadata": {},
   "outputs": [
    {
     "data": {
      "text/plain": [
       "{'vect__stop_words': None}"
      ]
     },
     "execution_count": 54,
     "metadata": {},
     "output_type": "execute_result"
    }
   ],
   "source": [
    "gs_clf.best_params_"
   ]
  },
  {
   "cell_type": "markdown",
   "metadata": {},
   "source": [
    "### Surprisingly it's better without them. So here the improvement I've made so far for this classifier"
   ]
  },
  {
   "cell_type": "code",
   "execution_count": 55,
   "metadata": {},
   "outputs": [],
   "source": [
    "vectorizer = TfidfVectorizer(ngram_range=(1, 2),min_df=2,max_features=10000,max_df=0.5)"
   ]
  },
  {
   "cell_type": "code",
   "execution_count": 62,
   "metadata": {},
   "outputs": [],
   "source": [
    "lsvc = Pipeline([('vect', vectorizer),\n",
    "                ('clf', LinearSVC(max_iter = 200, dual = False,tol=1e-5))])"
   ]
  },
  {
   "cell_type": "code",
   "execution_count": 63,
   "metadata": {},
   "outputs": [
    {
     "name": "stderr",
     "output_type": "stream",
     "text": [
      "C:\\Python\\lib\\site-packages\\sklearn\\svm\\_base.py:947: ConvergenceWarning: Liblinear failed to converge, increase the number of iterations.\n",
      "  \"the number of iterations.\", ConvergenceWarning)\n"
     ]
    },
    {
     "data": {
      "text/plain": [
       "0.44354"
      ]
     },
     "execution_count": 63,
     "metadata": {},
     "output_type": "execute_result"
    }
   ],
   "source": [
    "lsvc.fit(train_dt_0.speech, train_dt_0.political_party)\n",
    "predicted = lsvc.predict(test_dt_0.speech) \n",
    "np.mean(predicted == test_dt_0.political_party)"
   ]
  },
  {
   "cell_type": "code",
   "execution_count": 64,
   "metadata": {},
   "outputs": [
    {
     "name": "stdout",
     "output_type": "stream",
     "text": [
      "                                      precision    recall  f1-score   support\n",
      "\n",
      "        ανεξαρτητοι (εκτος κομματος)       0.25      0.02      0.03      2042\n",
      "ανεξαρτητοι ελληνες - πανος καμμενος       0.35      0.02      0.05      1075\n",
      "             δημοκρατική συμπαράταξη       0.44      0.06      0.11      1780\n",
      "                      ενωση κεντρωων       0.48      0.04      0.08       786\n",
      "         κομμουνιστικο κομμα ελλαδας       0.45      0.50      0.47      4636\n",
      "         λαικος ορθοδοξος συναγερμος       0.53      0.15      0.23      1866\n",
      "        λαικος συνδεσος - χρυση αυγη       0.39      0.32      0.35      1141\n",
      "                      νεα δημοκρατια       0.48      0.68      0.56     16667\n",
      "      πανελληνιο σοσιαλιστικο κινημα       0.41      0.36      0.39      9793\n",
      " συνασπισμος ριζοσπαστικης αριστερας       0.39      0.41      0.40     10214\n",
      "\n",
      "                            accuracy                           0.44     50000\n",
      "                           macro avg       0.42      0.26      0.27     50000\n",
      "                        weighted avg       0.43      0.44      0.41     50000\n",
      "\n"
     ]
    }
   ],
   "source": [
    "print(metrics.classification_report(test_dt_0.political_party, predicted))"
   ]
  },
  {
   "cell_type": "markdown",
   "metadata": {},
   "source": [
    "### Finally for this classifier and the non-neural network session of this project, we have the performance of Linear Support Vector Classification with the biggest sample "
   ]
  },
  {
   "cell_type": "code",
   "execution_count": 65,
   "metadata": {},
   "outputs": [
    {
     "name": "stderr",
     "output_type": "stream",
     "text": [
      "C:\\Python\\lib\\site-packages\\sklearn\\svm\\_base.py:947: ConvergenceWarning: Liblinear failed to converge, increase the number of iterations.\n",
      "  \"the number of iterations.\", ConvergenceWarning)\n"
     ]
    },
    {
     "name": "stdout",
     "output_type": "stream",
     "text": [
      "                                      precision    recall  f1-score   support\n",
      "\n",
      "        ανεξαρτητοι (εκτος κομματος)       0.42      0.01      0.01      5268\n",
      "ανεξαρτητοι ελληνες - πανος καμμενος       0.52      0.01      0.02      2789\n",
      "             δημοκρατική συμπαράταξη       0.54      0.08      0.13      4638\n",
      "                      ενωση κεντρωων       0.68      0.07      0.13      2103\n",
      "         κομμουνιστικο κομμα ελλαδας       0.47      0.49      0.48     11705\n",
      "         λαικος ορθοδοξος συναγερμος       0.71      0.16      0.26      4603\n",
      "        λαικος συνδεσος - χρυση αυγη       0.42      0.36      0.39      2851\n",
      "                      νεα δημοκρατια       0.49      0.73      0.59     43286\n",
      "      πανελληνιο σοσιαλιστικο κινημα       0.45      0.38      0.41     25189\n",
      " συνασπισμος ριζοσπαστικης αριστερας       0.41      0.42      0.42     25482\n",
      "\n",
      "                            accuracy                           0.47    127914\n",
      "                           macro avg       0.51      0.27      0.28    127914\n",
      "                        weighted avg       0.47      0.47      0.43    127914\n",
      "\n"
     ]
    }
   ],
   "source": [
    "lsvc.fit(train_dt_1.speech, train_dt_1.political_party)\n",
    "predicted = lsvc.predict(test_dt_1.speech) \n",
    "np.mean(predicted == test_dt_1.political_party)\n",
    "print(metrics.classification_report(test_dt_1.political_party, predicted))"
   ]
  },
  {
   "cell_type": "markdown",
   "metadata": {},
   "source": [
    "### So the best classifier remains Logistic Regression with the LSVC slightly inferior"
   ]
  },
  {
   "cell_type": "markdown",
   "metadata": {
    "id": "J3AmJR0GLSBX"
   },
   "source": [
    "## Classifiacation with neural networks"
   ]
  },
  {
   "cell_type": "code",
   "execution_count": 25,
   "metadata": {
    "id": "zrM_6hWbLSBX"
   },
   "outputs": [],
   "source": [
    "import io\n",
    "import os\n",
    "import re\n",
    "import shutil\n",
    "import string\n",
    "import tensorflow as tf\n",
    "\n",
    "from datetime import datetime\n",
    "from tensorflow.keras import Model, Sequential\n",
    "from tensorflow.keras.layers import Activation, Dense, Embedding, GlobalAveragePooling1D, SpatialDropout1D, LSTM, Dropout, BatchNormalization\n",
    "from tensorflow.keras.layers.experimental.preprocessing import TextVectorization\n",
    "from sklearn.model_selection import train_test_split, RandomizedSearchCV\n",
    "from tensorflow.keras import layers\n",
    "from tensorflow.keras.layers.experimental import preprocessing\n",
    "from keras.optimizers import SGD, Adagrad\n",
    "from keras.preprocessing.text import Tokenizer\n",
    "from keras.preprocessing.sequence import pad_sequences\n",
    "from keras.callbacks import EarlyStopping\n",
    "from sklearn.preprocessing import LabelEncoder\n",
    "from sklearn.preprocessing import OneHotEncoder\n",
    "from sklearn.feature_extraction.text import CountVectorizer\n",
    "import sklearn.metrics\n",
    "from sklearn.metrics import make_scorer, accuracy_score, confusion_matrix\n",
    "from keras.wrappers.scikit_learn import KerasClassifier"
   ]
  },
  {
   "cell_type": "markdown",
   "metadata": {
    "id": "aWaQzqe9gVwC"
   },
   "source": [
    "### So first of all lets make a validation and a test dataset"
   ]
  },
  {
   "cell_type": "code",
   "execution_count": 47,
   "metadata": {
    "id": "fPM-N8LQd46P"
   },
   "outputs": [],
   "source": [
    "speeches = train_dt_0['speech'].values"
   ]
  },
  {
   "cell_type": "code",
   "execution_count": 48,
   "metadata": {
    "id": "ACFFj-oed5FO"
   },
   "outputs": [],
   "source": [
    "labels = train_dt_0['political_party'].values"
   ]
  },
  {
   "cell_type": "code",
   "execution_count": 49,
   "metadata": {
    "id": "89RucueCd5Mo"
   },
   "outputs": [],
   "source": [
    "speeches_train, speeches_test, labels_train, labels_test = train_test_split(speeches,labels,test_size=0.2,random_state = 100)"
   ]
  },
  {
   "cell_type": "code",
   "execution_count": 50,
   "metadata": {
    "id": "IvXbaNTAh-JU"
   },
   "outputs": [],
   "source": [
    "vocab_size = 10000\n",
    "tokenizer = Tokenizer(num_words=vocab_size) #quite plane tokenizer because the preprossesing has already been done\n",
    "tokenizer.fit_on_texts(speeches_train)"
   ]
  },
  {
   "cell_type": "code",
   "execution_count": 51,
   "metadata": {
    "id": "A7wPyyqtieGa"
   },
   "outputs": [],
   "source": [
    "in_train  = tokenizer.texts_to_sequences(speeches_train)\n",
    "in_test = tokenizer.texts_to_sequences(speeches_test)"
   ]
  },
  {
   "cell_type": "code",
   "execution_count": 52,
   "metadata": {
    "id": "aai3RKpPudIp"
   },
   "outputs": [],
   "source": [
    "vocab_size = len(tokenizer.word_index) + 1\n",
    "sequence_length = 200\n",
    "\n",
    "in_train = pad_sequences(in_train, padding='post', maxlen=sequence_length)\n",
    "in_test = pad_sequences(in_test, padding='post', maxlen=sequence_length)"
   ]
  },
  {
   "cell_type": "code",
   "execution_count": 53,
   "metadata": {
    "id": "G98LaL-czmyp"
   },
   "outputs": [],
   "source": [
    "encoder = OneHotEncoder()\n",
    "labels_train = labels_train.reshape(-1,1)\n",
    "labels_test = labels_test.reshape(-1,1)\n",
    "\n",
    "out_train = encoder.fit_transform(labels_train).toarray()\n",
    "out_test = encoder.fit_transform(labels_test).toarray()"
   ]
  },
  {
   "cell_type": "markdown",
   "metadata": {
    "id": "8Kt3-lDxIRxr"
   },
   "source": [
    "### Time for our first model"
   ]
  },
  {
   "cell_type": "code",
   "execution_count": 33,
   "metadata": {
    "colab": {
     "base_uri": "https://localhost:8080/"
    },
    "id": "OBe5AYgvugEF",
    "outputId": "b73515ab-46b7-4bb3-d5f0-a6e5eac28151"
   },
   "outputs": [
    {
     "name": "stdout",
     "output_type": "stream",
     "text": [
      "Model: \"sequential\"\n",
      "_________________________________________________________________\n",
      "Layer (type)                 Output Shape              Param #   \n",
      "=================================================================\n",
      "embedding (Embedding)        (None, 200, 100)          22228400  \n",
      "_________________________________________________________________\n",
      "conv1d (Conv1D)              (None, 196, 64)           32064     \n",
      "_________________________________________________________________\n",
      "global_max_pooling1d (Global (None, 64)                0         \n",
      "_________________________________________________________________\n",
      "dense (Dense)                (None, 10)                650       \n",
      "=================================================================\n",
      "Total params: 22,261,114\n",
      "Trainable params: 22,261,114\n",
      "Non-trainable params: 0\n",
      "_________________________________________________________________\n"
     ]
    }
   ],
   "source": [
    "embedding_dim = 100\n",
    "\n",
    "model = Sequential()\n",
    "model.add(layers.Embedding(input_dim=vocab_size, \n",
    "                           output_dim=embedding_dim, \n",
    "                           input_length=sequence_length))\n",
    "model.add(layers.Conv1D(64, 5, activation='relu'))\n",
    "model.add(layers.GlobalMaxPooling1D())\n",
    "model.add(layers.Dense(10, activation='softmax'))\n",
    "model.compile(optimizer='adam',\n",
    "              loss='categorical_crossentropy',\n",
    "              metrics=['accuracy'])\n",
    "model.summary()"
   ]
  },
  {
   "cell_type": "code",
   "execution_count": 34,
   "metadata": {
    "id": "MRv6AArB6TDk"
   },
   "outputs": [],
   "source": [
    "batch_size = 64"
   ]
  },
  {
   "cell_type": "code",
   "execution_count": null,
   "metadata": {
    "colab": {
     "base_uri": "https://localhost:8080/"
    },
    "id": "wcmFNxwSugKd",
    "outputId": "de3848aa-b9fb-4c5a-e8c5-5b03ce80d670"
   },
   "outputs": [
    {
     "name": "stdout",
     "output_type": "stream",
     "text": [
      "Epoch 1/5\n",
      "1250/1250 [==============================] - 245s 196ms/step - loss: 1.7825 - accuracy: 0.3577 - val_loss: 1.6020 - val_accuracy: 0.4103\n",
      "Epoch 2/5\n",
      "1250/1250 [==============================] - 245s 196ms/step - loss: 1.5124 - accuracy: 0.4624 - val_loss: 1.5686 - val_accuracy: 0.4192\n",
      "Epoch 3/5\n",
      "1250/1250 [==============================] - 244s 195ms/step - loss: 1.3369 - accuracy: 0.5386 - val_loss: 1.5947 - val_accuracy: 0.4257\n",
      "Epoch 4/5\n",
      "1250/1250 [==============================] - 243s 195ms/step - loss: 1.1462 - accuracy: 0.6115 - val_loss: 1.6591 - val_accuracy: 0.4185\n",
      "Epoch 5/5\n",
      "1250/1250 [==============================] - 245s 196ms/step - loss: 0.9787 - accuracy: 0.6774 - val_loss: 1.7619 - val_accuracy: 0.4018\n"
     ]
    }
   ],
   "source": [
    "callback = tf.keras.callbacks.EarlyStopping(monitor='val_accuracy', patience=3)\n",
    "\n",
    "history = model.fit(in_train, out_train,\n",
    "                    epochs=5,\n",
    "                    validation_data=(in_test, out_test),\n",
    "                    callbacks=[callback],\n",
    "                    batch_size=batch_size)"
   ]
  },
  {
   "cell_type": "code",
   "execution_count": null,
   "metadata": {
    "colab": {
     "base_uri": "https://localhost:8080/"
    },
    "id": "CcFE9zjZ2kdT",
    "outputId": "6b415087-7ca8-4a6b-f6df-d29e8d181c64"
   },
   "outputs": [
    {
     "name": "stdout",
     "output_type": "stream",
     "text": [
      "625/625 [==============================] - 2s 3ms/step - loss: 1.7619 - accuracy: 0.4018\n",
      "Loss:  1.761902093887329\n",
      "Accuracy:  0.4018000066280365\n"
     ]
    }
   ],
   "source": [
    "loss, accuracy = model.evaluate(in_test,out_test)\n",
    "\n",
    "print(\"Loss: \", loss)\n",
    "print(\"Accuracy: \", accuracy)"
   ]
  },
  {
   "cell_type": "code",
   "execution_count": null,
   "metadata": {
    "colab": {
     "base_uri": "https://localhost:8080/"
    },
    "id": "Q-wdMwTTFbp_",
    "outputId": "61261611-e0c5-49ac-c29b-36212d370b77"
   },
   "outputs": [
    {
     "name": "stdout",
     "output_type": "stream",
     "text": [
      "    0     0.245  0.028\n",
      "    1     0.257  0.078\n",
      "    2     0.224  0.138\n",
      "    3     0.611  0.036\n",
      "    4     0.417  0.455\n",
      "    5     0.243  0.136\n",
      "    6     0.374  0.318\n",
      "    7     0.495  0.548\n",
      "    8     0.338  0.380\n",
      "    9     0.346  0.404\n",
      "precision total: 0.3464994775339603\n",
      "recall total: 0.40360272638753647\n"
     ]
    }
   ],
   "source": [
    "parties_pred = model.predict(in_test)\n",
    "parties_pred = parties_pred\n",
    "right_parties = out_test\n",
    "\n",
    "cm = confusion_matrix(out_test.argmax(axis=1),parties_pred.argmax(axis=1))\n",
    "\n",
    "def precision(labels, confusion_matrix):\n",
    "    col = confusion_matrix[:, label]\n",
    "    return confusion_matrix[label, label] / col.sum()\n",
    "    \n",
    "def recall(labels, confusion_matrix):\n",
    "    row = confusion_matrix[label, :]\n",
    "    return confusion_matrix[label, label] / row.sum()\n",
    "\n",
    "def precision_macro_average(confusion_matrix):\n",
    "    rows, columns = confusion_matrix.shape\n",
    "    sum_of_precisions = 0\n",
    "    for label in range(rows):\n",
    "        sum_of_precisions += precision(label, confusion_matrix)\n",
    "    return sum_of_precisions / rows\n",
    "\n",
    "def recall_macro_average(confusion_matrix):\n",
    "    rows, columns = confusion_matrix.shape\n",
    "    sum_of_recalls = 0\n",
    "    for label in range(columns):\n",
    "        sum_of_recalls += recall(label, confusion_matrix)\n",
    "    return sum_of_recalls / columns\n",
    "\n",
    "    print(\"label precision recall\")\n",
    "for label in range(10):\n",
    "    print(f\"{label:5d} {precision(label, cm):9.3f} {recall(label, cm):6.3f}\")\n",
    "print(\"precision total:\", precision_macro_average(cm))\n",
    "\n",
    "print(\"recall total:\", recall_macro_average(cm))    "
   ]
  },
  {
   "cell_type": "code",
   "execution_count": 60,
   "metadata": {
    "colab": {
     "base_uri": "https://localhost:8080/"
    },
    "id": "V_r8qC2JCcVP",
    "outputId": "2921416f-3e66-4cf3-9979-14f5b4514434"
   },
   "outputs": [
    {
     "name": "stdout",
     "output_type": "stream",
     "text": [
      "0.37287668310891875\n"
     ]
    }
   ],
   "source": [
    "pre = 0.3465\n",
    "rec = 0.4036\n",
    "\n",
    "F1 = 2 * (pre * rec) / (pre + rec)\n",
    "print(F1)"
   ]
  },
  {
   "cell_type": "markdown",
   "metadata": {
    "id": "DIA0LfX9CeR3"
   },
   "source": [
    "### Gridsearch (in order to do it we must make it a method)"
   ]
  },
  {
   "cell_type": "code",
   "execution_count": null,
   "metadata": {
    "id": "G2iNyS9hdJfM"
   },
   "outputs": [],
   "source": [
    " def create_model(num_filters, kernel_size, vocab_size, embedding_dim, sequence_length):\n",
    "  model = Sequential()\n",
    "  model.add(layers.Embedding(input_dim=vocab_size, \n",
    "                            output_dim=embedding_dim, \n",
    "                            input_length=sequence_length))\n",
    "  model.add(layers.Conv1D(64, 5, activation='relu'))\n",
    "  model.add(layers.GlobalMaxPooling1D())\n",
    "  model.add(layers.Dense(10, activation='softmax'))\n",
    "  model.compile(optimizer='adam',\n",
    "                loss='categorical_crossentropy',\n",
    "                metrics=['accuracy'])\n",
    "  return model"
   ]
  },
  {
   "cell_type": "code",
   "execution_count": null,
   "metadata": {
    "id": "dgfpAw_LeBGy"
   },
   "outputs": [],
   "source": [
    "model1 = KerasClassifier(build_fn=create_model,\n",
    "                            epochs=5, batch_size=64,\n",
    "                            verbose=1)"
   ]
  },
  {
   "cell_type": "code",
   "execution_count": null,
   "metadata": {
    "id": "s-Ltsv-OugOO"
   },
   "outputs": [],
   "source": [
    "param_grid = dict(num_filters=[32, 64, 128],\n",
    "                      kernel_size=[3,5, 7],\n",
    "                      vocab_size=[vocab_size],\n",
    "                      embedding_dim=[embedding_dim],\n",
    "                      sequence_length=[sequence_length])"
   ]
  },
  {
   "cell_type": "code",
   "execution_count": null,
   "metadata": {
    "colab": {
     "base_uri": "https://localhost:8080/"
    },
    "id": "oX7692hKOkSN",
    "outputId": "5c54a7be-06fa-42e4-e64d-9045925209b8"
   },
   "outputs": [
    {
     "name": "stdout",
     "output_type": "stream",
     "text": [
      "Fitting 2 folds for each of 5 candidates, totalling 10 fits\n"
     ]
    },
    {
     "name": "stderr",
     "output_type": "stream",
     "text": [
      "[Parallel(n_jobs=1)]: Using backend SequentialBackend with 1 concurrent workers.\n"
     ]
    },
    {
     "name": "stdout",
     "output_type": "stream",
     "text": [
      "Epoch 1/5\n",
      "625/625 [==============================] - 128s 202ms/step - loss: 1.8485 - accuracy: 0.3415\n",
      "Epoch 2/5\n",
      "625/625 [==============================] - 127s 204ms/step - loss: 1.5995 - accuracy: 0.4261\n",
      "Epoch 3/5\n",
      "625/625 [==============================] - 127s 203ms/step - loss: 1.3999 - accuracy: 0.5207\n",
      "Epoch 4/5\n",
      "625/625 [==============================] - 126s 201ms/step - loss: 1.1888 - accuracy: 0.6100\n",
      "Epoch 5/5\n",
      "625/625 [==============================] - 127s 204ms/step - loss: 0.9932 - accuracy: 0.6765\n",
      "625/625 [==============================] - 2s 3ms/step - loss: 1.7925 - accuracy: 0.3972\n",
      "Epoch 1/5\n",
      "625/625 [==============================] - 127s 203ms/step - loss: 1.8422 - accuracy: 0.3454\n",
      "Epoch 2/5\n",
      "625/625 [==============================] - 126s 202ms/step - loss: 1.5833 - accuracy: 0.4383\n",
      "Epoch 3/5\n",
      "625/625 [==============================] - 126s 201ms/step - loss: 1.3982 - accuracy: 0.5276\n",
      "Epoch 4/5\n",
      "625/625 [==============================] - 126s 201ms/step - loss: 1.2080 - accuracy: 0.6024\n",
      "Epoch 5/5\n",
      "625/625 [==============================] - 125s 200ms/step - loss: 1.0008 - accuracy: 0.6759\n",
      "625/625 [==============================] - 2s 3ms/step - loss: 1.7986 - accuracy: 0.3972\n",
      "Epoch 1/5\n",
      "625/625 [==============================] - 126s 201ms/step - loss: 1.8613 - accuracy: 0.3273\n",
      "Epoch 2/5\n",
      "625/625 [==============================] - 125s 200ms/step - loss: 1.5799 - accuracy: 0.4361\n",
      "Epoch 3/5\n",
      "625/625 [==============================] - 125s 200ms/step - loss: 1.3915 - accuracy: 0.5288\n",
      "Epoch 4/5\n",
      "625/625 [==============================] - 125s 199ms/step - loss: 1.1949 - accuracy: 0.6015\n",
      "Epoch 5/5\n",
      "625/625 [==============================] - 124s 198ms/step - loss: 0.9918 - accuracy: 0.6771\n",
      "625/625 [==============================] - 2s 3ms/step - loss: 1.7819 - accuracy: 0.3915\n",
      "Epoch 1/5\n",
      "625/625 [==============================] - 126s 202ms/step - loss: 1.8516 - accuracy: 0.3401\n",
      "Epoch 2/5\n",
      "625/625 [==============================] - 126s 202ms/step - loss: 1.5799 - accuracy: 0.4411\n",
      "Epoch 3/5\n",
      "625/625 [==============================] - 125s 200ms/step - loss: 1.4079 - accuracy: 0.5275\n",
      "Epoch 4/5\n",
      "625/625 [==============================] - 126s 201ms/step - loss: 1.1892 - accuracy: 0.6094\n",
      "Epoch 5/5\n",
      "625/625 [==============================] - 125s 200ms/step - loss: 0.9912 - accuracy: 0.6775\n",
      "625/625 [==============================] - 2s 3ms/step - loss: 1.7889 - accuracy: 0.3844\n",
      "Epoch 1/5\n",
      "625/625 [==============================] - 125s 199ms/step - loss: 1.8536 - accuracy: 0.3289\n",
      "Epoch 2/5\n",
      "625/625 [==============================] - 124s 198ms/step - loss: 1.5977 - accuracy: 0.4341\n",
      "Epoch 3/5\n",
      "625/625 [==============================] - 127s 204ms/step - loss: 1.3977 - accuracy: 0.5307\n",
      "Epoch 4/5\n",
      "625/625 [==============================] - 127s 203ms/step - loss: 1.1824 - accuracy: 0.6128\n",
      "Epoch 5/5\n",
      "625/625 [==============================] - 126s 202ms/step - loss: 0.9875 - accuracy: 0.6776\n",
      "625/625 [==============================] - 2s 3ms/step - loss: 1.7902 - accuracy: 0.3943\n",
      "Epoch 1/5\n",
      "625/625 [==============================] - 123s 197ms/step - loss: 1.8448 - accuracy: 0.3350\n",
      "Epoch 2/5\n",
      "625/625 [==============================] - 124s 199ms/step - loss: 1.5756 - accuracy: 0.4384\n",
      "Epoch 3/5\n",
      "625/625 [==============================] - 125s 200ms/step - loss: 1.3939 - accuracy: 0.5284\n",
      "Epoch 4/5\n",
      "625/625 [==============================] - 124s 198ms/step - loss: 1.1807 - accuracy: 0.6121\n",
      "Epoch 5/5\n",
      "625/625 [==============================] - 124s 199ms/step - loss: 0.9740 - accuracy: 0.6844\n",
      "625/625 [==============================] - 2s 3ms/step - loss: 1.7800 - accuracy: 0.3961\n",
      "Epoch 1/5\n",
      "625/625 [==============================] - 125s 200ms/step - loss: 1.8602 - accuracy: 0.3353\n",
      "Epoch 2/5\n",
      "625/625 [==============================] - 124s 199ms/step - loss: 1.5952 - accuracy: 0.4304\n",
      "Epoch 3/5\n",
      "625/625 [==============================] - 132s 211ms/step - loss: 1.4045 - accuracy: 0.5259\n",
      "Epoch 4/5\n",
      "625/625 [==============================] - 128s 205ms/step - loss: 1.1940 - accuracy: 0.6074\n",
      "Epoch 5/5\n",
      "625/625 [==============================] - 125s 200ms/step - loss: 1.0071 - accuracy: 0.6737\n",
      "625/625 [==============================] - 2s 3ms/step - loss: 1.7864 - accuracy: 0.3909\n",
      "Epoch 1/5\n",
      "625/625 [==============================] - 130s 207ms/step - loss: 1.8410 - accuracy: 0.3408\n",
      "Epoch 2/5\n",
      "625/625 [==============================] - 125s 200ms/step - loss: 1.5879 - accuracy: 0.4376\n",
      "Epoch 3/5\n",
      "625/625 [==============================] - 128s 204ms/step - loss: 1.4049 - accuracy: 0.5234\n",
      "Epoch 4/5\n",
      "625/625 [==============================] - 125s 200ms/step - loss: 1.1920 - accuracy: 0.6058\n",
      "Epoch 5/5\n",
      "625/625 [==============================] - 129s 206ms/step - loss: 0.9874 - accuracy: 0.6774\n",
      "625/625 [==============================] - 2s 3ms/step - loss: 1.7873 - accuracy: 0.3897\n",
      "Epoch 1/5\n",
      "625/625 [==============================] - 127s 201ms/step - loss: 1.8441 - accuracy: 0.3467\n",
      "Epoch 2/5\n",
      "625/625 [==============================] - 125s 200ms/step - loss: 1.6044 - accuracy: 0.4311\n",
      "Epoch 3/5\n",
      "625/625 [==============================] - 125s 199ms/step - loss: 1.4112 - accuracy: 0.5234\n",
      "Epoch 4/5\n",
      "625/625 [==============================] - 125s 200ms/step - loss: 1.1970 - accuracy: 0.6050\n",
      "Epoch 5/5\n",
      "625/625 [==============================] - 125s 199ms/step - loss: 0.9989 - accuracy: 0.6787\n",
      "625/625 [==============================] - 2s 3ms/step - loss: 1.7947 - accuracy: 0.3914\n",
      "Epoch 1/5\n",
      "625/625 [==============================] - 125s 199ms/step - loss: 1.8443 - accuracy: 0.3304\n",
      "Epoch 2/5\n",
      "625/625 [==============================] - 125s 199ms/step - loss: 1.5826 - accuracy: 0.4369\n",
      "Epoch 3/5\n",
      "625/625 [==============================] - 124s 199ms/step - loss: 1.3869 - accuracy: 0.5340\n",
      "Epoch 4/5\n",
      "625/625 [==============================] - 124s 198ms/step - loss: 1.1789 - accuracy: 0.6109\n",
      "Epoch 5/5\n",
      "625/625 [==============================] - 124s 199ms/step - loss: 0.9803 - accuracy: 0.6802\n",
      "625/625 [==============================] - 2s 3ms/step - loss: 1.7934 - accuracy: 0.3938\n"
     ]
    },
    {
     "name": "stderr",
     "output_type": "stream",
     "text": [
      "[Parallel(n_jobs=1)]: Done  10 out of  10 | elapsed: 105.2min finished\n"
     ]
    },
    {
     "name": "stdout",
     "output_type": "stream",
     "text": [
      "Epoch 1/5\n",
      "1250/1250 [==============================] - 248s 198ms/step - loss: 1.7917 - accuracy: 0.3532\n",
      "Epoch 2/5\n",
      "1250/1250 [==============================] - 249s 199ms/step - loss: 1.5212 - accuracy: 0.4544\n",
      "Epoch 3/5\n",
      "1250/1250 [==============================] - 248s 198ms/step - loss: 1.3451 - accuracy: 0.5323\n",
      "Epoch 4/5\n",
      "1250/1250 [==============================] - 247s 198ms/step - loss: 1.1648 - accuracy: 0.6048\n",
      "Epoch 5/5\n",
      "1250/1250 [==============================] - 247s 198ms/step - loss: 0.9902 - accuracy: 0.6707\n"
     ]
    }
   ],
   "source": [
    "grid = RandomizedSearchCV(estimator=model1, param_distributions=param_grid,\n",
    "                              cv=2, verbose=1, n_iter=5)\n",
    "\n",
    "\n",
    "grid_result = grid.fit(in_train, out_train)"
   ]
  },
  {
   "cell_type": "code",
   "execution_count": null,
   "metadata": {
    "colab": {
     "base_uri": "https://localhost:8080/"
    },
    "id": "4IawaKhjbW-n",
    "outputId": "bdf70089-3183-4daf-d0c8-efdfb84cdcd3"
   },
   "outputs": [
    {
     "data": {
      "text/plain": [
       "{'embedding_dim': 100,\n",
       " 'kernel_size': 5,\n",
       " 'num_filters': 128,\n",
       " 'sequence_length': 200,\n",
       " 'vocab_size': 221610}"
      ]
     },
     "execution_count": 42,
     "metadata": {
      "tags": []
     },
     "output_type": "execute_result"
    }
   ],
   "source": [
    "grid_result.best_params_"
   ]
  },
  {
   "cell_type": "markdown",
   "metadata": {
    "id": "wlQPLlYAcvfM"
   },
   "source": [
    "### So here we have the best params from our gridsearch. As you can see there is a bid difference between train accuracy and validation accuracy (propably due to overfit), so I'm going to fix this malfunction and then I'm going to excecute the model with the best parameters and a bigger dataset, in order to have more represenative metrics scores"
   ]
  },
  {
   "cell_type": "markdown",
   "metadata": {
    "id": "DFCH9y0P4ulu"
   },
   "source": [
    "### First, in order to reduce overfitting I will try a much bigger dataset in training and then some mix up augmentation"
   ]
  },
  {
   "cell_type": "code",
   "execution_count": 32,
   "metadata": {
    "colab": {
     "base_uri": "https://localhost:8080/"
    },
    "id": "BkY2BtLh_Fq-",
    "outputId": "2bf4e1ef-99c7-4a14-926e-db513ca47cac"
   },
   "outputs": [
    {
     "name": "stdout",
     "output_type": "stream",
     "text": [
      "Collecting textaugment\n",
      "  Downloading https://files.pythonhosted.org/packages/2c/63/9960414280dba3d9eba332502231d69fdc8ba664a4bd3d46842ba8cf0ef2/textaugment-1.3.4-py3-none-any.whl\n",
      "Requirement already satisfied: numpy in /usr/local/lib/python3.6/dist-packages (from textaugment) (1.19.5)\n",
      "Collecting googletrans\n",
      "  Downloading https://files.pythonhosted.org/packages/71/3a/3b19effdd4c03958b90f40fe01c93de6d5280e03843cc5adf6956bfc9512/googletrans-3.0.0.tar.gz\n",
      "Requirement already satisfied: nltk in /usr/local/lib/python3.6/dist-packages (from textaugment) (3.2.5)\n",
      "Requirement already satisfied: gensim in /usr/local/lib/python3.6/dist-packages (from textaugment) (3.6.0)\n",
      "Requirement already satisfied: textblob in /usr/local/lib/python3.6/dist-packages (from textaugment) (0.15.3)\n",
      "Collecting httpx==0.13.3\n",
      "\u001b[?25l  Downloading https://files.pythonhosted.org/packages/54/b4/698b284c6aed4d7c2b4fe3ba5df1fcf6093612423797e76fbb24890dd22f/httpx-0.13.3-py3-none-any.whl (55kB)\n",
      "\u001b[K     |████████████████████████████████| 61kB 10.0MB/s \n",
      "\u001b[?25hRequirement already satisfied: six in /usr/local/lib/python3.6/dist-packages (from nltk->textaugment) (1.15.0)\n",
      "Requirement already satisfied: smart-open>=1.2.1 in /usr/local/lib/python3.6/dist-packages (from gensim->textaugment) (4.1.2)\n",
      "Requirement already satisfied: scipy>=0.18.1 in /usr/local/lib/python3.6/dist-packages (from gensim->textaugment) (1.4.1)\n",
      "Collecting sniffio\n",
      "  Downloading https://files.pythonhosted.org/packages/52/b0/7b2e028b63d092804b6794595871f936aafa5e9322dcaaad50ebf67445b3/sniffio-1.2.0-py3-none-any.whl\n",
      "Collecting rfc3986<2,>=1.3\n",
      "  Downloading https://files.pythonhosted.org/packages/78/be/7b8b99fd74ff5684225f50dd0e865393d2265656ef3b4ba9eaaaffe622b8/rfc3986-1.4.0-py2.py3-none-any.whl\n",
      "Requirement already satisfied: chardet==3.* in /usr/local/lib/python3.6/dist-packages (from httpx==0.13.3->googletrans->textaugment) (3.0.4)\n",
      "Collecting httpcore==0.9.*\n",
      "\u001b[?25l  Downloading https://files.pythonhosted.org/packages/dd/d5/e4ff9318693ac6101a2095e580908b591838c6f33df8d3ee8dd953ba96a8/httpcore-0.9.1-py3-none-any.whl (42kB)\n",
      "\u001b[K     |████████████████████████████████| 51kB 8.3MB/s \n",
      "\u001b[?25hRequirement already satisfied: certifi in /usr/local/lib/python3.6/dist-packages (from httpx==0.13.3->googletrans->textaugment) (2020.12.5)\n",
      "Collecting hstspreload\n",
      "\u001b[?25l  Downloading https://files.pythonhosted.org/packages/dd/50/606213e12fb49c5eb667df0936223dcaf461f94e215ea60244b2b1e9b039/hstspreload-2020.12.22-py3-none-any.whl (994kB)\n",
      "\u001b[K     |████████████████████████████████| 1.0MB 43.7MB/s \n",
      "\u001b[?25hRequirement already satisfied: idna==2.* in /usr/local/lib/python3.6/dist-packages (from httpx==0.13.3->googletrans->textaugment) (2.10)\n",
      "Collecting contextvars>=2.1; python_version < \"3.7\"\n",
      "  Downloading https://files.pythonhosted.org/packages/83/96/55b82d9f13763be9d672622e1b8106c85acb83edd7cc2fa5bc67cd9877e9/contextvars-2.4.tar.gz\n",
      "Collecting h11<0.10,>=0.8\n",
      "\u001b[?25l  Downloading https://files.pythonhosted.org/packages/5a/fd/3dad730b0f95e78aeeb742f96fa7bbecbdd56a58e405d3da440d5bfb90c6/h11-0.9.0-py2.py3-none-any.whl (53kB)\n",
      "\u001b[K     |████████████████████████████████| 61kB 11.0MB/s \n",
      "\u001b[?25hCollecting h2==3.*\n",
      "\u001b[?25l  Downloading https://files.pythonhosted.org/packages/25/de/da019bcc539eeab02f6d45836f23858ac467f584bfec7a526ef200242afe/h2-3.2.0-py2.py3-none-any.whl (65kB)\n",
      "\u001b[K     |████████████████████████████████| 71kB 12.6MB/s \n",
      "\u001b[?25hCollecting immutables>=0.9\n",
      "\u001b[?25l  Downloading https://files.pythonhosted.org/packages/4a/52/e64a14a99c509cbdfe0405e9f076aef0331cb9548a3efa1d5bacd524978a/immutables-0.15-cp36-cp36m-manylinux1_x86_64.whl (100kB)\n",
      "\u001b[K     |████████████████████████████████| 102kB 15.2MB/s \n",
      "\u001b[?25hCollecting hpack<4,>=3.0\n",
      "  Downloading https://files.pythonhosted.org/packages/8a/cc/e53517f4a1e13f74776ca93271caef378dadec14d71c61c949d759d3db69/hpack-3.0.0-py2.py3-none-any.whl\n",
      "Collecting hyperframe<6,>=5.2.0\n",
      "  Downloading https://files.pythonhosted.org/packages/19/0c/bf88182bcb5dce3094e2f3e4fe20db28a9928cb7bd5b08024030e4b140db/hyperframe-5.2.0-py2.py3-none-any.whl\n",
      "Building wheels for collected packages: googletrans, contextvars\n",
      "  Building wheel for googletrans (setup.py) ... \u001b[?25l\u001b[?25hdone\n",
      "  Created wheel for googletrans: filename=googletrans-3.0.0-cp36-none-any.whl size=15736 sha256=95486411d97bd5d14412fd553b1575662c33ada00fadc6aa7b5df39e74561e83\n",
      "  Stored in directory: /root/.cache/pip/wheels/28/1a/a7/eaf4d7a3417a0c65796c547cff4deb6d79c7d14c2abd29273e\n",
      "  Building wheel for contextvars (setup.py) ... \u001b[?25l\u001b[?25hdone\n",
      "  Created wheel for contextvars: filename=contextvars-2.4-cp36-none-any.whl size=7667 sha256=7e6b6205d52ace8220b0c712e25b7f119ca698d85e637a4a4dd45eb830305dee\n",
      "  Stored in directory: /root/.cache/pip/wheels/a5/7d/68/1ebae2668bda2228686e3c1cf16f2c2384cea6e9334ad5f6de\n",
      "Successfully built googletrans contextvars\n",
      "Installing collected packages: immutables, contextvars, sniffio, rfc3986, h11, hpack, hyperframe, h2, httpcore, hstspreload, httpx, googletrans, textaugment\n",
      "Successfully installed contextvars-2.4 googletrans-3.0.0 h11-0.9.0 h2-3.2.0 hpack-3.0.0 hstspreload-2020.12.22 httpcore-0.9.1 httpx-0.13.3 hyperframe-5.2.0 immutables-0.15 rfc3986-1.4.0 sniffio-1.2.0 textaugment-1.3.4\n"
     ]
    }
   ],
   "source": [
    "try:\n",
    "  import textaugment\n",
    "except ModuleNotFoundError:\n",
    "  !pip install textaugment\n",
    "  import textaugment\n",
    "from textaugment import MIXUP"
   ]
  },
  {
   "cell_type": "code",
   "execution_count": 40,
   "metadata": {
    "id": "hcPNorRL69-d"
   },
   "outputs": [],
   "source": [
    "speeches1 = train_dt_1['speech'].values"
   ]
  },
  {
   "cell_type": "code",
   "execution_count": 41,
   "metadata": {
    "id": "md1Wu8wJ69-w"
   },
   "outputs": [],
   "source": [
    "labels1 = train_dt_1['political_party'].values"
   ]
  },
  {
   "cell_type": "code",
   "execution_count": 42,
   "metadata": {
    "id": "oDJk24zA69-w"
   },
   "outputs": [],
   "source": [
    "speeches_train1, speeches_test1, labels_train1, labels_test1 = train_test_split(speeches1,labels1,test_size=0.2,random_state = 100)"
   ]
  },
  {
   "cell_type": "code",
   "execution_count": 43,
   "metadata": {
    "id": "qT4MD-c069-x"
   },
   "outputs": [],
   "source": [
    "vocab_size = 10000\n",
    "tokenizer = Tokenizer(num_words=vocab_size) #quite plane tokenizer because the preprossesing has already been done\n",
    "tokenizer.fit_on_texts(speeches_train1)"
   ]
  },
  {
   "cell_type": "code",
   "execution_count": 44,
   "metadata": {
    "id": "J5h8hr5r69-y"
   },
   "outputs": [],
   "source": [
    "in_train1  = tokenizer.texts_to_sequences(speeches_train1)\n",
    "in_test1 = tokenizer.texts_to_sequences(speeches_test1)"
   ]
  },
  {
   "cell_type": "code",
   "execution_count": 45,
   "metadata": {
    "id": "Sy9Pb5hQ69-y"
   },
   "outputs": [],
   "source": [
    "vocab_size = len(tokenizer.word_index) + 1\n",
    "sequence_length = 200\n",
    "\n",
    "in_train1 = pad_sequences(in_train1, padding='post', maxlen=sequence_length)\n",
    "in_test1 = pad_sequences(in_test1, padding='post', maxlen=sequence_length)"
   ]
  },
  {
   "cell_type": "code",
   "execution_count": 46,
   "metadata": {
    "colab": {
     "base_uri": "https://localhost:8080/"
    },
    "id": "oD-tqxy169-z",
    "outputId": "5848d592-f910-43d1-dd49-a7e4a07de68d"
   },
   "outputs": [
    {
     "data": {
      "text/plain": [
       "(400000, 200)"
      ]
     },
     "execution_count": 46,
     "metadata": {
      "tags": []
     },
     "output_type": "execute_result"
    }
   ],
   "source": [
    "in_train1.shape"
   ]
  },
  {
   "cell_type": "code",
   "execution_count": 47,
   "metadata": {
    "colab": {
     "base_uri": "https://localhost:8080/"
    },
    "id": "e16X91tu69-0",
    "outputId": "f9c1ec9c-183b-4cc8-c84e-ce6714dffc65"
   },
   "outputs": [
    {
     "data": {
      "text/plain": [
       "546911"
      ]
     },
     "execution_count": 47,
     "metadata": {
      "tags": []
     },
     "output_type": "execute_result"
    }
   ],
   "source": [
    "vocab_size"
   ]
  },
  {
   "cell_type": "code",
   "execution_count": 48,
   "metadata": {
    "id": "8yJQ77Ss69-0"
   },
   "outputs": [],
   "source": [
    "encoder = OneHotEncoder()\n",
    "labels_train1 = labels_train1.reshape(-1,1)\n",
    "labels_test1 = labels_test1.reshape(-1,1)\n",
    "\n",
    "out_train1 = encoder.fit_transform(labels_train1).toarray()\n",
    "out_test1 = encoder.fit_transform(labels_test1).toarray()"
   ]
  },
  {
   "cell_type": "code",
   "execution_count": 49,
   "metadata": {
    "colab": {
     "base_uri": "https://localhost:8080/"
    },
    "id": "7DyM5gtb69-1",
    "outputId": "0c88d7d3-4101-4b90-d4c5-d123728fbd2b"
   },
   "outputs": [
    {
     "data": {
      "text/plain": [
       "(400000, 10)"
      ]
     },
     "execution_count": 49,
     "metadata": {
      "tags": []
     },
     "output_type": "execute_result"
    }
   ],
   "source": [
    "out_train1.shape"
   ]
  },
  {
   "cell_type": "markdown",
   "metadata": {
    "id": "G03DlC-q8UYZ"
   },
   "source": [
    "#### Initialize mix up"
   ]
  },
  {
   "cell_type": "code",
   "execution_count": null,
   "metadata": {
    "id": "F-1ywnmP5lBi"
   },
   "outputs": [],
   "source": [
    "mixup = MIXUP()\n",
    "generator, step = mixup.flow(in_train1, out_train1, batch_size=batch_size, runs=1)"
   ]
  },
  {
   "cell_type": "markdown",
   "metadata": {
    "id": "14sQpFnAhl-_"
   },
   "source": [
    "### Finally I'm adding a Droupout layer in order to add some regularization "
   ]
  },
  {
   "cell_type": "code",
   "execution_count": 34,
   "metadata": {
    "colab": {
     "base_uri": "https://localhost:8080/"
    },
    "id": "QHwKS6d5crGw",
    "outputId": "334ba5de-728e-4876-9150-2e1c07dbdb92"
   },
   "outputs": [
    {
     "name": "stdout",
     "output_type": "stream",
     "text": [
      "Model: \"sequential_1\"\n",
      "_________________________________________________________________\n",
      "Layer (type)                 Output Shape              Param #   \n",
      "=================================================================\n",
      "embedding_1 (Embedding)      (None, 200, 100)          21830500  \n",
      "_________________________________________________________________\n",
      "dropout (Dropout)            (None, 200, 100)          0         \n",
      "_________________________________________________________________\n",
      "conv1d_1 (Conv1D)            (None, 196, 128)          64128     \n",
      "_________________________________________________________________\n",
      "global_max_pooling1d_1 (Glob (None, 128)               0         \n",
      "_________________________________________________________________\n",
      "dense_1 (Dense)              (None, 10)                1290      \n",
      "=================================================================\n",
      "Total params: 21,895,918\n",
      "Trainable params: 21,895,918\n",
      "Non-trainable params: 0\n",
      "_________________________________________________________________\n"
     ]
    }
   ],
   "source": [
    "embedding_dim = 100\n",
    "\n",
    "model = Sequential()\n",
    "model.add(layers.Embedding(input_dim=vocab_size, \n",
    "                           output_dim=embedding_dim, \n",
    "                           input_length=sequence_length))\n",
    "model.add(Dropout(0.3))\n",
    "model.add(layers.Conv1D(128, 5, activation='relu')) # also adding the new parameters from gridsearch\n",
    "model.add(layers.GlobalMaxPooling1D())\n",
    "model.add(layers.Dense(10, activation='softmax'))\n",
    "model.compile(optimizer='adam',\n",
    "              loss='categorical_crossentropy',\n",
    "              metrics=['accuracy'])\n",
    "model.summary()"
   ]
  },
  {
   "cell_type": "markdown",
   "metadata": {
    "id": "a0Zo8yMs8hYj"
   },
   "source": [
    "#### So time to see how our model is doing with the new modifications"
   ]
  },
  {
   "cell_type": "code",
   "execution_count": null,
   "metadata": {
    "id": "GmZUnAsp79Wa"
   },
   "outputs": [],
   "source": [
    "history = model.fit(generator, steps_per_epoch=step,\n",
    "          epochs=10,\n",
    "          validation_data=(in_test1, out_test1))"
   ]
  },
  {
   "cell_type": "markdown",
   "metadata": {
    "id": "Od62CsvCOggi"
   },
   "source": [
    "### Unfortunatelly, the comand above never manage to get executed. Excecution had to stop in every try due to ram overload (tried in colab). So unfortunately we have to continue with the sample of the data"
   ]
  },
  {
   "cell_type": "code",
   "execution_count": 33,
   "metadata": {
    "id": "kbVWuZRBPGEJ"
   },
   "outputs": [],
   "source": [
    "mixup = MIXUP()\n",
    "generator, step = mixup.flow(in_train, out_train, batch_size=batch_size, runs=1)"
   ]
  },
  {
   "cell_type": "code",
   "execution_count": 53,
   "metadata": {
    "colab": {
     "base_uri": "https://localhost:8080/"
    },
    "id": "7Q6x1Au4PPxA",
    "outputId": "31a49b67-0df3-4ef2-84f2-081727ba72b6"
   },
   "outputs": [
    {
     "name": "stdout",
     "output_type": "stream",
     "text": [
      "Epoch 1/10\n",
      "1250/1250 [==============================] - 624s 493ms/step - loss: 1.8459 - accuracy: 0.3320 - val_loss: 1.7625 - val_accuracy: 0.3625\n",
      "Epoch 2/10\n",
      "1250/1250 [==============================] - 611s 489ms/step - loss: 1.7926 - accuracy: 0.3472 - val_loss: 1.7465 - val_accuracy: 0.3698\n",
      "Epoch 3/10\n",
      "1250/1250 [==============================] - 612s 490ms/step - loss: 1.7781 - accuracy: 0.3525 - val_loss: 1.7223 - val_accuracy: 0.3748\n",
      "Epoch 4/10\n",
      "1250/1250 [==============================] - 612s 489ms/step - loss: 1.7780 - accuracy: 0.3486 - val_loss: 1.7099 - val_accuracy: 0.3744\n",
      "Epoch 5/10\n",
      "1250/1250 [==============================] - 611s 489ms/step - loss: 1.7722 - accuracy: 0.3498 - val_loss: 1.7026 - val_accuracy: 0.3704\n",
      "Epoch 6/10\n",
      "1250/1250 [==============================] - 611s 489ms/step - loss: 1.7653 - accuracy: 0.3555 - val_loss: 1.6919 - val_accuracy: 0.3795\n",
      "Epoch 7/10\n",
      "1250/1250 [==============================] - 611s 489ms/step - loss: 1.7682 - accuracy: 0.3535 - val_loss: 1.6939 - val_accuracy: 0.3791\n",
      "Epoch 8/10\n",
      "1250/1250 [==============================] - 614s 491ms/step - loss: 1.7601 - accuracy: 0.3543 - val_loss: 1.7021 - val_accuracy: 0.3786\n",
      "Epoch 9/10\n",
      "1250/1250 [==============================] - 613s 490ms/step - loss: 1.7588 - accuracy: 0.3539 - val_loss: 1.6939 - val_accuracy: 0.3794\n",
      "Epoch 10/10\n",
      "1250/1250 [==============================] - 616s 493ms/step - loss: 1.7535 - accuracy: 0.3535 - val_loss: 1.6854 - val_accuracy: 0.3771\n"
     ]
    }
   ],
   "source": [
    "history = model.fit(generator, steps_per_epoch=step,\n",
    "          epochs=10,\n",
    "          validation_data=(in_test, out_test))"
   ]
  },
  {
   "cell_type": "code",
   "execution_count": 54,
   "metadata": {
    "colab": {
     "base_uri": "https://localhost:8080/"
    },
    "id": "xgCkKPqZFMPf",
    "outputId": "3bd30db6-2ef4-4ae1-ccc7-fe43b080059b"
   },
   "outputs": [
    {
     "name": "stdout",
     "output_type": "stream",
     "text": [
      "    0     0.667  0.007\n",
      "    1     0.316  0.014\n",
      "    2     0.667  0.008\n",
      "    3     0.400  0.006\n",
      "    4     0.410  0.299\n",
      "    5     0.677  0.028\n",
      "    6     0.342  0.211\n",
      "    7     0.409  0.721\n",
      "    8     0.305  0.304\n",
      "    9     0.318  0.197\n",
      "precision total: 0.3178262659530672\n",
      "recall total: 0.19658772599949073\n"
     ]
    }
   ],
   "source": [
    "parties_pred = model.predict(in_test)\n",
    "parties_pred = parties_pred\n",
    "right_parties = out_test\n",
    "\n",
    "cm = confusion_matrix(out_test.argmax(axis=1),parties_pred.argmax(axis=1))\n",
    "\n",
    "    print(\"label precision recall\")\n",
    "for label in range(10):\n",
    "    print(f\"{label:5d} {precision(label, cm):9.3f} {recall(label, cm):6.3f}\")\n",
    "print(\"precision total:\", precision_macro_average(cm))\n",
    "\n",
    "print(\"recall total:\", recall_macro_average(cm))    "
   ]
  },
  {
   "cell_type": "markdown",
   "metadata": {
    "id": "rRqUmeEdeNEY"
   },
   "source": [
    "### As it seems I've reach the point of underfit this time. So I'm going to increase the number of epochs and also add a ButchNormalization after the activation function in case the 20 epochs proven too many"
   ]
  },
  {
   "cell_type": "code",
   "execution_count": 35,
   "metadata": {
    "colab": {
     "base_uri": "https://localhost:8080/"
    },
    "id": "PZ0yy4bwPWZV",
    "outputId": "5e29ab20-cd80-4b16-ac74-10a88682bcac"
   },
   "outputs": [
    {
     "name": "stdout",
     "output_type": "stream",
     "text": [
      "Model: \"sequential_2\"\n",
      "_________________________________________________________________\n",
      "Layer (type)                 Output Shape              Param #   \n",
      "=================================================================\n",
      "embedding_2 (Embedding)      (None, 200, 100)          21830500  \n",
      "_________________________________________________________________\n",
      "dropout_1 (Dropout)          (None, 200, 100)          0         \n",
      "_________________________________________________________________\n",
      "conv1d_2 (Conv1D)            (None, 196, 128)          64128     \n",
      "_________________________________________________________________\n",
      "batch_normalization (BatchNo (None, 196, 128)          512       \n",
      "_________________________________________________________________\n",
      "global_max_pooling1d_2 (Glob (None, 128)               0         \n",
      "_________________________________________________________________\n",
      "dense_2 (Dense)              (None, 10)                1290      \n",
      "=================================================================\n",
      "Total params: 21,896,430\n",
      "Trainable params: 21,896,174\n",
      "Non-trainable params: 256\n",
      "_________________________________________________________________\n"
     ]
    }
   ],
   "source": [
    "embedding_dim = 100\n",
    "\n",
    "model = Sequential()\n",
    "model.add(layers.Embedding(input_dim=vocab_size, \n",
    "                           output_dim=embedding_dim, \n",
    "                           input_length=sequence_length))\n",
    "model.add(Dropout(0.3))\n",
    "model.add(layers.Conv1D(128, 5, activation='relu')) # also adding the new parameters from gridsearch\n",
    "model.add(BatchNormalization())\n",
    "model.add(layers.GlobalMaxPooling1D())\n",
    "model.add(layers.Dense(10, activation='softmax'))\n",
    "model.compile(optimizer='adam',\n",
    "              loss='categorical_crossentropy',\n",
    "              metrics=['accuracy'])\n",
    "model.summary()"
   ]
  },
  {
   "cell_type": "code",
   "execution_count": 36,
   "metadata": {
    "colab": {
     "base_uri": "https://localhost:8080/"
    },
    "id": "IRqadyZKfTOA",
    "outputId": "59a2988b-4d8b-4ee6-8743-7db29e0014c8"
   },
   "outputs": [
    {
     "name": "stdout",
     "output_type": "stream",
     "text": [
      "Epoch 1/20\n",
      "1250/1250 [==============================] - 260s 202ms/step - loss: 1.9386 - accuracy: 0.3019 - val_loss: 1.8112 - val_accuracy: 0.3543\n",
      "Epoch 2/20\n",
      "1250/1250 [==============================] - 249s 199ms/step - loss: 1.8162 - accuracy: 0.3380 - val_loss: 1.7736 - val_accuracy: 0.3595\n",
      "Epoch 3/20\n",
      "1250/1250 [==============================] - 247s 198ms/step - loss: 1.8004 - accuracy: 0.3428 - val_loss: 1.7684 - val_accuracy: 0.3677\n",
      "Epoch 4/20\n",
      "1250/1250 [==============================] - 246s 197ms/step - loss: 1.7914 - accuracy: 0.3457 - val_loss: 1.7626 - val_accuracy: 0.3423\n",
      "Epoch 5/20\n",
      "1250/1250 [==============================] - 246s 197ms/step - loss: 1.7834 - accuracy: 0.3475 - val_loss: 1.7510 - val_accuracy: 0.3618\n",
      "Epoch 6/20\n",
      "1250/1250 [==============================] - 248s 198ms/step - loss: 1.7795 - accuracy: 0.3495 - val_loss: 1.7584 - val_accuracy: 0.3564\n",
      "Epoch 7/20\n",
      "1250/1250 [==============================] - 248s 198ms/step - loss: 1.7764 - accuracy: 0.3535 - val_loss: 1.7436 - val_accuracy: 0.3694\n",
      "Epoch 8/20\n",
      "1250/1250 [==============================] - 247s 198ms/step - loss: 1.7709 - accuracy: 0.3548 - val_loss: 1.7270 - val_accuracy: 0.3702\n",
      "Epoch 9/20\n",
      "1250/1250 [==============================] - 247s 198ms/step - loss: 1.7712 - accuracy: 0.3546 - val_loss: 1.7247 - val_accuracy: 0.3718\n",
      "Epoch 10/20\n",
      "1250/1250 [==============================] - 250s 200ms/step - loss: 1.7563 - accuracy: 0.3576 - val_loss: 1.7166 - val_accuracy: 0.3768\n",
      "Epoch 11/20\n",
      "1250/1250 [==============================] - 241s 193ms/step - loss: 1.7697 - accuracy: 0.3532 - val_loss: 1.7249 - val_accuracy: 0.3750\n",
      "Epoch 12/20\n",
      "1250/1250 [==============================] - 248s 198ms/step - loss: 1.7695 - accuracy: 0.3535 - val_loss: 1.7049 - val_accuracy: 0.3781\n",
      "Epoch 13/20\n",
      "1250/1250 [==============================] - 242s 193ms/step - loss: 1.7506 - accuracy: 0.3607 - val_loss: 1.7000 - val_accuracy: 0.3801\n",
      "Epoch 14/20\n",
      "1250/1250 [==============================] - 249s 199ms/step - loss: 1.7603 - accuracy: 0.3601 - val_loss: 1.7023 - val_accuracy: 0.3783\n",
      "Epoch 15/20\n",
      "1250/1250 [==============================] - 242s 194ms/step - loss: 1.7629 - accuracy: 0.3564 - val_loss: 1.6975 - val_accuracy: 0.3770\n",
      "Epoch 16/20\n",
      "1250/1250 [==============================] - 248s 199ms/step - loss: 1.7543 - accuracy: 0.3603 - val_loss: 1.6992 - val_accuracy: 0.3766\n",
      "Epoch 17/20\n",
      "1250/1250 [==============================] - 242s 194ms/step - loss: 1.7536 - accuracy: 0.3608 - val_loss: 1.6922 - val_accuracy: 0.3787\n",
      "Epoch 18/20\n",
      "1250/1250 [==============================] - 249s 199ms/step - loss: 1.7529 - accuracy: 0.3576 - val_loss: 1.6925 - val_accuracy: 0.3816\n",
      "Epoch 19/20\n",
      "1250/1250 [==============================] - 241s 193ms/step - loss: 1.7469 - accuracy: 0.3604 - val_loss: 1.6970 - val_accuracy: 0.3830\n",
      "Epoch 20/20\n",
      "1250/1250 [==============================] - 241s 193ms/step - loss: 1.7456 - accuracy: 0.3633 - val_loss: 1.6845 - val_accuracy: 0.3819\n"
     ]
    }
   ],
   "source": [
    "history = model.fit(generator, steps_per_epoch=step,\n",
    "          epochs=20,\n",
    "          validation_data=(in_test, out_test))"
   ]
  },
  {
   "cell_type": "code",
   "execution_count": 37,
   "metadata": {
    "colab": {
     "base_uri": "https://localhost:8080/"
    },
    "id": "Nb2853zTFF06",
    "outputId": "e65b6425-124e-4bf4-b4f4-b48a1dc877a8"
   },
   "outputs": [
    {
     "name": "stdout",
     "output_type": "stream",
     "text": [
      "    0     0.225  0.166\n",
      "    1     0.000  0.000\n",
      "    2       nan  0.000\n",
      "    3       nan  0.000\n",
      "    4     0.384  0.295\n",
      "    5     0.778  0.019\n",
      "    6     0.360  0.207\n",
      "    7     0.401  0.808\n",
      "    8     0.355  0.099\n",
      "    9     0.335  0.249\n",
      "precision total: 0.33524645509790674\n",
      "recall total: 0.2491844416562108\n"
     ]
    },
    {
     "name": "stderr",
     "output_type": "stream",
     "text": [
      "/usr/local/lib/python3.6/dist-packages/ipykernel_launcher.py:9: RuntimeWarning: invalid value encountered in long_scalars\n",
      "  if __name__ == '__main__':\n"
     ]
    }
   ],
   "source": [
    "parties_pred = model.predict(in_test)\n",
    "parties_pred = parties_pred\n",
    "right_parties = out_test\n",
    "\n",
    "cm = confusion_matrix(out_test.argmax(axis=1),parties_pred.argmax(axis=1))\n",
    "\n",
    "    print(\"label precision recall\")\n",
    "for label in range(10):\n",
    "    print(f\"{label:5d} {precision(label, cm):9.3f} {recall(label, cm):6.3f}\")\n",
    "print(\"precision total:\", precision_macro_average(cm))\n",
    "\n",
    "print(\"recall total:\", recall_macro_average(cm))    "
   ]
  },
  {
   "cell_type": "markdown",
   "metadata": {
    "id": "i6eI8u_ey_fj"
   },
   "source": [
    "#### As you can see the results are pretty much the same, that make sense accualy if you consider that batch normalization and dropout layers, both reduce over fit and the number of 20 epochs was not that high in order to justify the use of them simultaneously. So for the last try I will only use batch_normalization layer with 15 epochs"
   ]
  },
  {
   "cell_type": "code",
   "execution_count": 35,
   "metadata": {
    "colab": {
     "base_uri": "https://localhost:8080/"
    },
    "id": "pUm9L_Tqfciw",
    "outputId": "45c253a8-5404-4a68-cb90-a8763e372bb3"
   },
   "outputs": [
    {
     "name": "stdout",
     "output_type": "stream",
     "text": [
      "Model: \"sequential_1\"\n",
      "_________________________________________________________________\n",
      "Layer (type)                 Output Shape              Param #   \n",
      "=================================================================\n",
      "embedding_1 (Embedding)      (None, 200, 100)          22228400  \n",
      "_________________________________________________________________\n",
      "conv1d_1 (Conv1D)            (None, 196, 128)          64128     \n",
      "_________________________________________________________________\n",
      "batch_normalization (BatchNo (None, 196, 128)          512       \n",
      "_________________________________________________________________\n",
      "global_max_pooling1d_1 (Glob (None, 128)               0         \n",
      "_________________________________________________________________\n",
      "dense_1 (Dense)              (None, 10)                1290      \n",
      "=================================================================\n",
      "Total params: 22,294,330\n",
      "Trainable params: 22,294,074\n",
      "Non-trainable params: 256\n",
      "_________________________________________________________________\n"
     ]
    }
   ],
   "source": [
    "embedding_dim = 100\n",
    "\n",
    "model = Sequential()\n",
    "model.add(layers.Embedding(input_dim=vocab_size, \n",
    "                           output_dim=embedding_dim, \n",
    "                           input_length=sequence_length))\n",
    "model.add(layers.Conv1D(128, 5, activation='relu')) # also adding the new parameters from gridsearch\n",
    "model.add(BatchNormalization())\n",
    "model.add(layers.GlobalMaxPooling1D())\n",
    "model.add(layers.Dense(10, activation='softmax'))\n",
    "model.compile(optimizer='adam',\n",
    "              loss='categorical_crossentropy',\n",
    "              metrics=['accuracy'])\n",
    "model.summary()"
   ]
  },
  {
   "cell_type": "code",
   "execution_count": 39,
   "metadata": {
    "colab": {
     "base_uri": "https://localhost:8080/"
    },
    "id": "MEYrUqT00WFi",
    "outputId": "0e169a57-a0a4-4c71-bab8-2b5d1c942887"
   },
   "outputs": [
    {
     "name": "stdout",
     "output_type": "stream",
     "text": [
      "Epoch 1/15\n",
      "1250/1250 [==============================] - 247s 197ms/step - loss: 1.9005 - accuracy: 0.3094 - val_loss: 1.7726 - val_accuracy: 0.3502\n",
      "Epoch 2/15\n",
      "1250/1250 [==============================] - 241s 193ms/step - loss: 1.8119 - accuracy: 0.3391 - val_loss: 1.7478 - val_accuracy: 0.3605\n",
      "Epoch 3/15\n",
      "1250/1250 [==============================] - 245s 196ms/step - loss: 1.7874 - accuracy: 0.3447 - val_loss: 1.7276 - val_accuracy: 0.3632\n",
      "Epoch 4/15\n",
      "1250/1250 [==============================] - 246s 197ms/step - loss: 1.7767 - accuracy: 0.3491 - val_loss: 1.7115 - val_accuracy: 0.3708\n",
      "Epoch 5/15\n",
      "1250/1250 [==============================] - 243s 194ms/step - loss: 1.7688 - accuracy: 0.3520 - val_loss: 1.7031 - val_accuracy: 0.3690\n",
      "Epoch 6/15\n",
      "1250/1250 [==============================] - 246s 197ms/step - loss: 1.7641 - accuracy: 0.3513 - val_loss: 1.6988 - val_accuracy: 0.3724\n",
      "Epoch 7/15\n",
      "1250/1250 [==============================] - 243s 194ms/step - loss: 1.7572 - accuracy: 0.3580 - val_loss: 1.7087 - val_accuracy: 0.3710\n",
      "Epoch 8/15\n",
      "1250/1250 [==============================] - 248s 199ms/step - loss: 1.7547 - accuracy: 0.3579 - val_loss: 1.6907 - val_accuracy: 0.3793\n",
      "Epoch 9/15\n",
      "1250/1250 [==============================] - 243s 194ms/step - loss: 1.7577 - accuracy: 0.3559 - val_loss: 1.6811 - val_accuracy: 0.3796\n",
      "Epoch 10/15\n",
      "1250/1250 [==============================] - 251s 200ms/step - loss: 1.7495 - accuracy: 0.3572 - val_loss: 1.6968 - val_accuracy: 0.3764\n",
      "Epoch 11/15\n",
      "1250/1250 [==============================] - 242s 194ms/step - loss: 1.7404 - accuracy: 0.3603 - val_loss: 1.6802 - val_accuracy: 0.3810\n",
      "Epoch 12/15\n",
      "1250/1250 [==============================] - 242s 194ms/step - loss: 1.7381 - accuracy: 0.3631 - val_loss: 1.6740 - val_accuracy: 0.3819\n",
      "Epoch 13/15\n",
      "1250/1250 [==============================] - 242s 193ms/step - loss: 1.7335 - accuracy: 0.3673 - val_loss: 1.6738 - val_accuracy: 0.3814\n",
      "Epoch 14/15\n",
      "1250/1250 [==============================] - 244s 195ms/step - loss: 1.7376 - accuracy: 0.3636 - val_loss: 1.6670 - val_accuracy: 0.3812\n",
      "Epoch 15/15\n",
      "1250/1250 [==============================] - 241s 193ms/step - loss: 1.7386 - accuracy: 0.3648 - val_loss: 1.6634 - val_accuracy: 0.3810\n"
     ]
    }
   ],
   "source": [
    "history = model.fit(generator, steps_per_epoch=step,\n",
    "          epochs=15,\n",
    "          validation_data=(in_test, out_test))"
   ]
  },
  {
   "cell_type": "code",
   "execution_count": 41,
   "metadata": {
    "colab": {
     "base_uri": "https://localhost:8080/"
    },
    "id": "3Ql7W8zv7wtA",
    "outputId": "53db2559-82f8-4b77-e7c9-9dee5afc54c6"
   },
   "outputs": [
    {
     "name": "stdout",
     "output_type": "stream",
     "text": [
      "    0     0.239  0.180\n",
      "    1     0.000  0.000\n",
      "    2     0.100  0.001\n",
      "    3       nan  0.000\n",
      "    4     0.380  0.317\n",
      "    5     0.769  0.027\n",
      "    6     0.404  0.251\n",
      "    7     0.409  0.741\n",
      "    8     0.318  0.241\n",
      "    9     0.347  0.197\n",
      "precision total: 0.3468488320846187\n",
      "recall total: 0.19749058971141784\n"
     ]
    },
    {
     "name": "stderr",
     "output_type": "stream",
     "text": [
      "/usr/local/lib/python3.6/dist-packages/ipykernel_launcher.py:9: RuntimeWarning: invalid value encountered in long_scalars\n",
      "  if __name__ == '__main__':\n"
     ]
    }
   ],
   "source": [
    "parties_pred = model.predict(in_test)\n",
    "parties_pred = parties_pred\n",
    "right_parties = out_test\n",
    "\n",
    "cm = confusion_matrix(out_test.argmax(axis=1),parties_pred.argmax(axis=1))\n",
    "\n",
    "    print(\"label precision recall\")\n",
    "for label in range(10):\n",
    "    print(f\"{label:5d} {precision(label, cm):9.3f} {recall(label, cm):6.3f}\")\n",
    "print(\"precision total:\", precision_macro_average(cm))\n",
    "\n",
    "print(\"recall total:\", recall_macro_average(cm))    "
   ]
  },
  {
   "cell_type": "markdown",
   "metadata": {
    "id": "q7t85fm3Giih"
   },
   "source": [
    "### Let's try the last model without mix up in case it is this that makes results worse"
   ]
  },
  {
   "cell_type": "code",
   "execution_count": 36,
   "metadata": {
    "colab": {
     "base_uri": "https://localhost:8080/"
    },
    "id": "-yxJ29Hs9vYW",
    "outputId": "f552d483-5eea-4b36-bfc6-760976c662f1"
   },
   "outputs": [
    {
     "name": "stdout",
     "output_type": "stream",
     "text": [
      "Epoch 1/15\n",
      "1250/1250 [==============================] - 264s 205ms/step - loss: 1.7696 - accuracy: 0.3563 - val_loss: 1.6183 - val_accuracy: 0.4076\n",
      "Epoch 2/15\n",
      "1250/1250 [==============================] - 256s 205ms/step - loss: 1.3580 - accuracy: 0.5167 - val_loss: 1.6788 - val_accuracy: 0.4032\n",
      "Epoch 3/15\n",
      "1250/1250 [==============================] - 254s 203ms/step - loss: 1.0929 - accuracy: 0.6184 - val_loss: 1.8001 - val_accuracy: 0.3828\n",
      "Epoch 4/15\n",
      "1250/1250 [==============================] - 252s 202ms/step - loss: 0.8938 - accuracy: 0.6888 - val_loss: 2.0242 - val_accuracy: 0.3819\n"
     ]
    }
   ],
   "source": [
    "callback = tf.keras.callbacks.EarlyStopping(monitor='val_accuracy', patience=3)\n",
    "\n",
    "history = model.fit(in_train, out_train,\n",
    "                    epochs=15,\n",
    "                    validation_data=(in_test, out_test),\n",
    "                    callbacks=[callback],\n",
    "                    batch_size=batch_size)"
   ]
  },
  {
   "cell_type": "code",
   "execution_count": 37,
   "metadata": {
    "colab": {
     "base_uri": "https://localhost:8080/"
    },
    "id": "X2Q52CW4-gQa",
    "outputId": "1132e8c3-a010-470c-b87e-b1e71ed30a5d"
   },
   "outputs": [
    {
     "name": "stdout",
     "output_type": "stream",
     "text": [
      "    0     0.212  0.043\n",
      "    1     0.241  0.114\n",
      "    2     0.320  0.057\n",
      "    3     0.145  0.068\n",
      "    4     0.344  0.450\n",
      "    5     0.180  0.116\n",
      "    6     0.377  0.300\n",
      "    7     0.479  0.558\n",
      "    8     0.383  0.208\n",
      "    9     0.306  0.470\n",
      "precision total: 0.30566768932665905\n",
      "recall total: 0.4703105590062112\n"
     ]
    }
   ],
   "source": [
    "parties_pred = model.predict(in_test)\n",
    "parties_pred = parties_pred\n",
    "right_parties = out_test\n",
    "\n",
    "cm = confusion_matrix(out_test.argmax(axis=1),parties_pred.argmax(axis=1))\n",
    "\n",
    "def precision(labels, confusion_matrix):\n",
    "    col = confusion_matrix[:, label]\n",
    "    return confusion_matrix[label, label] / col.sum()\n",
    "    \n",
    "def recall(labels, confusion_matrix):\n",
    "    row = confusion_matrix[label, :]\n",
    "    return confusion_matrix[label, label] / row.sum()\n",
    "\n",
    "def precision_macro_average(confusion_matrix):\n",
    "    rows, columns = confusion_matrix.shape\n",
    "    sum_of_precisions = 0\n",
    "    for label in range(rows):\n",
    "        sum_of_precisions += precision(label, confusion_matrix)\n",
    "    return sum_of_precisions / rows\n",
    "\n",
    "def recall_macro_average(confusion_matrix):\n",
    "    rows, columns = confusion_matrix.shape\n",
    "    sum_of_recalls = 0\n",
    "    for label in range(columns):\n",
    "        sum_of_recalls += recall(label, confusion_matrix)\n",
    "    return sum_of_recalls / columns\n",
    "\n",
    "    print(\"label precision recall\")\n",
    "for label in range(10):\n",
    "    print(f\"{label:5d} {precision(label, cm):9.3f} {recall(label, cm):6.3f}\")\n",
    "print(\"precision total:\", precision_macro_average(cm))\n",
    "\n",
    "print(\"recall total:\", recall_macro_average(cm))   \n",
    "\n"
   ]
  },
  {
   "cell_type": "code",
   "execution_count": 59,
   "metadata": {
    "colab": {
     "base_uri": "https://localhost:8080/"
    },
    "id": "Rxr7quWo9kXm",
    "outputId": "a9cbe250-d5a6-481d-e4b4-535bd0509d93"
   },
   "outputs": [
    {
     "name": "stdout",
     "output_type": "stream",
     "text": [
      "0.3704695965974996\n"
     ]
    }
   ],
   "source": [
    "pre = 0.3056\n",
    "rec = 0.4703\n",
    "\n",
    "F1 = 2 * (pre * rec) / (pre + rec)\n",
    "print(F1)"
   ]
  },
  {
   "cell_type": "markdown",
   "metadata": {
    "id": "AXZLeYvOFnMK"
   },
   "source": [
    "### Finaly lets try a LSTM"
   ]
  },
  {
   "cell_type": "code",
   "execution_count": 55,
   "metadata": {
    "colab": {
     "base_uri": "https://localhost:8080/"
    },
    "id": "w61kLhmyEcJC",
    "outputId": "c995456f-f4fd-4a0c-a39d-3a9cd7ee48be"
   },
   "outputs": [
    {
     "name": "stdout",
     "output_type": "stream",
     "text": [
      "WARNING:tensorflow:Layer lstm_3 will not use cuDNN kernel since it doesn't meet the cuDNN kernel criteria. It will use generic GPU kernel as fallback when running on GPU\n",
      "Epoch 1/10\n",
      "1125/1125 [==============================] - 502s 445ms/step - loss: 1.8671 - accuracy: 0.3228 - val_loss: 1.8172 - val_accuracy: 0.3524\n",
      "Epoch 2/10\n",
      "1125/1125 [==============================] - 494s 439ms/step - loss: 1.7954 - accuracy: 0.3575 - val_loss: 1.7709 - val_accuracy: 0.3605\n",
      "Epoch 3/10\n",
      "1125/1125 [==============================] - 492s 438ms/step - loss: 1.6795 - accuracy: 0.4012 - val_loss: 1.7108 - val_accuracy: 0.3859\n",
      "Epoch 4/10\n",
      "1125/1125 [==============================] - 491s 436ms/step - loss: 1.5637 - accuracy: 0.4428 - val_loss: 1.6929 - val_accuracy: 0.4029\n",
      "Epoch 5/10\n",
      "1125/1125 [==============================] - 492s 437ms/step - loss: 1.4938 - accuracy: 0.4624 - val_loss: 1.7186 - val_accuracy: 0.4024\n",
      "Epoch 6/10\n",
      "1125/1125 [==============================] - 491s 437ms/step - loss: 1.4459 - accuracy: 0.4802 - val_loss: 1.7366 - val_accuracy: 0.4039\n",
      "Epoch 7/10\n",
      "1125/1125 [==============================] - 490s 436ms/step - loss: 1.3946 - accuracy: 0.5023 - val_loss: 1.7636 - val_accuracy: 0.4042\n"
     ]
    }
   ],
   "source": [
    "model = Sequential()\n",
    "model.add(layers.Embedding(input_dim=vocab_size, \n",
    "                           output_dim=embedding_dim, \n",
    "                           input_length=sequence_length))\n",
    "model.add(SpatialDropout1D(0.2))\n",
    "model.add(BatchNormalization())\n",
    "model.add(LSTM(100, dropout=0.2, recurrent_dropout=0.2))\n",
    "model.add(Dense(10, activation='softmax'))\n",
    "model.compile(loss='categorical_crossentropy', optimizer='adam', metrics=['accuracy'])\n",
    "\n",
    "epochs = 10\n",
    "batch_size = 64\n",
    "\n",
    "history = model.fit(in_train, out_train, epochs=epochs, batch_size=batch_size,validation_split=0.1,callbacks=[EarlyStopping(monitor='val_accuracy', patience=3, min_delta=0.005)])"
   ]
  },
  {
   "cell_type": "code",
   "execution_count": 56,
   "metadata": {
    "colab": {
     "base_uri": "https://localhost:8080/"
    },
    "id": "zyiSMH8E6ltK",
    "outputId": "f1914a3f-1755-4d5e-9028-9e4c4ca850ad"
   },
   "outputs": [
    {
     "name": "stdout",
     "output_type": "stream",
     "text": [
      "label precision recall\n",
      "    0     0.191  0.170\n",
      "    1     0.000  0.000\n",
      "    2     0.051  0.004\n",
      "    3     0.333  0.014\n",
      "    4     0.412  0.442\n",
      "    5     0.179  0.031\n",
      "    6     0.384  0.326\n",
      "    7     0.447  0.693\n",
      "    8     0.358  0.191\n",
      "    9     0.343  0.350\n",
      "precision total: 0.34269662921348315\n",
      "recall total: 0.35031210986267164\n"
     ]
    }
   ],
   "source": [
    "parties_pred = model.predict(in_test)\n",
    "parties_pred = parties_pred\n",
    "right_parties = out_test\n",
    "\n",
    "cm = confusion_matrix(out_test.argmax(axis=1),parties_pred.argmax(axis=1))\n",
    "\n",
    "print(\"label precision recall\")\n",
    "for label in range(10):\n",
    "    print(f\"{label:5d} {precision(label, cm):9.3f} {recall(label, cm):6.3f}\")\n",
    "print(\"precision total:\", precision_macro_average(cm))\n",
    "\n",
    "print(\"recall total:\", recall_macro_average(cm))    "
   ]
  },
  {
   "cell_type": "code",
   "execution_count": 58,
   "metadata": {
    "colab": {
     "base_uri": "https://localhost:8080/"
    },
    "id": "HmJqAdnZGmNw",
    "outputId": "394573af-1ce1-46b4-d62a-c7c52dfadc40"
   },
   "outputs": [
    {
     "name": "stdout",
     "output_type": "stream",
     "text": [
      "0.3464583261183261\n"
     ]
    }
   ],
   "source": [
    "pre = 0.3427\n",
    "rec = 0.3503\n",
    "\n",
    "F1 = 2 * (pre * rec) / (pre + rec)\n",
    "print(F1)"
   ]
  },
  {
   "cell_type": "markdown",
   "metadata": {
    "id": "GOWNHphWH3lm"
   },
   "source": [
    "## So, in coclusion, after all this work, the best model was the first one. It does overfit a bit, as others, but it has the best F1 score in the validation. Well, some times, the simplest answer is the best answer"
   ]
  }
 ],
 "metadata": {
  "kernelspec": {
   "display_name": "Python 3",
   "language": "python",
   "name": "python3"
  },
  "language_info": {
   "codemirror_mode": {
    "name": "ipython",
    "version": 3
   },
   "file_extension": ".py",
   "mimetype": "text/x-python",
   "name": "python",
   "nbconvert_exporter": "python",
   "pygments_lexer": "ipython3",
   "version": "3.7.6"
  }
 },
 "nbformat": 4,
 "nbformat_minor": 4
}
